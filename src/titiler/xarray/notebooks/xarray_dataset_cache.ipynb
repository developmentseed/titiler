{
 "cells": [
  {
   "cell_type": "markdown",
   "metadata": {},
   "source": [
    "## Add Caching Layer for Xarray Dataset"
   ]
  },
  {
   "cell_type": "code",
   "execution_count": 25,
   "metadata": {},
   "outputs": [
    {
     "name": "stdout",
     "output_type": "stream",
     "text": [
      "<diskcache.core.Cache object at 0x12f6190a0>\n"
     ]
    }
   ],
   "source": [
    "\n",
    "import pickle\n",
    "from typing import Any, Callable, List, Optional\n",
    "\n",
    "import attr\n",
    "import xarray\n",
    "from morecantile import TileMatrixSet\n",
    "from rio_tiler.constants import WEB_MERCATOR_TMS\n",
    "from rio_tiler.io.xarray import XarrayReader\n",
    "\n",
    "from titiler.xarray.io import xarray_open_dataset, get_variable\n",
    "\n",
    "from diskcache import Cache\n",
    "\n",
    "cache_client = Cache()\n",
    "\n",
    "\n",
    "@attr.s\n",
    "class CustomReader(XarrayReader):\n",
    "    \"\"\"Reader: Open Zarr file and access DataArray.\"\"\"\n",
    "\n",
    "    src_path: str = attr.ib()\n",
    "    variable: str = attr.ib()\n",
    "\n",
    "    # xarray.Dataset options\n",
    "    opener: Callable[..., xarray.Dataset] = attr.ib(default=xarray_open_dataset)\n",
    "\n",
    "    group: Optional[Any] = attr.ib(default=None)\n",
    "    decode_times: bool = attr.ib(default=False)\n",
    "\n",
    "    # xarray.DataArray options\n",
    "    datetime: Optional[str] = attr.ib(default=None)\n",
    "    drop_dim: Optional[str] = attr.ib(default=None)\n",
    "\n",
    "    tms: TileMatrixSet = attr.ib(default=WEB_MERCATOR_TMS)\n",
    "\n",
    "    ds: xarray.Dataset = attr.ib(init=False)\n",
    "    input: xarray.DataArray = attr.ib(init=False)\n",
    "\n",
    "    _dims: List = attr.ib(init=False, factory=list)\n",
    "\n",
    "    def __attrs_post_init__(self):\n",
    "        \"\"\"Set bounds and CRS.\"\"\"\n",
    "        ds = None\n",
    "        # Generate cache key and attempt to fetch the dataset from cache\n",
    "        cache_key = f\"{self.src_path}_group:{self.group}_time:{self.decode_times}\"\n",
    "        data_bytes = cache_client.get(cache_key)\n",
    "        if data_bytes:\n",
    "            print(f\"Found dataset in Cache {cache_key}\")\n",
    "            ds = pickle.loads(data_bytes)\n",
    "\n",
    "        self.ds = ds or self.opener(\n",
    "            self.src_path,\n",
    "            group=self.group,\n",
    "            decode_times=self.decode_times,\n",
    "        )\n",
    "        if not ds:\n",
    "            # Serialize the dataset to bytes using pickle\n",
    "            cache_key = f\"{self.src_path}_group:{self.group}_time:{self.decode_times}\"\n",
    "            data_bytes = pickle.dumps(self.ds)\n",
    "            print(f\"Adding dataset in Cache: {cache_key}\")\n",
    "            cache_client.set(cache_key, data_bytes, tag=\"data\", expire=300)\n",
    "\n",
    "        self.input = get_variable(\n",
    "            self.ds,\n",
    "            self.variable,\n",
    "            datetime=self.datetime,\n",
    "            drop_dim=self.drop_dim,\n",
    "        )\n",
    "        super().__attrs_post_init__()\n"
   ]
  },
  {
   "cell_type": "code",
   "execution_count": 27,
   "metadata": {},
   "outputs": [
    {
     "name": "stdout",
     "output_type": "stream",
     "text": [
      "Found dataset in Cache ../tests/fixtures/dataset_2d.nc_group:None_time:False\n",
      "<xarray.Dataset> Size: 16MB\n",
      "Dimensions:  (x: 2000, y: 1000)\n",
      "Coordinates:\n",
      "  * x        (x) float64 16kB -170.0 -169.8 -169.7 -169.5 ... 169.5 169.7 169.8\n",
      "  * y        (y) float64 8kB -80.0 -79.84 -79.68 -79.52 ... 79.52 79.68 79.84\n",
      "Data variables:\n",
      "    dataset  (y, x) float64 16MB ...\n"
     ]
    }
   ],
   "source": [
    "with CustomReader(\"../tests/fixtures/dataset_2d.nc\", \"dataset\") as src:\n",
    "    print(src.ds)"
   ]
  },
  {
   "cell_type": "code",
   "execution_count": null,
   "metadata": {},
   "outputs": [],
   "source": []
  }
 ],
 "metadata": {
  "kernelspec": {
   "display_name": "py39",
   "language": "python",
   "name": "python3"
  },
  "language_info": {
   "codemirror_mode": {
    "name": "ipython",
    "version": 3
   },
   "file_extension": ".py",
   "mimetype": "text/x-python",
   "name": "python",
   "nbconvert_exporter": "python",
   "pygments_lexer": "ipython3",
   "version": "3.9.19"
  }
 },
 "nbformat": 4,
 "nbformat_minor": 2
}
