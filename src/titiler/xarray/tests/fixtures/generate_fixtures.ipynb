{
 "cells": [
  {
   "cell_type": "code",
   "execution_count": 1,
   "metadata": {},
   "outputs": [],
   "source": [
    "import xarray\n",
    "import numpy\n",
    "from datetime import datetime"
   ]
  },
  {
   "cell_type": "code",
   "execution_count": 25,
   "metadata": {},
   "outputs": [],
   "source": [
    "# 2D\n",
    "arr = numpy.linspace(1, 1000, 1000 * 2000).reshape(1000, 2000)\n",
    "data = xarray.DataArray(\n",
    "    arr,\n",
    "    dims=(\"y\", \"x\"),\n",
    "    coords={\n",
    "        \"x\": numpy.arange(-170, 170, 0.17),\n",
    "        \"y\": numpy.arange(-80, 80, 0.16),\n",
    "    },\n",
    ")\n",
    "data.attrs.update({\"valid_min\": arr.min(), \"valid_max\": arr.max(), \"fill_value\": 0})\n",
    "ds = data.to_dataset(name=\"dataset\")\n",
    "\n",
    "ds.to_netcdf(\"dataset_2d.nc\", encoding={\"dataset\": {\"zlib\": True, \"complevel\": 9}})"
   ]
  },
  {
   "cell_type": "code",
   "execution_count": 26,
   "metadata": {},
   "outputs": [],
   "source": [
    "# 3D\n",
    "arr = numpy.linspace(1, 1000, 1000 * 2000 * 2).reshape(2, 1000, 2000)\n",
    "data = xarray.DataArray(\n",
    "    arr,\n",
    "    dims=(\"time\", \"y\", \"x\"),\n",
    "    coords={\n",
    "        \"x\": numpy.arange(-170, 170, 0.17),\n",
    "        \"y\": numpy.arange(-80, 80, 0.16),\n",
    "        \"time\": [datetime(2022, 1, 1), datetime(2023, 1, 1)],\n",
    "    },\n",
    ")\n",
    "data.attrs.update({\"valid_min\": arr.min(), \"valid_max\": arr.max(), \"fill_value\": 0})\n",
    "ds = data.to_dataset(name=\"dataset\")\n",
    "\n",
    "ds.to_netcdf(\"dataset_3d.nc\", encoding={\"dataset\": {\"zlib\": True, \"complevel\": 9}})"
   ]
  },
  {
   "cell_type": "code",
   "execution_count": 27,
   "metadata": {},
   "outputs": [],
   "source": [
    "# 4D\n",
    "arr = numpy.linspace(1, 1000, 1000 * 2000 * 2).reshape(2, 1, 1000, 2000)\n",
    "data = xarray.DataArray(\n",
    "    arr,\n",
    "    dims=(\"time\", \"z\", \"y\", \"x\"),\n",
    "    coords={\n",
    "        \"x\": numpy.arange(-170, 170, 0.17),\n",
    "        \"y\": numpy.arange(-80, 80, 0.16),\n",
    "        \"z\": [0],\n",
    "        \"time\": [datetime(2022, 1, 1), datetime(2023, 1, 1)],\n",
    "    },\n",
    ")\n",
    "data.attrs.update({\"valid_min\": arr.min(), \"valid_max\": arr.max(), \"fill_value\": 0})\n",
    "ds = data.to_dataset(name=\"dataset\")\n",
    "\n",
    "ds.to_netcdf(\"dataset_4d.nc\", encoding={\"dataset\": {\"zlib\": True, \"complevel\": 9}})"
   ]
  },
  {
   "cell_type": "code",
   "execution_count": null,
   "metadata": {},
   "outputs": [],
   "source": [
    "# 3D Zarr\n",
    "arr = numpy.linspace(0, 1000, 1000 * 2000 * 2).reshape(2, 1000, 2000)\n",
    "data = xarray.DataArray(\n",
    "    arr,\n",
    "    dims=(\"time\", \"y\", \"x\"),\n",
    "    coords={\n",
    "        \"x\": numpy.arange(-170, 170, 0.17),\n",
    "        \"y\": numpy.arange(-80, 80, 0.16),\n",
    "        \"time\": [datetime(2022, 1, 1), datetime(2023, 1, 1)],\n",
    "    },\n",
    ")\n",
    "data.attrs.update({\"valid_min\": arr.min(), \"valid_max\": arr.max()})\n",
    "assert data.dims == (\"time\", \"y\", \"x\")\n",
    "\n",
    "ds = data.to_dataset(name=\"dataset\")\n",
    "\n",
    "ds.to_zarr(\"dataset_3d.zarr\", mode=\"w\")"
   ]
  },
  {
   "cell_type": "code",
   "execution_count": 2,
   "metadata": {},
   "outputs": [],
   "source": [
    "# Zarr Pyramid\n",
    "def create_dataset(decimation: int = 0):\n",
    "    dec = decimation or 1  # make sure we don't / by 0\n",
    "    width = 2000 // dec\n",
    "    height = 1000 // dec\n",
    "\n",
    "    x_res = abs(-170 - 170) / width\n",
    "    y_res = abs(-80 - 80) / height\n",
    "\n",
    "    arr = numpy.zeros((height, width), dtype=\"uint8\") + 1 + decimation\n",
    "\n",
    "    data = xarray.DataArray(\n",
    "        arr,\n",
    "        dims=(\"y\", \"x\"),\n",
    "        coords={\n",
    "            \"x\": numpy.arange(-170, 170, x_res),\n",
    "            \"y\": numpy.arange(-80, 80, y_res),\n",
    "        },\n",
    "    )\n",
    "    data.attrs.update({\"valid_min\": arr.min(), \"valid_max\": arr.max(), \"fill_value\": 0})\n",
    "    return data.to_dataset(name=\"dataset\")\n",
    "\n",
    "\n",
    "for ix, dec in enumerate([0, 2, 4]):\n",
    "    ds = create_dataset(dec)\n",
    "    ds.to_zarr(store=\"pyramid.zarr\", mode=\"w\", group=ix)"
   ]
  },
  {
   "cell_type": "code",
   "execution_count": 3,
   "metadata": {},
   "outputs": [],
   "source": []
  },
  {
   "cell_type": "code",
   "execution_count": 9,
   "metadata": {},
   "outputs": [],
   "source": [
    "import json\n",
    "import fsspec\n",
    "from kerchunk.hdf import SingleHdf5ToZarr\n",
    "\n",
    "with fsspec.open(\"dataset_3d.nc\", mode=\"rb\", anon=True) as infile:\n",
    "    h5chunks = SingleHdf5ToZarr(infile, \"dataset_3d.nc\", inline_threshold=100)\n",
    "\n",
    "    with open(\"reference.json\", \"w\") as f:\n",
    "        f.write(json.dumps(h5chunks.translate()))"
   ]
  },
  {
   "cell_type": "code",
   "execution_count": null,
   "metadata": {},
   "outputs": [],
   "source": []
  }
 ],
 "metadata": {
  "kernelspec": {
   "display_name": "py39",
   "language": "python",
   "name": "python3"
  },
  "language_info": {
   "codemirror_mode": {
    "name": "ipython",
    "version": 3
   },
   "file_extension": ".py",
   "mimetype": "text/x-python",
   "name": "python",
   "nbconvert_exporter": "python",
   "pygments_lexer": "ipython3",
   "version": "3.9.19"
  }
 },
 "nbformat": 4,
 "nbformat_minor": 2
}
