{
 "cells": [
  {
   "cell_type": "markdown",
   "metadata": {
    "collapsed": false
   },
   "source": [
    "# Working with Statistics"
   ]
  },
  {
   "cell_type": "markdown",
   "metadata": {
    "collapsed": false
   },
   "source": [
    "## Intro\n",
    "\n",
    "Titiler allows you to get statistics and summaries of your data without having to load the entire dataset yourself. These statistics can be summaries of entire COG files, STAC items, or individual parts of the file, specified using GeoJSON.\n",
    "\n",
    "Below, we will go over some of the statistical endpoints in Titiler - `/info` and `/statistics`.\n",
    "\n",
    "(Note: these examples will be using the `/cog` endpoint, but everything is also available for `/stac` and `/mosaicjson` unless otherwise noted)"
   ]
  },
  {
   "cell_type": "code",
   "execution_count": 16,
   "metadata": {
    "ExecuteTime": {
     "end_time": "2023-04-06T14:25:40.161502Z",
     "start_time": "2023-04-06T14:25:40.153667Z"
    },
    "collapsed": false
   },
   "outputs": [],
   "source": [
    "# setup\n",
    "import httpx\n",
    "import json\n",
    "\n",
    "titiler_endpoint = (\n",
    "    \"https://titiler.xyz\"  # Developmentseed Demo endpoint. Please be kind.\n",
    ")\n",
    "cog_url = \"https://opendata.digitalglobe.com/events/mauritius-oil-spill/post-event/2020-08-12/105001001F1B5B00/105001001F1B5B00.tif\""
   ]
  },
  {
   "cell_type": "markdown",
   "metadata": {
    "collapsed": false
   },
   "source": [
    "## Info\n",
    "\n",
    "The `/info` endpoint returns general metadata about the image/asset.\n",
    "\n",
    "- Bounds\n",
    "- CRS \n",
    "- Band metadata, such as names of the bands and their descriptions\n",
    "- Number of bands in the image\n",
    "- Overview levels\n",
    "- Image width and height"
   ]
  },
  {
   "cell_type": "code",
   "execution_count": null,
   "metadata": {
    "ExecuteTime": {
     "end_time": "2023-04-06T14:25:42.410135Z",
     "start_time": "2023-04-06T14:25:42.355858Z"
    },
    "collapsed": false
   },
   "outputs": [],
   "source": [
    "r = httpx.get(\n",
    "    f\"{titiler_endpoint}/cog/info\",\n",
    "    params={\n",
    "        \"url\": cog_url,\n",
    "    },\n",
    ").json()\n",
    "\n",
    "print(json.dumps(r))"
   ]
  },
  {
   "cell_type": "markdown",
   "metadata": {
    "collapsed": false
   },
   "source": [
    "## Statistics\n",
    "\n",
    "For even more statistics of the image, you can use the `/statistics` endpoint. This includes even more info, including:\n",
    "- Summary statistics about overall pixel values, such min, max, mean, and count\n",
    "- Histogram of the pixel values\n",
    "- Percentiles\n",
    "\n",
    "Statistics are generated both for the image as a whole and for each band individually."
   ]
  },
  {
   "cell_type": "code",
   "execution_count": null,
   "metadata": {
    "ExecuteTime": {
     "end_time": "2023-04-06T14:25:42.866905Z",
     "start_time": "2023-04-06T14:25:42.816337Z"
    },
    "collapsed": false
   },
   "outputs": [],
   "source": [
    "r = httpx.get(\n",
    "    f\"{titiler_endpoint}/cog/statistics\",\n",
    "    params={\n",
    "        \"url\": cog_url,\n",
    "    },\n",
    ").json()\n",
    "\n",
    "print(json.dumps(r))"
   ]
  },
  {
   "cell_type": "markdown",
   "metadata": {
    "collapsed": false
   },
   "source": [
    "This endpoint is far more configurable than `/info`. You can specify which bands to analyse, how to generate the histogram, and pre-process the image.\n",
    "\n",
    "For example, if you wanted to get the statistics of the [VARI](https://www.space4water.org/space/visible-atmospherically-resistant-index-vari) of the image you can use the `expression` parameter to conduct simple band math:"
   ]
  },
  {
   "cell_type": "code",
   "execution_count": null,
   "metadata": {
    "ExecuteTime": {
     "end_time": "2023-04-06T14:25:43.393610Z",
     "start_time": "2023-04-06T14:25:43.304442Z"
    },
    "collapsed": false
   },
   "outputs": [],
   "source": [
    "r = httpx.get(\n",
    "    f\"{titiler_endpoint}/cog/statistics\",\n",
    "    params={\n",
    "        \"url\": cog_url,\n",
    "        \"expression\": \"(b2-b1)/(b1+b2-b3)\",  # expression for the VARI\n",
    "        \"histogram_range\": \"-1,1\",\n",
    "    },\n",
    ").json()\n",
    "\n",
    "print(json.dumps(r))"
   ]
  },
  {
   "cell_type": "markdown",
   "metadata": {
    "collapsed": false
   },
   "source": [
    "Alternatively, if you would like to get statistics for only a certain area, you can specify an area via a feature or a feature collection.\n",
    "\n",
    "(Note: this endpoint is not available in the mosaicjson endpoint, only `/cog` and `/stac`)"
   ]
  },
  {
   "cell_type": "code",
   "execution_count": 5,
   "metadata": {
    "ExecuteTime": {
     "end_time": "2023-04-06T14:25:43.877434Z",
     "start_time": "2023-04-06T14:25:43.867923Z"
    },
    "collapsed": false
   },
   "outputs": [],
   "source": [
    "mahebourg = \"\"\"\n",
    "{\n",
    "  \"type\": \"FeatureCollection\",\n",
    "  \"features\": [\n",
    "    {\n",
    "      \"type\": \"Feature\",\n",
    "      \"properties\": {},\n",
    "      \"geometry\": {\n",
    "        \"coordinates\": [\n",
    "          [\n",
    "            [\n",
    "              57.70358910197049,\n",
    "              -20.384114558699935\n",
    "            ],\n",
    "            [\n",
    "              57.68564920588395,\n",
    "              -20.384114558699935\n",
    "            ],\n",
    "            [\n",
    "              57.68209507552771,\n",
    "              -20.39855066753664\n",
    "            ],\n",
    "            [\n",
    "              57.68666467170024,\n",
    "              -20.421074640746554\n",
    "            ],\n",
    "            [\n",
    "              57.70341985766697,\n",
    "              -20.434397129770545\n",
    "            ],\n",
    "            [\n",
    "              57.72999121319131,\n",
    "              -20.42392955694521\n",
    "            ],\n",
    "            [\n",
    "              57.70358910197049,\n",
    "              -20.384114558699935\n",
    "            ]\n",
    "          ]\n",
    "        ],\n",
    "        \"type\": \"Polygon\"\n",
    "      }\n",
    "    }\n",
    "  ]\n",
    "}\n",
    "\"\"\""
   ]
  },
  {
   "cell_type": "code",
   "execution_count": null,
   "metadata": {
    "ExecuteTime": {
     "end_time": "2023-04-06T14:25:45.709013Z",
     "start_time": "2023-04-06T14:25:44.592051Z"
    },
    "collapsed": false
   },
   "outputs": [],
   "source": [
    "# NOTE: This is a POST request, unlike all other requests in this example\n",
    "r = httpx.post(\n",
    "    f\"{titiler_endpoint}/cog/statistics\",\n",
    "    data=mahebourg,\n",
    "    params={\n",
    "        \"url\": cog_url,\n",
    "        \"max_size\": 1024,\n",
    "    },\n",
    "    timeout=20,\n",
    ").json()\n",
    "\n",
    "print(json.dumps(r))"
   ]
  },
  {
   "cell_type": "code",
   "execution_count": null,
   "metadata": {},
   "outputs": [],
   "source": []
  }
 ],
 "metadata": {
  "kernelspec": {
   "display_name": "Python 3",
   "language": "python",
   "name": "python3"
  },
  "language_info": {
   "codemirror_mode": {
    "name": "ipython",
    "version": 3
   },
   "file_extension": ".py",
   "mimetype": "text/x-python",
   "name": "python",
   "nbconvert_exporter": "python",
   "pygments_lexer": "ipython3",
   "version": "3.9.19"
  }
 },
 "nbformat": 4,
 "nbformat_minor": 0
}
