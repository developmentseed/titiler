{
 "cells": [
  {
   "attachments": {},
   "cell_type": "markdown",
   "id": "b6633f73",
   "metadata": {},
   "source": [
    "# Working With Algorithms\n",
    "\n",
    "[![Binder](https://mybinder.org/badge_logo.svg)](https://mybinder.org/v2/gh/developmentseed/titiler/main?filepath=docs%2Fexamples%2F%2Fnotebooks%2FWorking_with_Algorithm.ipynb)\n",
    "\n",
    "For this demo we will use some elevation data from https://www.swisstopo.admin.ch/fr/geodata/height/alti3d.html  dataset\n",
    "\n",
    "#### Requirements\n",
    "- folium\n",
    "- httpx\n",
    "\n",
    "`!pip install folium httpx`"
   ]
  },
  {
   "cell_type": "code",
   "execution_count": null,
   "id": "55915667",
   "metadata": {},
   "outputs": [],
   "source": [
    "import json\n",
    "import httpx\n",
    "\n",
    "from folium import Map, TileLayer"
   ]
  },
  {
   "cell_type": "code",
   "execution_count": null,
   "id": "3ac532e8",
   "metadata": {},
   "outputs": [],
   "source": [
    "titiler_endpoint = (\n",
    "    \"https://titiler.xyz\"  # Developmentseed Demo endpoint. Please be kind.\n",
    ")"
   ]
  },
  {
   "cell_type": "code",
   "execution_count": null,
   "id": "5c65b3d5",
   "metadata": {},
   "outputs": [],
   "source": [
    "url = \"https://data.geo.admin.ch/ch.swisstopo.swissalti3d/swissalti3d_2019_2573-1085/swissalti3d_2019_2573-1085_0.5_2056_5728.tif\""
   ]
  },
  {
   "cell_type": "markdown",
   "id": "e07abe8e",
   "metadata": {},
   "source": [
    "## Get COG Info"
   ]
  },
  {
   "cell_type": "code",
   "execution_count": null,
   "id": "7abeb9c0",
   "metadata": {},
   "outputs": [],
   "source": [
    "# Fetch dataset Metadata\n",
    "r = httpx.get(\n",
    "    f\"{titiler_endpoint}/cog/info\",\n",
    "    params={\n",
    "        \"url\": url,\n",
    "    },\n",
    ").json()\n",
    "\n",
    "print(r)"
   ]
  },
  {
   "cell_type": "markdown",
   "id": "877ed5f3",
   "metadata": {},
   "source": [
    "### Display Tiles\n",
    "\n",
    "By default, the tiles will be rescaled from min/max from dataset statistics (1615.812 / 2015.09448)"
   ]
  },
  {
   "cell_type": "code",
   "execution_count": null,
   "id": "80803e00",
   "metadata": {},
   "outputs": [],
   "source": [
    "r = httpx.get(\n",
    "    f\"{titiler_endpoint}/cog/WebMercatorQuad/tilejson.json\",\n",
    "    params={\n",
    "        \"url\": url,\n",
    "    },\n",
    ").json()\n",
    "\n",
    "bounds = r[\"bounds\"]\n",
    "m = Map(\n",
    "    location=((bounds[1] + bounds[3]) / 2, (bounds[0] + bounds[2]) / 2),\n",
    "    zoom_start=r[\"minzoom\"],\n",
    ")\n",
    "\n",
    "TileLayer(\n",
    "    tiles=r[\"tiles\"][0], opacity=1, attr=\"Office fédéral de topographie swisstopo\"\n",
    ").add_to(m)\n",
    "m"
   ]
  },
  {
   "cell_type": "code",
   "execution_count": null,
   "id": "64c2faab",
   "metadata": {
    "scrolled": false
   },
   "outputs": [],
   "source": [
    "r = httpx.get(\n",
    "    f\"{titiler_endpoint}/cog/WebMercatorQuad/tilejson.json\",\n",
    "    params={\n",
    "        \"url\": url,\n",
    "        # rio-tiler cannot rescale automatically the data when using a colormap\n",
    "        \"rescale\": \"1615.812,2015.09448\",\n",
    "        \"colormap_name\": \"terrain\",\n",
    "    },\n",
    ").json()\n",
    "\n",
    "bounds = r[\"bounds\"]\n",
    "m = Map(\n",
    "    location=((bounds[1] + bounds[3]) / 2, (bounds[0] + bounds[2]) / 2),\n",
    "    zoom_start=r[\"minzoom\"],\n",
    ")\n",
    "\n",
    "aod_layer = TileLayer(\n",
    "    tiles=r[\"tiles\"][0], opacity=1, attr=\"Office fédéral de topographie swisstopo\"\n",
    ")\n",
    "aod_layer.add_to(m)\n",
    "m"
   ]
  },
  {
   "cell_type": "markdown",
   "id": "a54c5435",
   "metadata": {},
   "source": [
    "## Show Available Algorithms"
   ]
  },
  {
   "cell_type": "code",
   "execution_count": null,
   "id": "26ef9eef",
   "metadata": {
    "scrolled": true
   },
   "outputs": [],
   "source": [
    "# Fetch algorithms\n",
    "print(\"Available algorithm\")\n",
    "print(list(httpx.get(f\"{titiler_endpoint}/algorithms\").json()))\n",
    "print()\n",
    "print(\"Metadata from `Hillshade` algorithm\")\n",
    "meta = httpx.get(f\"{titiler_endpoint}/algorithms/hillshade\").json()\n",
    "print(\"Inputs\")\n",
    "print(meta[\"inputs\"])\n",
    "print(\"Outputs\")\n",
    "print(meta[\"outputs\"])\n",
    "print(\"Parameters\")\n",
    "print(meta[\"parameters\"])"
   ]
  },
  {
   "cell_type": "markdown",
   "id": "489827a0",
   "metadata": {},
   "source": [
    "## Display Hillshade Tiles"
   ]
  },
  {
   "cell_type": "code",
   "execution_count": null,
   "id": "4cc8c900",
   "metadata": {
    "scrolled": false
   },
   "outputs": [],
   "source": [
    "r = httpx.get(\n",
    "    f\"{titiler_endpoint}/cog/WebMercatorQuad/tilejson.json\",\n",
    "    params={\n",
    "        \"url\": url,\n",
    "        \"algorithm\": \"hillshade\",\n",
    "        # Hillshade algorithm use a 3pixel buffer so we need\n",
    "        # to tell the tiler to apply a 3 pixel buffer around each tile\n",
    "        \"buffer\": 3,\n",
    "    },\n",
    ").json()\n",
    "\n",
    "bounds = r[\"bounds\"]\n",
    "m = Map(\n",
    "    location=((bounds[1] + bounds[3]) / 2, (bounds[0] + bounds[2]) / 2),\n",
    "    zoom_start=r[\"minzoom\"],\n",
    ")\n",
    "\n",
    "aod_layer = TileLayer(tiles=r[\"tiles\"][0], opacity=1, attr=\"Yo!!\")\n",
    "aod_layer.add_to(m)\n",
    "m"
   ]
  },
  {
   "cell_type": "markdown",
   "id": "9113e057",
   "metadata": {},
   "source": [
    "### Pass parameters to the algorithm"
   ]
  },
  {
   "cell_type": "code",
   "execution_count": null,
   "id": "54d674e9",
   "metadata": {},
   "outputs": [],
   "source": [
    "r = httpx.get(\n",
    "    f\"{titiler_endpoint}/cog/WebMercatorQuad/tilejson.json\",\n",
    "    params={\n",
    "        \"url\": url,\n",
    "        \"algorithm\": \"contours\",\n",
    "        \"algorithm_params\": json.dumps(\n",
    "            {\n",
    "                \"increment\": 20,  # contour line every 20 meters\n",
    "                \"thickness\": 2,  # 2m thickness\n",
    "                \"minz\": 1600,\n",
    "                \"maxz\": 2000,\n",
    "            }\n",
    "        ),\n",
    "    },\n",
    ").json()\n",
    "\n",
    "bounds = r[\"bounds\"]\n",
    "m = Map(\n",
    "    location=((bounds[1] + bounds[3]) / 2, (bounds[0] + bounds[2]) / 2),\n",
    "    zoom_start=r[\"minzoom\"],\n",
    ")\n",
    "\n",
    "TileLayer(tiles=r[\"tiles\"][0], opacity=1, attr=\"Yo!!\").add_to(m)\n",
    "m"
   ]
  },
  {
   "cell_type": "code",
   "execution_count": null,
   "id": "1c80efe0",
   "metadata": {},
   "outputs": [],
   "source": [
    "r = httpx.get(\n",
    "    f\"{titiler_endpoint}/cog/WebMercatorQuad/tilejson.json\",\n",
    "    params={\n",
    "        \"url\": url,\n",
    "        \"algorithm\": \"contours\",\n",
    "        \"algorithm_params\": json.dumps(\n",
    "            {\n",
    "                \"increment\": 5,  # contour line every 5 meters\n",
    "                \"thickness\": 1,  # 1m thickness\n",
    "                \"minz\": 1600,\n",
    "                \"maxz\": 2000,\n",
    "            }\n",
    "        ),\n",
    "    },\n",
    ").json()\n",
    "\n",
    "bounds = r[\"bounds\"]\n",
    "m = Map(\n",
    "    location=((bounds[1] + bounds[3]) / 2, (bounds[0] + bounds[2]) / 2),\n",
    "    zoom_start=r[\"minzoom\"],\n",
    ")\n",
    "\n",
    "TileLayer(tiles=r[\"tiles\"][0], opacity=1, attr=\"Yo!!\").add_to(m)\n",
    "m"
   ]
  },
  {
   "cell_type": "code",
   "execution_count": null,
   "id": "0398886c",
   "metadata": {},
   "outputs": [],
   "source": []
  }
 ],
 "metadata": {
  "kernelspec": {
   "display_name": "py39",
   "language": "python",
   "name": "python3"
  },
  "language_info": {
   "codemirror_mode": {
    "name": "ipython",
    "version": 3
   },
   "file_extension": ".py",
   "mimetype": "text/x-python",
   "name": "python",
   "nbconvert_exporter": "python",
   "pygments_lexer": "ipython3",
   "version": "3.9.18"
  }
 },
 "nbformat": 4,
 "nbformat_minor": 5
}
