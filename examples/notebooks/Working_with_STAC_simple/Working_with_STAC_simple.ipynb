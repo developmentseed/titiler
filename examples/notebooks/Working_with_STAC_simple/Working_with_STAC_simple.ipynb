{
 "cells": [
  {
   "attachments": {},
   "cell_type": "markdown",
   "metadata": {},
   "source": [
    "# Working With STAC\n",
    "\n",
    "[![Binder](https://mybinder.org/badge_logo.svg)](https://mybinder.org/v2/gh/developmentseed/titiler/main?filepath=docs%2Fexamples%2F%2Fnotebooks%2FWorking_with_STAC_simple.ipynb)\n",
    "\n",
    "### STAC: SpatioTemporal Asset Catalog\n",
    "\n",
    "> The SpatioTemporal Asset Catalog (STAC) specification aims to standardize the way geospatial assets are exposed online and queried. A 'spatiotemporal asset' is any file that represents information about the earth captured in a certain space and time. The initial focus is primarily remotely-sensed imagery (from satellites, but also planes, drones, balloons, etc), but the core is designed to be extensible to SAR, full motion video, point clouds, hyperspectral, LiDAR and derived data like NDVI, Digital Elevation Models, mosaics, etc.\n",
    "\n",
    "Ref: https://github.com/radiantearth/stac-spechttps://github.com/radiantearth/stac-spec\n",
    "\n",
    "Using STAC makes data indexation and discovery really easy. In addition to the Collection/Item/Asset (data) specifications, data providers are also encouraged to follow a STAC API specification:  https://github.com/radiantearth/stac-api-spec\n",
    "\n",
    "> The API is compliant with the OGC API - Features standard (formerly known as OGC Web Feature Service 3), in that it defines many of the endpoints that STAC uses. A STAC API should be compatible and usable with any OGC API - Features clients. The STAC API can be thought of as a specialized Features API to search STAC Catalogs, where the features returned are STAC Items, that have common properties, links to their assets and geometries that represent the footprints of the geospatial assets."
   ]
  },
  {
   "cell_type": "markdown",
   "metadata": {},
   "source": [
    "\n",
    "## Requirements\n",
    "\n",
    "To be able to run this notebook you'll need the following requirements:\n",
    "- folium\n",
    "- httpx\n",
    "- rasterio\n",
    "\n",
    "`!pip install folium httpx rasterio`"
   ]
  },
  {
   "cell_type": "code",
   "execution_count": null,
   "metadata": {},
   "outputs": [],
   "source": [
    "# Uncomment this line if you need to install the dependencies\n",
    "# !pip install folium requests rasterio"
   ]
  },
  {
   "cell_type": "code",
   "execution_count": null,
   "metadata": {
    "tags": []
   },
   "outputs": [],
   "source": [
    "import httpx\n",
    "\n",
    "from rasterio.features import bounds as featureBounds\n",
    "\n",
    "from folium import Map, TileLayer, GeoJson\n",
    "\n",
    "%pylab inline"
   ]
  },
  {
   "cell_type": "code",
   "execution_count": null,
   "metadata": {},
   "outputs": [],
   "source": [
    "titiler_endpoint = (\n",
    "    \"https://titiler.xyz\"  # Developmentseed Demo endpoint. Please be kind.\n",
    ")\n",
    "stac_item = \"https://earth-search.aws.element84.com/v1/collections/sentinel-2-l2a/items/S2A_30TVT_20221112_0_L2A\""
   ]
  },
  {
   "cell_type": "code",
   "execution_count": null,
   "metadata": {
    "scrolled": true,
    "tags": []
   },
   "outputs": [],
   "source": [
    "item = httpx.get(stac_item).json()\n",
    "print(item)"
   ]
  },
  {
   "cell_type": "code",
   "execution_count": null,
   "metadata": {
    "tags": []
   },
   "outputs": [],
   "source": [
    "for it, asset in item[\"assets\"].items():\n",
    "    print(\"Name:\", it, \"| Format:\", asset[\"type\"])"
   ]
  },
  {
   "cell_type": "code",
   "execution_count": null,
   "metadata": {},
   "outputs": [],
   "source": [
    "bounds = featureBounds(item)\n",
    "\n",
    "m = Map(\n",
    "    tiles=\"OpenStreetMap\",\n",
    "    location=((bounds[1] + bounds[3]) / 2, (bounds[0] + bounds[2]) / 2),\n",
    "    zoom_start=8,\n",
    ")\n",
    "\n",
    "geo_json = GeoJson(data=item)\n",
    "geo_json.add_to(m)\n",
    "m"
   ]
  },
  {
   "cell_type": "code",
   "execution_count": null,
   "metadata": {
    "tags": []
   },
   "outputs": [],
   "source": [
    "# Get Tile URL\n",
    "r = httpx.get(\n",
    "    f\"{titiler_endpoint}/stac/info\",\n",
    "    params=(\n",
    "        (\"url\", stac_item),\n",
    "        # Get info for multiple assets\n",
    "        (\"assets\", \"visual\"),\n",
    "        (\"assets\", \"red\"),\n",
    "        (\"assets\", \"blue\"),\n",
    "        (\"assets\", \"green\"),\n",
    "    ),\n",
    ").json()\n",
    "print(r)"
   ]
  },
  {
   "cell_type": "markdown",
   "metadata": {},
   "source": [
    "### Display one asset"
   ]
  },
  {
   "cell_type": "code",
   "execution_count": null,
   "metadata": {},
   "outputs": [],
   "source": [
    "r = httpx.get(\n",
    "    f\"{titiler_endpoint}/stac/WebMercatorQuad/tilejson.json\",\n",
    "    params={\n",
    "        \"url\": stac_item,\n",
    "        \"assets\": \"visual\",\n",
    "        \"minzoom\": 8,  # By default titiler will use 0\n",
    "        \"maxzoom\": 14,  # By default titiler will use 24\n",
    "    },\n",
    ").json()\n",
    "\n",
    "m = Map(\n",
    "    location=((bounds[1] + bounds[3]) / 2, (bounds[0] + bounds[2]) / 2), zoom_start=10\n",
    ")\n",
    "\n",
    "tiles = TileLayer(\n",
    "    tiles=r[\"tiles\"][0],\n",
    "    min_zoom=r[\"minzoom\"],\n",
    "    max_zoom=r[\"maxzoom\"],\n",
    "    opacity=1,\n",
    "    attr=\"ESA\",\n",
    ")\n",
    "tiles.add_to(m)\n",
    "m"
   ]
  },
  {
   "cell_type": "markdown",
   "metadata": {},
   "source": [
    "### Select Indexes for assets"
   ]
  },
  {
   "cell_type": "code",
   "execution_count": null,
   "metadata": {},
   "outputs": [],
   "source": [
    "# Get Tile URL\n",
    "r = httpx.get(\n",
    "    f\"{titiler_endpoint}/stac/WebMercatorQuad/tilejson.json\",\n",
    "    params={\n",
    "        \"url\": stac_item,\n",
    "        \"assets\": \"visual\",\n",
    "        \"asset_bidx\": \"visual|3,1,2\",\n",
    "        \"minzoom\": 8,  # By default titiler will use 0\n",
    "        \"maxzoom\": 14,  # By default titiler will use 24\n",
    "    },\n",
    ").json()\n",
    "\n",
    "m = Map(\n",
    "    location=((bounds[1] + bounds[3]) / 2, (bounds[0] + bounds[2]) / 2), zoom_start=12\n",
    ")\n",
    "\n",
    "tiles = TileLayer(\n",
    "    tiles=r[\"tiles\"][0],\n",
    "    min_zoom=r[\"minzoom\"],\n",
    "    max_zoom=r[\"maxzoom\"],\n",
    "    opacity=1,\n",
    "    attr=\"ESA\",\n",
    ")\n",
    "tiles.add_to(m)\n",
    "m"
   ]
  },
  {
   "cell_type": "code",
   "execution_count": null,
   "metadata": {},
   "outputs": [],
   "source": [
    "# Get Tile URL\n",
    "r = httpx.get(\n",
    "    f\"{titiler_endpoint}/stac/WebMercatorQuad/tilejson.json\",\n",
    "    params=(\n",
    "        (\"url\", stac_item),\n",
    "        (\"assets\", \"red\"),\n",
    "        (\"assets\", \"green\"),\n",
    "        (\"assets\", \"blue\"),\n",
    "        # Most of the Sentinel L2A Assets have only one band\n",
    "        # So we don't have to pass the bidx\n",
    "        # (\"assets_bidx\", \"red|1\"),\n",
    "        # (\"assets_bidx\", \"green|1\"),\n",
    "        # (\"assets_bidx\", \"blue|\"),\n",
    "        (\"minzoom\", 8),\n",
    "        (\"maxzoom\", 14),\n",
    "        (\"rescale\", \"0,2000\"),\n",
    "    ),\n",
    ").json()\n",
    "\n",
    "m = Map(\n",
    "    location=((bounds[1] + bounds[3]) / 2, (bounds[0] + bounds[2]) / 2), zoom_start=11\n",
    ")\n",
    "\n",
    "tiles = TileLayer(\n",
    "    tiles=r[\"tiles\"][0],\n",
    "    min_zoom=r[\"minzoom\"],\n",
    "    max_zoom=r[\"maxzoom\"],\n",
    "    opacity=1,\n",
    "    attr=\"ESA\",\n",
    ")\n",
    "tiles.add_to(m)\n",
    "m"
   ]
  },
  {
   "cell_type": "markdown",
   "metadata": {},
   "source": [
    "Use an expression to calculate a band index (NDVI) based on information contained in multiple assets."
   ]
  },
  {
   "cell_type": "code",
   "execution_count": null,
   "metadata": {},
   "outputs": [],
   "source": [
    "# Get Tile URL\n",
    "r = httpx.get(\n",
    "    f\"{titiler_endpoint}/stac/WebMercatorQuad/tilejson.json\",\n",
    "    params=(\n",
    "        (\"url\", stac_item),\n",
    "        (\"expression\", \"(nir-red)/(nir+red)\"),  # NDVI\n",
    "        # We need to tell rio-tiler that each asset is a Band\n",
    "        # (so it will select the first band within each asset automatically)\n",
    "        (\"asset_as_band\", True),\n",
    "        (\"rescale\", \"-1,1\"),\n",
    "        (\"minzoom\", 8),\n",
    "        (\"maxzoom\", 14),\n",
    "        (\"colormap_name\", \"viridis\"),\n",
    "    ),\n",
    ").json()\n",
    "\n",
    "m = Map(\n",
    "    location=((bounds[1] + bounds[3]) / 2, (bounds[0] + bounds[2]) / 2), zoom_start=10\n",
    ")\n",
    "\n",
    "tiles = TileLayer(\n",
    "    tiles=r[\"tiles\"][0],\n",
    "    min_zoom=r[\"minzoom\"],\n",
    "    max_zoom=r[\"maxzoom\"],\n",
    "    opacity=1,\n",
    "    attr=\"ESA\",\n",
    ")\n",
    "tiles.add_to(m)\n",
    "m"
   ]
  },
  {
   "cell_type": "markdown",
   "metadata": {},
   "source": [
    "If you don't use the  `asset_as_band=True` option, you need to append the band to the asset name within the expression. For example, `nir` becomes `nir_b1`."
   ]
  },
  {
   "cell_type": "code",
   "execution_count": null,
   "metadata": {},
   "outputs": [],
   "source": [
    "# Get Tile URL\n",
    "r = httpx.get(\n",
    "    f\"{titiler_endpoint}/stac/WebMercatorQuad/tilejson.json\",\n",
    "    params=(\n",
    "        (\"url\", stac_item),\n",
    "        (\"expression\", \"(nir_b1-red_b1)/(nir_b1+red_b1)\"),  # NDVI\n",
    "        (\"rescale\", \"-1,1\"),\n",
    "        (\"minzoom\", 8),\n",
    "        (\"maxzoom\", 14),\n",
    "        (\"colormap_name\", \"viridis\"),\n",
    "    ),\n",
    ").json()\n",
    "\n",
    "m = Map(\n",
    "    location=((bounds[1] + bounds[3]) / 2, (bounds[0] + bounds[2]) / 2), zoom_start=10\n",
    ")\n",
    "\n",
    "tiles = TileLayer(\n",
    "    tiles=r[\"tiles\"][0],\n",
    "    min_zoom=r[\"minzoom\"],\n",
    "    max_zoom=r[\"maxzoom\"],\n",
    "    opacity=1,\n",
    "    attr=\"ESA\",\n",
    ")\n",
    "tiles.add_to(m)\n",
    "m"
   ]
  },
  {
   "cell_type": "code",
   "execution_count": null,
   "metadata": {},
   "outputs": [],
   "source": []
  }
 ],
 "metadata": {
  "kernelspec": {
   "display_name": "py39",
   "language": "python",
   "name": "python3"
  },
  "language_info": {
   "codemirror_mode": {
    "name": "ipython",
    "version": 3
   },
   "file_extension": ".py",
   "mimetype": "text/x-python",
   "name": "python",
   "nbconvert_exporter": "python",
   "pygments_lexer": "ipython3",
   "version": "3.9.13 (main, May 24 2022, 21:13:51) \n[Clang 13.1.6 (clang-1316.0.21.2)]"
  },
  "vscode": {
   "interpreter": {
    "hash": "2590a9e34ee6c8bdce5141410f2a072bbabd2a859a8a48acdaa85720923a90ef"
   }
  }
 },
 "nbformat": 4,
 "nbformat_minor": 4
}
