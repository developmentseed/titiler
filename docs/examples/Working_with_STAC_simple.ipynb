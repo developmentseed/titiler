{
 "cells": [
  {
   "cell_type": "markdown",
   "metadata": {},
   "source": [
    "# Working With STAC\n",
    "\n",
    "[![Binder](https://mybinder.org/badge_logo.svg)](https://mybinder.org/v2/gh/developmentseed/titiler/master?filepath=docs%2Fexamples%2FWorking_with_STAC_simple.ipynb)\n",
    "\n",
    "### STAC: SpatioTemporal Asset Catalog\n",
    "\n",
    "> The SpatioTemporal Asset Catalog (STAC) specification aims to standardize the way geospatial assets are exposed online and queried. A 'spatiotemporal asset' is any file that represents information about the earth captured in a certain space and time. The initial focus is primarily remotely-sensed imagery (from satellites, but also planes, drones, balloons, etc), but the core is designed to be extensible to SAR, full motion video, point clouds, hyperspectral, LiDAR and derived data like NDVI, Digital Elevation Models, mosaics, etc.\n",
    "\n",
    "Ref: https://github.com/radiantearth/stac-spechttps://github.com/radiantearth/stac-spec\n",
    "\n",
    "Using STAC makes data indexation and discovery really easy. In addition to the Collection/Item/Asset (data) specifications, data providers are also encouraged to follow a STAC API specification:  https://github.com/radiantearth/stac-api-spec\n",
    "\n",
    "> The API is compliant with the OGC API - Features standard (formerly known as OGC Web Feature Service 3), in that it defines many of the endpoints that STAC uses. A STAC API should be compatible and usable with any OGC API - Features clients. The STAC API can be thought of as a specialized Features API to search STAC Catalogs, where the features returned are STAC Items, that have common properties, links to their assets and geometries that represent the footprints of the geospatial assets."
   ]
  },
  {
   "cell_type": "markdown",
   "metadata": {},
   "source": [
    "\n",
    "## Requirements\n",
    "\n",
    "To be able to run this notebook you'll need the following requirements:\n",
    "- folium\n",
    "- requests\n",
    "- rasterio\n",
    "\n",
    "`!pip install folium requests rasterio`"
   ]
  },
  {
   "cell_type": "code",
   "execution_count": null,
   "metadata": {},
   "outputs": [],
   "source": [
    "# Uncomment this line if you need to install the dependencies\n",
    "# !pip install folium requests rasterio"
   ]
  },
  {
   "cell_type": "code",
   "execution_count": null,
   "metadata": {
    "tags": []
   },
   "outputs": [],
   "source": [
    "import requests\n",
    "\n",
    "from rasterio.features import bounds as featureBounds\n",
    "\n",
    "from folium import Map, TileLayer, GeoJson\n",
    "\n",
    "%pylab inline"
   ]
  },
  {
   "cell_type": "code",
   "execution_count": null,
   "metadata": {},
   "outputs": [],
   "source": [
    "titiler_endpoint = \"https://api.cogeo.xyz\"  # Devseed temporary endpoint\n",
    "stac_item = \"https://canada-spot-ortho.s3.amazonaws.com/canada_spot_orthoimages/canada_spot5_orthoimages/S5_2007/S5_11055_6057_20070622/S5_11055_6057_20070622.json\""
   ]
  },
  {
   "cell_type": "code",
   "execution_count": null,
   "metadata": {
    "scrolled": true,
    "tags": []
   },
   "outputs": [],
   "source": [
    "item = requests.get(stac_item).json()\n",
    "print(item)"
   ]
  },
  {
   "cell_type": "code",
   "execution_count": null,
   "metadata": {
    "tags": []
   },
   "outputs": [],
   "source": [
    "print(list(item[\"assets\"]))\n",
    "for it, asset in item[\"assets\"].items():\n",
    "    print(asset[\"type\"])"
   ]
  },
  {
   "cell_type": "code",
   "execution_count": null,
   "metadata": {},
   "outputs": [],
   "source": [
    "bounds = featureBounds(item)\n",
    "\n",
    "m = Map(\n",
    "    tiles=\"OpenStreetMap\",\n",
    "    location=((bounds[1] + bounds[3]) / 2,(bounds[0] + bounds[2]) / 2),\n",
    "    zoom_start=8\n",
    ")\n",
    "\n",
    "geo_json = GeoJson(data=item)\n",
    "geo_json.add_to(m)\n",
    "m"
   ]
  },
  {
   "cell_type": "code",
   "execution_count": null,
   "metadata": {
    "tags": []
   },
   "outputs": [],
   "source": [
    "# Get Tile URL\n",
    "r = requests.get(\n",
    "    f\"{titiler_endpoint}/stac/info\",\n",
    "    params = {\n",
    "        \"url\": stac_item,\n",
    "    }\n",
    ").json()\n",
    "print(r)"
   ]
  },
  {
   "cell_type": "markdown",
   "metadata": {},
   "source": [
    "### Display one asset"
   ]
  },
  {
   "cell_type": "code",
   "execution_count": null,
   "metadata": {},
   "outputs": [],
   "source": [
    "r = requests.get(\n",
    "    f\"{titiler_endpoint}/stac/tilejson.json\",\n",
    "    params = {\n",
    "        \"url\": stac_item,\n",
    "        \"assets\": \"pan\",\n",
    "        \"minzoom\": 8,  # By default titiler will use 0\n",
    "        \"maxzoom\": 14, # By default titiler will use 24\n",
    "    }\n",
    ").json()\n",
    "\n",
    "m = Map(\n",
    "    location=((bounds[1] + bounds[3]) / 2,(bounds[0] + bounds[2]) / 2),\n",
    "    zoom_start=10\n",
    ")\n",
    "\n",
    "tiles = TileLayer(\n",
    "    tiles=r[\"tiles\"][0],\n",
    "    min_zoom=r[\"minzoom\"],\n",
    "    max_zoom=r[\"maxzoom\"],\n",
    "    opacity=1,\n",
    "    attr=\"Government of Canada\"\n",
    ")\n",
    "tiles.add_to(m)\n",
    "m"
   ]
  },
  {
   "cell_type": "markdown",
   "metadata": {},
   "source": [
    "### Merge Assets"
   ]
  },
  {
   "cell_type": "code",
   "execution_count": null,
   "metadata": {},
   "outputs": [],
   "source": [
    "# Get Tile URL\n",
    "r = requests.get(\n",
    "    f\"{titiler_endpoint}/stac/tilejson.json\",\n",
    "    params = {\n",
    "        \"url\": stac_item,\n",
    "        \"assets\": \"B3,B2,B1\",  # Simple RGB combination\n",
    "        \"minzoom\": 8,  # By default titiler will use 0\n",
    "        \"maxzoom\": 14, # By default titiler will use 24\n",
    "    }\n",
    ").json()\n",
    "\n",
    "m = Map(\n",
    "    location=((bounds[1] + bounds[3]) / 2,(bounds[0] + bounds[2]) / 2),\n",
    "    zoom_start=10\n",
    ")\n",
    "\n",
    "tiles = TileLayer(\n",
    "    tiles=r[\"tiles\"][0],\n",
    "    min_zoom=r[\"minzoom\"],\n",
    "    max_zoom=r[\"maxzoom\"],\n",
    "    opacity=1,\n",
    "    attr=\"Government of Canada\"\n",
    ")\n",
    "tiles.add_to(m)\n",
    "m"
   ]
  },
  {
   "cell_type": "code",
   "execution_count": null,
   "metadata": {},
   "outputs": [],
   "source": []
  }
 ],
 "metadata": {
  "kernelspec": {
   "display_name": "Python 3",
   "language": "python",
   "name": "python3"
  },
  "language_info": {
   "codemirror_mode": {
    "name": "ipython",
    "version": 3
   },
   "file_extension": ".py",
   "mimetype": "text/x-python",
   "name": "python",
   "nbconvert_exporter": "python",
   "pygments_lexer": "ipython3",
   "version": "3.8.6"
  }
 },
 "nbformat": 4,
 "nbformat_minor": 4
}
