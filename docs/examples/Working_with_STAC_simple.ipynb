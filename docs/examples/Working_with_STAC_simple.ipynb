{
 "cells": [
  {
   "cell_type": "markdown",
   "metadata": {},
   "source": [
    "# Working With STAC\n",
    "\n",
    "[![Binder](https://mybinder.org/badge_logo.svg)](https://mybinder.org/v2/gh/developmentseed/titiler/master?filepath=docs%2Fexamples%2FWorking_with_STAC_simple.ipynb)\n",
    "\n",
    "### STAC: SpatioTemporal Asset Catalog\n",
    "\n",
    "> The SpatioTemporal Asset Catalog (STAC) specification aims to standardize the way geospatial assets are exposed online and queried. A 'spatiotemporal asset' is any file that represents information about the earth captured in a certain space and time. The initial focus is primarily remotely-sensed imagery (from satellites, but also planes, drones, balloons, etc), but the core is designed to be extensible to SAR, full motion video, point clouds, hyperspectral, LiDAR and derived data like NDVI, Digital Elevation Models, mosaics, etc.\n",
    "\n",
    "Ref: https://github.com/radiantearth/stac-spechttps://github.com/radiantearth/stac-spec\n",
    "\n",
    "Using STAC makes data indexation and discovery really easy. In addition to the Collection/Item/Asset (data) specifications, data providers are also encouraged to follow a STAC API specification:  https://github.com/radiantearth/stac-api-spec\n",
    "\n",
    "> The API is compliant with the OGC API - Features standard (formerly known as OGC Web Feature Service 3), in that it defines many of the endpoints that STAC uses. A STAC API should be compatible and usable with any OGC API - Features clients. The STAC API can be thought of as a specialized Features API to search STAC Catalogs, where the features returned are STAC Items, that have common properties, links to their assets and geometries that represent the footprints of the geospatial assets."
   ]
  },
  {
   "cell_type": "markdown",
   "metadata": {},
   "source": [
    "\n",
    "## Requirements\n",
    "\n",
    "To be able to run this notebook you'll need the following requirements:\n",
    "- ipyleaflet\n",
    "- requests\n",
    "- rasterio\n",
    "\n",
    "`!pip install ipyleaflet requests rasterio`"
   ]
  },
  {
   "cell_type": "code",
   "execution_count": 1,
   "metadata": {
    "tags": []
   },
   "outputs": [
    {
     "name": "stdout",
     "output_type": "stream",
     "text": [
      "Populating the interactive namespace from numpy and matplotlib\n"
     ]
    }
   ],
   "source": [
    "import requests\n",
    "\n",
    "from rasterio.features import bounds as featureBounds\n",
    "\n",
    "from ipyleaflet import Map, basemaps, TileLayer, basemap_to_tiles, GeoJSON\n",
    "\n",
    "%pylab inline"
   ]
  },
  {
   "cell_type": "code",
   "execution_count": 2,
   "metadata": {},
   "outputs": [],
   "source": [
    "titiler_endpoint = \"https://api.cogeo.xyz/\"  # Devseed temporary endpoint\n",
    "stac_item = \"https://canada-spot-ortho.s3.amazonaws.com/canada_spot_orthoimages/canada_spot5_orthoimages/S5_2007/S5_11055_6057_20070622/S5_11055_6057_20070622.json\""
   ]
  },
  {
   "cell_type": "code",
   "execution_count": 3,
   "metadata": {
    "scrolled": true,
    "tags": []
   },
   "outputs": [
    {
     "name": "stdout",
     "output_type": "stream",
     "text": [
      "{'type': 'Feature', 'stac_version': '0.8.1', 'id': 'S5_11055_6057_20070622', 'properties': {'eo:gsd': 20, 'eo:bands': [{'name': 'Panchromatic', 'common_name': 'panchromatic', 'description': 'Panchromatic: 480-710 nm'}, {'name': 'Green', 'common_name': 'green', 'description': 'Green: 500-590 nm'}, {'name': 'Red', 'common_name': 'red', 'description': 'Red: 610-680 nm'}, {'name': 'Near Infrared', 'common_name': 'nir', 'description': 'Near Infrared: 780-890 nm'}, {'name': 'ShortWave Infrared', 'common_name': 'swir', 'description': 'ShortWave Infrared: 1580-1750 nm'}], 'proj:epsg': 3979, 'datetime': '2007-06-22T00:00:00Z'}, 'geometry': {'type': 'Polygon', 'coordinates': [[[-111.6453245, 60.81065789999892], [-111.2296762, 61.30928879999903], [-110.1583693, 61.093875199999], [-110.5877877, 60.59892389999882], [-111.6453245, 60.81065789999892]]]}, 'bbox': [-111.6453245, 60.59892389999882, -110.1583693, 61.30928879999903], 'links': [{'rel': 'collection', 'href': 'https://canada-spot-ortho.s3.amazonaws.com/canada_spot_orthoimages/canada_spot5_orthoimages/collection.json', 'type': 'application/json'}, {'rel': 'self', 'href': 'https://canada-spot-ortho.s3.amazonaws.com/canada_spot_orthoimages/canada_spot5_orthoimages/S5_2007/S5_11055_6057_20070622/S5_11055_6057_20070622.json', 'type': 'application/json'}, {'rel': 'root', 'href': 'https://canada-spot-ortho.s3.amazonaws.com/catalog.json', 'type': 'application/json'}, {'rel': 'parent', 'href': 'https://canada-spot-ortho.s3.amazonaws.com/canada_spot_orthoimages/canada_spot5_orthoimages/S5_2007/catalog.json', 'type': 'application/json'}], 'assets': {'pan': {'href': 'https://canada-spot-ortho.s3.amazonaws.com/canada_spot_orthoimages/canada_spot5_orthoimages/S5_2007/S5_11055_6057_20070622/s5_11055_6057_20070622_p10_1_lcc00_cog.tif', 'type': 'image/tiff; application=geotiff; profile=cloud-optimized', 'title': 'pan'}, 'B1': {'href': 'https://canada-spot-ortho.s3.amazonaws.com/canada_spot_orthoimages/canada_spot5_orthoimages/S5_2007/S5_11055_6057_20070622/s5_11055_6057_20070622_m20_1_lcc00_cog.tif', 'type': 'image/tiff; application=geotiff; profile=cloud-optimized', 'title': 'B1'}, 'B2': {'href': 'https://canada-spot-ortho.s3.amazonaws.com/canada_spot_orthoimages/canada_spot5_orthoimages/S5_2007/S5_11055_6057_20070622/s5_11055_6057_20070622_m20_2_lcc00_cog.tif', 'type': 'image/tiff; application=geotiff; profile=cloud-optimized', 'title': 'B2'}, 'thumbnail': {'href': 'https://canada-spot-ortho.s3.amazonaws.com/canada_spot_orthoimages/canada_spot5_orthoimages/S5_2007/S5_11055_6057_20070622/s5_11055_6057_20070622_tn.jpg', 'type': 'image/jpeg', 'title': 'thumbnail'}, 'B3': {'href': 'https://canada-spot-ortho.s3.amazonaws.com/canada_spot_orthoimages/canada_spot5_orthoimages/S5_2007/S5_11055_6057_20070622/s5_11055_6057_20070622_m20_3_lcc00_cog.tif', 'type': 'image/tiff; application=geotiff; profile=cloud-optimized', 'title': 'B3'}, 'B4': {'href': 'https://canada-spot-ortho.s3.amazonaws.com/canada_spot_orthoimages/canada_spot5_orthoimages/S5_2007/S5_11055_6057_20070622/s5_11055_6057_20070622_m20_4_lcc00_cog.tif', 'type': 'image/tiff; application=geotiff; profile=cloud-optimized', 'title': 'B4'}}, 'collection': 'canada_spot5_orthoimages'}\n"
     ]
    }
   ],
   "source": [
    "item = requests.get(stac_item).json()\n",
    "print(item)"
   ]
  },
  {
   "cell_type": "code",
   "execution_count": 4,
   "metadata": {
    "tags": []
   },
   "outputs": [
    {
     "name": "stdout",
     "output_type": "stream",
     "text": [
      "['pan', 'B1', 'B2', 'thumbnail', 'B3', 'B4']\n",
      "image/tiff; application=geotiff; profile=cloud-optimized\n",
      "image/tiff; application=geotiff; profile=cloud-optimized\n",
      "image/tiff; application=geotiff; profile=cloud-optimized\n",
      "image/jpeg\n",
      "image/tiff; application=geotiff; profile=cloud-optimized\n",
      "image/tiff; application=geotiff; profile=cloud-optimized\n"
     ]
    }
   ],
   "source": [
    "print(list(item[\"assets\"]))\n",
    "for it, asset in item[\"assets\"].items():\n",
    "    print(asset[\"type\"])"
   ]
  },
  {
   "cell_type": "code",
   "execution_count": 5,
   "metadata": {},
   "outputs": [
    {
     "data": {
      "application/vnd.jupyter.widget-view+json": {
       "model_id": "da18375998e14dba895126755f4a1c67",
       "version_major": 2,
       "version_minor": 0
      },
      "text/plain": [
       "Map(center=[60.95410634999892, -110.90184690000001], controls=(ZoomControl(options=['position', 'zoom_in_text'…"
      ]
     },
     "metadata": {},
     "output_type": "display_data"
    }
   ],
   "source": [
    "bounds = featureBounds(item)\n",
    "\n",
    "m = Map(\n",
    "    basemap=basemaps.OpenStreetMap.Mapnik,\n",
    "    center=((bounds[1] + bounds[3]) / 2,(bounds[0] + bounds[2]) / 2),\n",
    "    zoom=8\n",
    ")\n",
    "\n",
    "geo_json = GeoJSON(data=item)\n",
    "m.add_layer(geo_json)\n",
    "m"
   ]
  },
  {
   "cell_type": "code",
   "execution_count": 6,
   "metadata": {
    "tags": []
   },
   "outputs": [
    {
     "name": "stdout",
     "output_type": "stream",
     "text": [
      "['pan', 'B1', 'B2', 'B3', 'B4']\n"
     ]
    }
   ],
   "source": [
    "# Get Tile URL\n",
    "r = requests.get(\n",
    "    f\"{titiler_endpoint}/stac/info\",\n",
    "    params = {\n",
    "        \"url\": stac_item,\n",
    "    }\n",
    ").json()\n",
    "print(r)"
   ]
  },
  {
   "cell_type": "markdown",
   "metadata": {},
   "source": [
    "### Display one asset"
   ]
  },
  {
   "cell_type": "code",
   "execution_count": 7,
   "metadata": {},
   "outputs": [
    {
     "data": {
      "application/vnd.jupyter.widget-view+json": {
       "model_id": "38d5e41e4d67476dbf1da4ad2f58a648",
       "version_major": 2,
       "version_minor": 0
      },
      "text/plain": [
       "Map(center=[60.95410634999892, -110.90184690000001], controls=(ZoomControl(options=['position', 'zoom_in_text'…"
      ]
     },
     "metadata": {},
     "output_type": "display_data"
    }
   ],
   "source": [
    "r = requests.get(\n",
    "    f\"{titiler_endpoint}/stac/tilejson.json\",\n",
    "    params = {\n",
    "        \"url\": stac_item,\n",
    "        \"assets\": \"pan\",\n",
    "        \"minzoom\": 8,  # By default titiler will use 0\n",
    "        \"maxzoom\": 14, # By default titiler will use 24\n",
    "    }\n",
    ").json()\n",
    "\n",
    "m = Map(\n",
    "    center=((bounds[1] + bounds[3]) / 2,(bounds[0] + bounds[2]) / 2),\n",
    "    zoom=10\n",
    ")\n",
    "\n",
    "tiles = TileLayer(\n",
    "    url=r[\"tiles\"][0],\n",
    "    min_zoom=r[\"minzoom\"],\n",
    "    max_zoom=r[\"maxzoom\"],\n",
    "    opacity=1\n",
    ")\n",
    "m.add_layer(tiles)\n",
    "m"
   ]
  },
  {
   "cell_type": "markdown",
   "metadata": {},
   "source": [
    "### Merge Assets"
   ]
  },
  {
   "cell_type": "code",
   "execution_count": 8,
   "metadata": {},
   "outputs": [
    {
     "data": {
      "application/vnd.jupyter.widget-view+json": {
       "model_id": "0201ed911c3341aca94dd8f5036fd726",
       "version_major": 2,
       "version_minor": 0
      },
      "text/plain": [
       "Map(center=[60.95410634999892, -110.90184690000001], controls=(ZoomControl(options=['position', 'zoom_in_text'…"
      ]
     },
     "metadata": {},
     "output_type": "display_data"
    }
   ],
   "source": [
    "# Get Tile URL\n",
    "r = requests.get(\n",
    "    f\"{titiler_endpoint}/stac/tilejson.json\",\n",
    "    params = {\n",
    "        \"url\": stac_item,\n",
    "        \"assets\": \"B3,B2,B1\",  # Simple RGB combination\n",
    "        \"minzoom\": 8,  # By default titiler will use 0\n",
    "        \"maxzoom\": 14, # By default titiler will use 24\n",
    "    }\n",
    ").json()\n",
    "\n",
    "m = Map(\n",
    "    center=((bounds[1] + bounds[3]) / 2,(bounds[0] + bounds[2]) / 2),\n",
    "    zoom=10\n",
    ")\n",
    "\n",
    "tiles = TileLayer(\n",
    "    url=r[\"tiles\"][0],\n",
    "    min_zoom=r[\"minzoom\"],\n",
    "    max_zoom=r[\"maxzoom\"],\n",
    "    opacity=1\n",
    ")\n",
    "m.add_layer(tiles)\n",
    "m"
   ]
  }
 ],
 "metadata": {
  "kernelspec": {
   "display_name": "Python 3",
   "language": "python",
   "name": "python3"
  },
  "language_info": {
   "codemirror_mode": {
    "name": "ipython",
    "version": 3
   },
   "file_extension": ".py",
   "mimetype": "text/x-python",
   "name": "python",
   "nbconvert_exporter": "python",
   "pygments_lexer": "ipython3",
   "version": "3.7.7"
  }
 },
 "nbformat": 4,
 "nbformat_minor": 4
}
