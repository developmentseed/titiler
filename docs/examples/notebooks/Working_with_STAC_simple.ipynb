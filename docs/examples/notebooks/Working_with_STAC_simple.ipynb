{
 "cells": [
  {
   "cell_type": "markdown",
   "metadata": {},
   "source": [
    "# Working With STAC\n",
    "\n",
    "[![Binder](https://mybinder.org/badge_logo.svg)](https://mybinder.org/v2/gh/developmentseed/titiler/master?filepath=docs%2Fexamples%2F%2Fnotebooks%2FWorking_with_STAC_simple.ipynb)\n",
    "\n",
    "### STAC: SpatioTemporal Asset Catalog\n",
    "\n",
    "> The SpatioTemporal Asset Catalog (STAC) specification aims to standardize the way geospatial assets are exposed online and queried. A 'spatiotemporal asset' is any file that represents information about the earth captured in a certain space and time. The initial focus is primarily remotely-sensed imagery (from satellites, but also planes, drones, balloons, etc), but the core is designed to be extensible to SAR, full motion video, point clouds, hyperspectral, LiDAR and derived data like NDVI, Digital Elevation Models, mosaics, etc.\n",
    "\n",
    "Ref: https://github.com/radiantearth/stac-spechttps://github.com/radiantearth/stac-spec\n",
    "\n",
    "Using STAC makes data indexation and discovery really easy. In addition to the Collection/Item/Asset (data) specifications, data providers are also encouraged to follow a STAC API specification:  https://github.com/radiantearth/stac-api-spec\n",
    "\n",
    "> The API is compliant with the OGC API - Features standard (formerly known as OGC Web Feature Service 3), in that it defines many of the endpoints that STAC uses. A STAC API should be compatible and usable with any OGC API - Features clients. The STAC API can be thought of as a specialized Features API to search STAC Catalogs, where the features returned are STAC Items, that have common properties, links to their assets and geometries that represent the footprints of the geospatial assets."
   ]
  },
  {
   "cell_type": "markdown",
   "metadata": {},
   "source": [
    "\n",
    "## Requirements\n",
    "\n",
    "To be able to run this notebook you'll need the following requirements:\n",
    "- folium\n",
    "- httpx\n",
    "- rasterio\n",
    "\n",
    "`!pip install folium httpx rasterio`"
   ]
  },
  {
   "cell_type": "code",
   "execution_count": null,
   "metadata": {},
   "outputs": [],
   "source": [
    "# Uncomment this line if you need to install the dependencies\n",
    "# !pip install folium requests rasterio"
   ]
  },
  {
   "cell_type": "code",
   "execution_count": 5,
   "metadata": {
    "tags": []
   },
   "outputs": [
    {
     "name": "stdout",
     "output_type": "stream",
     "text": [
      "Populating the interactive namespace from numpy and matplotlib\n"
     ]
    }
   ],
   "source": [
    "import httpx\n",
    "\n",
    "from rasterio.features import bounds as featureBounds\n",
    "\n",
    "from folium import Map, TileLayer, GeoJson\n",
    "\n",
    "%pylab inline"
   ]
  },
  {
   "cell_type": "code",
   "execution_count": 31,
   "metadata": {},
   "outputs": [],
   "source": [
    "titiler_endpoint = \"https://titiler.xyz\"  # Developmentseed Demo endpoint. Please be kind.\n",
    "stac_item = \"https://sentinel-cogs.s3.amazonaws.com/sentinel-s2-l2a-cogs/34/S/GA/2020/3/S2A_34SGA_20200301_0_L2A/S2A_34SGA_20200301_0_L2A.json\""
   ]
  },
  {
   "cell_type": "code",
   "execution_count": 32,
   "metadata": {
    "scrolled": true,
    "tags": []
   },
   "outputs": [
    {
     "name": "stdout",
     "output_type": "stream",
     "text": [
      "{'type': 'Feature', 'stac_version': '1.0.0-beta.2', 'stac_extensions': ['eo', 'view', 'proj'], 'id': 'S2A_34SGA_20200301_0_L2A', 'bbox': [23.10608697239106, 31.512648251713085, 24.24775213279613, 32.51932567672379], 'geometry': {'type': 'Polygon', 'coordinates': [[[23.954137787703402, 31.512648251713085], [23.10608697239106, 31.529431170424147], [23.128869274501948, 32.51932567672379], [24.24775213279613, 32.495400678020594], [23.954137787703402, 31.512648251713085]]]}, 'properties': {'datetime': '2020-03-01T09:21:28Z', 'platform': 'sentinel-2a', 'constellation': 'sentinel-2', 'instruments': ['msi'], 'gsd': 10, 'view:off_nadir': 0, 'proj:epsg': 32634, 'sentinel:utm_zone': 34, 'sentinel:latitude_band': 'S', 'sentinel:grid_square': 'GA', 'sentinel:sequence': '0', 'sentinel:product_id': 'S2A_MSIL2A_20200301T090901_N0214_R050_T34SGA_20200301T114118', 'sentinel:data_coverage': 84.61, 'eo:cloud_cover': 1.81, 'sentinel:valid_cloud_cover': True}, 'collection': 'sentinel-s2-l2a-cogs', 'assets': {'thumbnail': {'title': 'Thumbnail', 'type': 'image/png', 'href': 'https://roda.sentinel-hub.com/sentinel-s2-l1c/tiles/34/S/GA/2020/3/1/0/preview.jpg'}, 'overview': {'title': 'True color image', 'type': 'image/tiff; application=geotiff; profile=cloud-optimized', 'href': 'https://sentinel-cogs.s3.us-west-2.amazonaws.com/sentinel-s2-l2a-cogs/34/S/GA/2020/3/S2A_34SGA_20200301_0_L2A/L2A_PVI.tif', 'proj:shape': [343, 343], 'proj:transform': [320.0, 0.0, 699960.0, 0.0, -320.0, 3600000.0, 0.0, 0.0, 1.0]}, 'info': {'title': 'Original JSON metadata', 'type': 'application/json', 'href': 'https://roda.sentinel-hub.com/sentinel-s2-l2a/tiles/34/S/GA/2020/3/1/0/tileInfo.json'}, 'metadata': {'title': 'Original XML metadata', 'type': 'application/xml', 'href': 'https://roda.sentinel-hub.com/sentinel-s2-l2a/tiles/34/S/GA/2020/3/1/0/metadata.xml'}, 'visual': {'title': 'True color image', 'type': 'image/tiff; application=geotiff; profile=cloud-optimized', 'href': 'https://sentinel-cogs.s3.us-west-2.amazonaws.com/sentinel-s2-l2a-cogs/34/S/GA/2020/3/S2A_34SGA_20200301_0_L2A/TCI.tif', 'proj:shape': [10980, 10980], 'proj:transform': [10.0, 0.0, 699960.0, 0.0, -10.0, 3600000.0, 0.0, 0.0, 1.0]}, 'B01': {'title': 'Band 1 (coastal)', 'type': 'image/tiff; application=geotiff; profile=cloud-optimized', 'href': 'https://sentinel-cogs.s3.us-west-2.amazonaws.com/sentinel-s2-l2a-cogs/34/S/GA/2020/3/S2A_34SGA_20200301_0_L2A/B01.tif', 'proj:shape': [1830, 1830], 'proj:transform': [60.0, 0.0, 699960.0, 0.0, -60.0, 3600000.0, 0.0, 0.0, 1.0]}, 'B02': {'title': 'Band 2 (blue)', 'type': 'image/tiff; application=geotiff; profile=cloud-optimized', 'href': 'https://sentinel-cogs.s3.us-west-2.amazonaws.com/sentinel-s2-l2a-cogs/34/S/GA/2020/3/S2A_34SGA_20200301_0_L2A/B02.tif', 'proj:shape': [10980, 10980], 'proj:transform': [10.0, 0.0, 699960.0, 0.0, -10.0, 3600000.0, 0.0, 0.0, 1.0]}, 'B03': {'title': 'Band 3 (green)', 'type': 'image/tiff; application=geotiff; profile=cloud-optimized', 'href': 'https://sentinel-cogs.s3.us-west-2.amazonaws.com/sentinel-s2-l2a-cogs/34/S/GA/2020/3/S2A_34SGA_20200301_0_L2A/B03.tif', 'proj:shape': [10980, 10980], 'proj:transform': [10.0, 0.0, 699960.0, 0.0, -10.0, 3600000.0, 0.0, 0.0, 1.0]}, 'B04': {'title': 'Band 4 (red)', 'type': 'image/tiff; application=geotiff; profile=cloud-optimized', 'href': 'https://sentinel-cogs.s3.us-west-2.amazonaws.com/sentinel-s2-l2a-cogs/34/S/GA/2020/3/S2A_34SGA_20200301_0_L2A/B04.tif', 'proj:shape': [10980, 10980], 'proj:transform': [10.0, 0.0, 699960.0, 0.0, -10.0, 3600000.0, 0.0, 0.0, 1.0]}, 'B05': {'title': 'Band 5', 'type': 'image/tiff; application=geotiff; profile=cloud-optimized', 'href': 'https://sentinel-cogs.s3.us-west-2.amazonaws.com/sentinel-s2-l2a-cogs/34/S/GA/2020/3/S2A_34SGA_20200301_0_L2A/B05.tif', 'proj:shape': [5490, 5490], 'proj:transform': [20.0, 0.0, 699960.0, 0.0, -20.0, 3600000.0, 0.0, 0.0, 1.0]}, 'B06': {'title': 'Band 6', 'type': 'image/tiff; application=geotiff; profile=cloud-optimized', 'href': 'https://sentinel-cogs.s3.us-west-2.amazonaws.com/sentinel-s2-l2a-cogs/34/S/GA/2020/3/S2A_34SGA_20200301_0_L2A/B06.tif', 'proj:shape': [5490, 5490], 'proj:transform': [20.0, 0.0, 699960.0, 0.0, -20.0, 3600000.0, 0.0, 0.0, 1.0]}, 'B07': {'title': 'Band 7', 'type': 'image/tiff; application=geotiff; profile=cloud-optimized', 'href': 'https://sentinel-cogs.s3.us-west-2.amazonaws.com/sentinel-s2-l2a-cogs/34/S/GA/2020/3/S2A_34SGA_20200301_0_L2A/B07.tif', 'proj:shape': [5490, 5490], 'proj:transform': [20.0, 0.0, 699960.0, 0.0, -20.0, 3600000.0, 0.0, 0.0, 1.0]}, 'B08': {'title': 'Band 8 (nir)', 'type': 'image/tiff; application=geotiff; profile=cloud-optimized', 'href': 'https://sentinel-cogs.s3.us-west-2.amazonaws.com/sentinel-s2-l2a-cogs/34/S/GA/2020/3/S2A_34SGA_20200301_0_L2A/B08.tif', 'proj:shape': [10980, 10980], 'proj:transform': [10.0, 0.0, 699960.0, 0.0, -10.0, 3600000.0, 0.0, 0.0, 1.0]}, 'B8A': {'title': 'Band 8A', 'type': 'image/tiff; application=geotiff; profile=cloud-optimized', 'href': 'https://sentinel-cogs.s3.us-west-2.amazonaws.com/sentinel-s2-l2a-cogs/34/S/GA/2020/3/S2A_34SGA_20200301_0_L2A/B8A.tif', 'proj:shape': [5490, 5490], 'proj:transform': [20.0, 0.0, 699960.0, 0.0, -20.0, 3600000.0, 0.0, 0.0, 1.0]}, 'B09': {'title': 'Band 9', 'type': 'image/tiff; application=geotiff; profile=cloud-optimized', 'href': 'https://sentinel-cogs.s3.us-west-2.amazonaws.com/sentinel-s2-l2a-cogs/34/S/GA/2020/3/S2A_34SGA_20200301_0_L2A/B09.tif', 'proj:shape': [1830, 1830], 'proj:transform': [60.0, 0.0, 699960.0, 0.0, -60.0, 3600000.0, 0.0, 0.0, 1.0]}, 'B11': {'title': 'Band 11 (swir16)', 'type': 'image/tiff; application=geotiff; profile=cloud-optimized', 'href': 'https://sentinel-cogs.s3.us-west-2.amazonaws.com/sentinel-s2-l2a-cogs/34/S/GA/2020/3/S2A_34SGA_20200301_0_L2A/B11.tif', 'proj:shape': [5490, 5490], 'proj:transform': [20.0, 0.0, 699960.0, 0.0, -20.0, 3600000.0, 0.0, 0.0, 1.0]}, 'B12': {'title': 'Band 12 (swir22)', 'type': 'image/tiff; application=geotiff; profile=cloud-optimized', 'href': 'https://sentinel-cogs.s3.us-west-2.amazonaws.com/sentinel-s2-l2a-cogs/34/S/GA/2020/3/S2A_34SGA_20200301_0_L2A/B12.tif', 'proj:shape': [5490, 5490], 'proj:transform': [20.0, 0.0, 699960.0, 0.0, -20.0, 3600000.0, 0.0, 0.0, 1.0]}, 'AOT': {'title': 'Aerosol Optical Thickness (AOT)', 'type': 'image/tiff; application=geotiff; profile=cloud-optimized', 'href': 'https://sentinel-cogs.s3.us-west-2.amazonaws.com/sentinel-s2-l2a-cogs/34/S/GA/2020/3/S2A_34SGA_20200301_0_L2A/AOT.tif', 'proj:shape': [1830, 1830], 'proj:transform': [60.0, 0.0, 699960.0, 0.0, -60.0, 3600000.0, 0.0, 0.0, 1.0]}, 'WVP': {'title': 'Water Vapour (WVP)', 'type': 'image/tiff; application=geotiff; profile=cloud-optimized', 'href': 'https://sentinel-cogs.s3.us-west-2.amazonaws.com/sentinel-s2-l2a-cogs/34/S/GA/2020/3/S2A_34SGA_20200301_0_L2A/WVP.tif', 'proj:shape': [10980, 10980], 'proj:transform': [10.0, 0.0, 699960.0, 0.0, -10.0, 3600000.0, 0.0, 0.0, 1.0]}, 'SCL': {'title': 'Scene Classification Map (SCL)', 'type': 'image/tiff; application=geotiff; profile=cloud-optimized', 'href': 'https://sentinel-cogs.s3.us-west-2.amazonaws.com/sentinel-s2-l2a-cogs/34/S/GA/2020/3/S2A_34SGA_20200301_0_L2A/SCL.tif', 'proj:shape': [5490, 5490], 'proj:transform': [20.0, 0.0, 699960.0, 0.0, -20.0, 3600000.0, 0.0, 0.0, 1.0]}}, 'links': [{'rel': 'self', 'href': 's3://sentinel-cogs/sentinel-s2-l2a-cogs/34/S/GA/2020/3/S2A_34SGA_20200301_0_L2A/S2A_34SGA_20200301_0_L2A.json', 'type': 'application/json'}, {'title': 'Source STAC Item', 'rel': 'derived_from', 'href': 's3://cirrus-v0-data-1qm7gekzjucbq/sentinel-s2-l2a/34/S/GA/2020/3/S2A_34SGA_20200301_0_L2A/S2A_34SGA_20200301_0_L2A.json', 'type': 'application/json'}]}\n"
     ]
    }
   ],
   "source": [
    "item = httpx.get(stac_item).json()\n",
    "print(item)"
   ]
  },
  {
   "cell_type": "code",
   "execution_count": 33,
   "metadata": {
    "tags": []
   },
   "outputs": [
    {
     "name": "stdout",
     "output_type": "stream",
     "text": [
      "['thumbnail', 'overview', 'info', 'metadata', 'visual', 'B01', 'B02', 'B03', 'B04', 'B05', 'B06', 'B07', 'B08', 'B8A', 'B09', 'B11', 'B12', 'AOT', 'WVP', 'SCL']\n",
      "image/png\n",
      "image/tiff; application=geotiff; profile=cloud-optimized\n",
      "application/json\n",
      "application/xml\n",
      "image/tiff; application=geotiff; profile=cloud-optimized\n",
      "image/tiff; application=geotiff; profile=cloud-optimized\n",
      "image/tiff; application=geotiff; profile=cloud-optimized\n",
      "image/tiff; application=geotiff; profile=cloud-optimized\n",
      "image/tiff; application=geotiff; profile=cloud-optimized\n",
      "image/tiff; application=geotiff; profile=cloud-optimized\n",
      "image/tiff; application=geotiff; profile=cloud-optimized\n",
      "image/tiff; application=geotiff; profile=cloud-optimized\n",
      "image/tiff; application=geotiff; profile=cloud-optimized\n",
      "image/tiff; application=geotiff; profile=cloud-optimized\n",
      "image/tiff; application=geotiff; profile=cloud-optimized\n",
      "image/tiff; application=geotiff; profile=cloud-optimized\n",
      "image/tiff; application=geotiff; profile=cloud-optimized\n",
      "image/tiff; application=geotiff; profile=cloud-optimized\n",
      "image/tiff; application=geotiff; profile=cloud-optimized\n",
      "image/tiff; application=geotiff; profile=cloud-optimized\n"
     ]
    }
   ],
   "source": [
    "print(list(item[\"assets\"]))\n",
    "for it, asset in item[\"assets\"].items():\n",
    "    print(asset[\"type\"])"
   ]
  },
  {
   "cell_type": "code",
   "execution_count": 34,
   "metadata": {},
   "outputs": [
    {
     "data": {
      "text/html": [
       "<div style=\"width:100%;\"><div style=\"position:relative;width:100%;height:0;padding-bottom:60%;\"><span style=\"color:#565656\">Make this Notebook Trusted to load map: File -> Trust Notebook</span><iframe src=\"about:blank\" style=\"position:absolute;width:100%;height:100%;left:0;top:0;border:none !important;\" data-html=%3C%21DOCTYPE%20html%3E%0A%3Chead%3E%20%20%20%20%0A%20%20%20%20%3Cmeta%20http-equiv%3D%22content-type%22%20content%3D%22text/html%3B%20charset%3DUTF-8%22%20/%3E%0A%20%20%20%20%0A%20%20%20%20%20%20%20%20%3Cscript%3E%0A%20%20%20%20%20%20%20%20%20%20%20%20L_NO_TOUCH%20%3D%20false%3B%0A%20%20%20%20%20%20%20%20%20%20%20%20L_DISABLE_3D%20%3D%20false%3B%0A%20%20%20%20%20%20%20%20%3C/script%3E%0A%20%20%20%20%0A%20%20%20%20%3Cstyle%3Ehtml%2C%20body%20%7Bwidth%3A%20100%25%3Bheight%3A%20100%25%3Bmargin%3A%200%3Bpadding%3A%200%3B%7D%3C/style%3E%0A%20%20%20%20%3Cstyle%3E%23map%20%7Bposition%3Aabsolute%3Btop%3A0%3Bbottom%3A0%3Bright%3A0%3Bleft%3A0%3B%7D%3C/style%3E%0A%20%20%20%20%3Cscript%20src%3D%22https%3A//cdn.jsdelivr.net/npm/leaflet%401.6.0/dist/leaflet.js%22%3E%3C/script%3E%0A%20%20%20%20%3Cscript%20src%3D%22https%3A//code.jquery.com/jquery-1.12.4.min.js%22%3E%3C/script%3E%0A%20%20%20%20%3Cscript%20src%3D%22https%3A//maxcdn.bootstrapcdn.com/bootstrap/3.2.0/js/bootstrap.min.js%22%3E%3C/script%3E%0A%20%20%20%20%3Cscript%20src%3D%22https%3A//cdnjs.cloudflare.com/ajax/libs/Leaflet.awesome-markers/2.0.2/leaflet.awesome-markers.js%22%3E%3C/script%3E%0A%20%20%20%20%3Clink%20rel%3D%22stylesheet%22%20href%3D%22https%3A//cdn.jsdelivr.net/npm/leaflet%401.6.0/dist/leaflet.css%22/%3E%0A%20%20%20%20%3Clink%20rel%3D%22stylesheet%22%20href%3D%22https%3A//maxcdn.bootstrapcdn.com/bootstrap/3.2.0/css/bootstrap.min.css%22/%3E%0A%20%20%20%20%3Clink%20rel%3D%22stylesheet%22%20href%3D%22https%3A//maxcdn.bootstrapcdn.com/bootstrap/3.2.0/css/bootstrap-theme.min.css%22/%3E%0A%20%20%20%20%3Clink%20rel%3D%22stylesheet%22%20href%3D%22https%3A//maxcdn.bootstrapcdn.com/font-awesome/4.6.3/css/font-awesome.min.css%22/%3E%0A%20%20%20%20%3Clink%20rel%3D%22stylesheet%22%20href%3D%22https%3A//cdnjs.cloudflare.com/ajax/libs/Leaflet.awesome-markers/2.0.2/leaflet.awesome-markers.css%22/%3E%0A%20%20%20%20%3Clink%20rel%3D%22stylesheet%22%20href%3D%22https%3A//cdn.jsdelivr.net/gh/python-visualization/folium/folium/templates/leaflet.awesome.rotate.min.css%22/%3E%0A%20%20%20%20%0A%20%20%20%20%20%20%20%20%20%20%20%20%3Cmeta%20name%3D%22viewport%22%20content%3D%22width%3Ddevice-width%2C%0A%20%20%20%20%20%20%20%20%20%20%20%20%20%20%20%20initial-scale%3D1.0%2C%20maximum-scale%3D1.0%2C%20user-scalable%3Dno%22%20/%3E%0A%20%20%20%20%20%20%20%20%20%20%20%20%3Cstyle%3E%0A%20%20%20%20%20%20%20%20%20%20%20%20%20%20%20%20%23map_d421e2f6c59c42d08a3c0f38aa39e6c9%20%7B%0A%20%20%20%20%20%20%20%20%20%20%20%20%20%20%20%20%20%20%20%20position%3A%20relative%3B%0A%20%20%20%20%20%20%20%20%20%20%20%20%20%20%20%20%20%20%20%20width%3A%20100.0%25%3B%0A%20%20%20%20%20%20%20%20%20%20%20%20%20%20%20%20%20%20%20%20height%3A%20100.0%25%3B%0A%20%20%20%20%20%20%20%20%20%20%20%20%20%20%20%20%20%20%20%20left%3A%200.0%25%3B%0A%20%20%20%20%20%20%20%20%20%20%20%20%20%20%20%20%20%20%20%20top%3A%200.0%25%3B%0A%20%20%20%20%20%20%20%20%20%20%20%20%20%20%20%20%7D%0A%20%20%20%20%20%20%20%20%20%20%20%20%3C/style%3E%0A%20%20%20%20%20%20%20%20%0A%3C/head%3E%0A%3Cbody%3E%20%20%20%20%0A%20%20%20%20%0A%20%20%20%20%20%20%20%20%20%20%20%20%3Cdiv%20class%3D%22folium-map%22%20id%3D%22map_d421e2f6c59c42d08a3c0f38aa39e6c9%22%20%3E%3C/div%3E%0A%20%20%20%20%20%20%20%20%0A%3C/body%3E%0A%3Cscript%3E%20%20%20%20%0A%20%20%20%20%0A%20%20%20%20%20%20%20%20%20%20%20%20var%20map_d421e2f6c59c42d08a3c0f38aa39e6c9%20%3D%20L.map%28%0A%20%20%20%20%20%20%20%20%20%20%20%20%20%20%20%20%22map_d421e2f6c59c42d08a3c0f38aa39e6c9%22%2C%0A%20%20%20%20%20%20%20%20%20%20%20%20%20%20%20%20%7B%0A%20%20%20%20%20%20%20%20%20%20%20%20%20%20%20%20%20%20%20%20center%3A%20%5B32.015986964218435%2C%2023.676919552593596%5D%2C%0A%20%20%20%20%20%20%20%20%20%20%20%20%20%20%20%20%20%20%20%20crs%3A%20L.CRS.EPSG3857%2C%0A%20%20%20%20%20%20%20%20%20%20%20%20%20%20%20%20%20%20%20%20zoom%3A%208%2C%0A%20%20%20%20%20%20%20%20%20%20%20%20%20%20%20%20%20%20%20%20zoomControl%3A%20true%2C%0A%20%20%20%20%20%20%20%20%20%20%20%20%20%20%20%20%20%20%20%20preferCanvas%3A%20false%2C%0A%20%20%20%20%20%20%20%20%20%20%20%20%20%20%20%20%7D%0A%20%20%20%20%20%20%20%20%20%20%20%20%29%3B%0A%0A%20%20%20%20%20%20%20%20%20%20%20%20%0A%0A%20%20%20%20%20%20%20%20%0A%20%20%20%20%0A%20%20%20%20%20%20%20%20%20%20%20%20var%20tile_layer_dbfb9038cab54919b62844a0ff2d0f69%20%3D%20L.tileLayer%28%0A%20%20%20%20%20%20%20%20%20%20%20%20%20%20%20%20%22https%3A//%7Bs%7D.tile.openstreetmap.org/%7Bz%7D/%7Bx%7D/%7By%7D.png%22%2C%0A%20%20%20%20%20%20%20%20%20%20%20%20%20%20%20%20%7B%22attribution%22%3A%20%22Data%20by%20%5Cu0026copy%3B%20%5Cu003ca%20href%3D%5C%22http%3A//openstreetmap.org%5C%22%5Cu003eOpenStreetMap%5Cu003c/a%5Cu003e%2C%20under%20%5Cu003ca%20href%3D%5C%22http%3A//www.openstreetmap.org/copyright%5C%22%5Cu003eODbL%5Cu003c/a%5Cu003e.%22%2C%20%22detectRetina%22%3A%20false%2C%20%22maxNativeZoom%22%3A%2018%2C%20%22maxZoom%22%3A%2018%2C%20%22minZoom%22%3A%200%2C%20%22noWrap%22%3A%20false%2C%20%22opacity%22%3A%201%2C%20%22subdomains%22%3A%20%22abc%22%2C%20%22tms%22%3A%20false%7D%0A%20%20%20%20%20%20%20%20%20%20%20%20%29.addTo%28map_d421e2f6c59c42d08a3c0f38aa39e6c9%29%3B%0A%20%20%20%20%20%20%20%20%0A%20%20%20%20%0A%0A%20%20%20%20%20%20%20%20function%20geo_json_4cffeadb5a284900b8b455c5928883e4_onEachFeature%28feature%2C%20layer%29%20%7B%0A%20%20%20%20%20%20%20%20%20%20%20%20layer.on%28%7B%0A%20%20%20%20%20%20%20%20%20%20%20%20%7D%29%3B%0A%20%20%20%20%20%20%20%20%7D%3B%0A%20%20%20%20%20%20%20%20var%20geo_json_4cffeadb5a284900b8b455c5928883e4%20%3D%20L.geoJson%28null%2C%20%7B%0A%20%20%20%20%20%20%20%20%20%20%20%20%20%20%20%20onEachFeature%3A%20geo_json_4cffeadb5a284900b8b455c5928883e4_onEachFeature%2C%0A%20%20%20%20%20%20%20%20%20%20%20%20%0A%20%20%20%20%20%20%20%20%7D%29%3B%0A%0A%20%20%20%20%20%20%20%20function%20geo_json_4cffeadb5a284900b8b455c5928883e4_add%20%28data%29%20%7B%0A%20%20%20%20%20%20%20%20%20%20%20%20geo_json_4cffeadb5a284900b8b455c5928883e4%0A%20%20%20%20%20%20%20%20%20%20%20%20%20%20%20%20.addData%28data%29%0A%20%20%20%20%20%20%20%20%20%20%20%20%20%20%20%20.addTo%28map_d421e2f6c59c42d08a3c0f38aa39e6c9%29%3B%0A%20%20%20%20%20%20%20%20%7D%0A%20%20%20%20%20%20%20%20%20%20%20%20geo_json_4cffeadb5a284900b8b455c5928883e4_add%28%7B%22assets%22%3A%20%7B%22AOT%22%3A%20%7B%22href%22%3A%20%22https%3A//sentinel-cogs.s3.us-west-2.amazonaws.com/sentinel-s2-l2a-cogs/34/S/GA/2020/3/S2A_34SGA_20200301_0_L2A/AOT.tif%22%2C%20%22proj%3Ashape%22%3A%20%5B1830%2C%201830%5D%2C%20%22proj%3Atransform%22%3A%20%5B60.0%2C%200.0%2C%20699960.0%2C%200.0%2C%20-60.0%2C%203600000.0%2C%200.0%2C%200.0%2C%201.0%5D%2C%20%22title%22%3A%20%22Aerosol%20Optical%20Thickness%20%28AOT%29%22%2C%20%22type%22%3A%20%22image/tiff%3B%20application%3Dgeotiff%3B%20profile%3Dcloud-optimized%22%7D%2C%20%22B01%22%3A%20%7B%22href%22%3A%20%22https%3A//sentinel-cogs.s3.us-west-2.amazonaws.com/sentinel-s2-l2a-cogs/34/S/GA/2020/3/S2A_34SGA_20200301_0_L2A/B01.tif%22%2C%20%22proj%3Ashape%22%3A%20%5B1830%2C%201830%5D%2C%20%22proj%3Atransform%22%3A%20%5B60.0%2C%200.0%2C%20699960.0%2C%200.0%2C%20-60.0%2C%203600000.0%2C%200.0%2C%200.0%2C%201.0%5D%2C%20%22title%22%3A%20%22Band%201%20%28coastal%29%22%2C%20%22type%22%3A%20%22image/tiff%3B%20application%3Dgeotiff%3B%20profile%3Dcloud-optimized%22%7D%2C%20%22B02%22%3A%20%7B%22href%22%3A%20%22https%3A//sentinel-cogs.s3.us-west-2.amazonaws.com/sentinel-s2-l2a-cogs/34/S/GA/2020/3/S2A_34SGA_20200301_0_L2A/B02.tif%22%2C%20%22proj%3Ashape%22%3A%20%5B10980%2C%2010980%5D%2C%20%22proj%3Atransform%22%3A%20%5B10.0%2C%200.0%2C%20699960.0%2C%200.0%2C%20-10.0%2C%203600000.0%2C%200.0%2C%200.0%2C%201.0%5D%2C%20%22title%22%3A%20%22Band%202%20%28blue%29%22%2C%20%22type%22%3A%20%22image/tiff%3B%20application%3Dgeotiff%3B%20profile%3Dcloud-optimized%22%7D%2C%20%22B03%22%3A%20%7B%22href%22%3A%20%22https%3A//sentinel-cogs.s3.us-west-2.amazonaws.com/sentinel-s2-l2a-cogs/34/S/GA/2020/3/S2A_34SGA_20200301_0_L2A/B03.tif%22%2C%20%22proj%3Ashape%22%3A%20%5B10980%2C%2010980%5D%2C%20%22proj%3Atransform%22%3A%20%5B10.0%2C%200.0%2C%20699960.0%2C%200.0%2C%20-10.0%2C%203600000.0%2C%200.0%2C%200.0%2C%201.0%5D%2C%20%22title%22%3A%20%22Band%203%20%28green%29%22%2C%20%22type%22%3A%20%22image/tiff%3B%20application%3Dgeotiff%3B%20profile%3Dcloud-optimized%22%7D%2C%20%22B04%22%3A%20%7B%22href%22%3A%20%22https%3A//sentinel-cogs.s3.us-west-2.amazonaws.com/sentinel-s2-l2a-cogs/34/S/GA/2020/3/S2A_34SGA_20200301_0_L2A/B04.tif%22%2C%20%22proj%3Ashape%22%3A%20%5B10980%2C%2010980%5D%2C%20%22proj%3Atransform%22%3A%20%5B10.0%2C%200.0%2C%20699960.0%2C%200.0%2C%20-10.0%2C%203600000.0%2C%200.0%2C%200.0%2C%201.0%5D%2C%20%22title%22%3A%20%22Band%204%20%28red%29%22%2C%20%22type%22%3A%20%22image/tiff%3B%20application%3Dgeotiff%3B%20profile%3Dcloud-optimized%22%7D%2C%20%22B05%22%3A%20%7B%22href%22%3A%20%22https%3A//sentinel-cogs.s3.us-west-2.amazonaws.com/sentinel-s2-l2a-cogs/34/S/GA/2020/3/S2A_34SGA_20200301_0_L2A/B05.tif%22%2C%20%22proj%3Ashape%22%3A%20%5B5490%2C%205490%5D%2C%20%22proj%3Atransform%22%3A%20%5B20.0%2C%200.0%2C%20699960.0%2C%200.0%2C%20-20.0%2C%203600000.0%2C%200.0%2C%200.0%2C%201.0%5D%2C%20%22title%22%3A%20%22Band%205%22%2C%20%22type%22%3A%20%22image/tiff%3B%20application%3Dgeotiff%3B%20profile%3Dcloud-optimized%22%7D%2C%20%22B06%22%3A%20%7B%22href%22%3A%20%22https%3A//sentinel-cogs.s3.us-west-2.amazonaws.com/sentinel-s2-l2a-cogs/34/S/GA/2020/3/S2A_34SGA_20200301_0_L2A/B06.tif%22%2C%20%22proj%3Ashape%22%3A%20%5B5490%2C%205490%5D%2C%20%22proj%3Atransform%22%3A%20%5B20.0%2C%200.0%2C%20699960.0%2C%200.0%2C%20-20.0%2C%203600000.0%2C%200.0%2C%200.0%2C%201.0%5D%2C%20%22title%22%3A%20%22Band%206%22%2C%20%22type%22%3A%20%22image/tiff%3B%20application%3Dgeotiff%3B%20profile%3Dcloud-optimized%22%7D%2C%20%22B07%22%3A%20%7B%22href%22%3A%20%22https%3A//sentinel-cogs.s3.us-west-2.amazonaws.com/sentinel-s2-l2a-cogs/34/S/GA/2020/3/S2A_34SGA_20200301_0_L2A/B07.tif%22%2C%20%22proj%3Ashape%22%3A%20%5B5490%2C%205490%5D%2C%20%22proj%3Atransform%22%3A%20%5B20.0%2C%200.0%2C%20699960.0%2C%200.0%2C%20-20.0%2C%203600000.0%2C%200.0%2C%200.0%2C%201.0%5D%2C%20%22title%22%3A%20%22Band%207%22%2C%20%22type%22%3A%20%22image/tiff%3B%20application%3Dgeotiff%3B%20profile%3Dcloud-optimized%22%7D%2C%20%22B08%22%3A%20%7B%22href%22%3A%20%22https%3A//sentinel-cogs.s3.us-west-2.amazonaws.com/sentinel-s2-l2a-cogs/34/S/GA/2020/3/S2A_34SGA_20200301_0_L2A/B08.tif%22%2C%20%22proj%3Ashape%22%3A%20%5B10980%2C%2010980%5D%2C%20%22proj%3Atransform%22%3A%20%5B10.0%2C%200.0%2C%20699960.0%2C%200.0%2C%20-10.0%2C%203600000.0%2C%200.0%2C%200.0%2C%201.0%5D%2C%20%22title%22%3A%20%22Band%208%20%28nir%29%22%2C%20%22type%22%3A%20%22image/tiff%3B%20application%3Dgeotiff%3B%20profile%3Dcloud-optimized%22%7D%2C%20%22B09%22%3A%20%7B%22href%22%3A%20%22https%3A//sentinel-cogs.s3.us-west-2.amazonaws.com/sentinel-s2-l2a-cogs/34/S/GA/2020/3/S2A_34SGA_20200301_0_L2A/B09.tif%22%2C%20%22proj%3Ashape%22%3A%20%5B1830%2C%201830%5D%2C%20%22proj%3Atransform%22%3A%20%5B60.0%2C%200.0%2C%20699960.0%2C%200.0%2C%20-60.0%2C%203600000.0%2C%200.0%2C%200.0%2C%201.0%5D%2C%20%22title%22%3A%20%22Band%209%22%2C%20%22type%22%3A%20%22image/tiff%3B%20application%3Dgeotiff%3B%20profile%3Dcloud-optimized%22%7D%2C%20%22B11%22%3A%20%7B%22href%22%3A%20%22https%3A//sentinel-cogs.s3.us-west-2.amazonaws.com/sentinel-s2-l2a-cogs/34/S/GA/2020/3/S2A_34SGA_20200301_0_L2A/B11.tif%22%2C%20%22proj%3Ashape%22%3A%20%5B5490%2C%205490%5D%2C%20%22proj%3Atransform%22%3A%20%5B20.0%2C%200.0%2C%20699960.0%2C%200.0%2C%20-20.0%2C%203600000.0%2C%200.0%2C%200.0%2C%201.0%5D%2C%20%22title%22%3A%20%22Band%2011%20%28swir16%29%22%2C%20%22type%22%3A%20%22image/tiff%3B%20application%3Dgeotiff%3B%20profile%3Dcloud-optimized%22%7D%2C%20%22B12%22%3A%20%7B%22href%22%3A%20%22https%3A//sentinel-cogs.s3.us-west-2.amazonaws.com/sentinel-s2-l2a-cogs/34/S/GA/2020/3/S2A_34SGA_20200301_0_L2A/B12.tif%22%2C%20%22proj%3Ashape%22%3A%20%5B5490%2C%205490%5D%2C%20%22proj%3Atransform%22%3A%20%5B20.0%2C%200.0%2C%20699960.0%2C%200.0%2C%20-20.0%2C%203600000.0%2C%200.0%2C%200.0%2C%201.0%5D%2C%20%22title%22%3A%20%22Band%2012%20%28swir22%29%22%2C%20%22type%22%3A%20%22image/tiff%3B%20application%3Dgeotiff%3B%20profile%3Dcloud-optimized%22%7D%2C%20%22B8A%22%3A%20%7B%22href%22%3A%20%22https%3A//sentinel-cogs.s3.us-west-2.amazonaws.com/sentinel-s2-l2a-cogs/34/S/GA/2020/3/S2A_34SGA_20200301_0_L2A/B8A.tif%22%2C%20%22proj%3Ashape%22%3A%20%5B5490%2C%205490%5D%2C%20%22proj%3Atransform%22%3A%20%5B20.0%2C%200.0%2C%20699960.0%2C%200.0%2C%20-20.0%2C%203600000.0%2C%200.0%2C%200.0%2C%201.0%5D%2C%20%22title%22%3A%20%22Band%208A%22%2C%20%22type%22%3A%20%22image/tiff%3B%20application%3Dgeotiff%3B%20profile%3Dcloud-optimized%22%7D%2C%20%22SCL%22%3A%20%7B%22href%22%3A%20%22https%3A//sentinel-cogs.s3.us-west-2.amazonaws.com/sentinel-s2-l2a-cogs/34/S/GA/2020/3/S2A_34SGA_20200301_0_L2A/SCL.tif%22%2C%20%22proj%3Ashape%22%3A%20%5B5490%2C%205490%5D%2C%20%22proj%3Atransform%22%3A%20%5B20.0%2C%200.0%2C%20699960.0%2C%200.0%2C%20-20.0%2C%203600000.0%2C%200.0%2C%200.0%2C%201.0%5D%2C%20%22title%22%3A%20%22Scene%20Classification%20Map%20%28SCL%29%22%2C%20%22type%22%3A%20%22image/tiff%3B%20application%3Dgeotiff%3B%20profile%3Dcloud-optimized%22%7D%2C%20%22WVP%22%3A%20%7B%22href%22%3A%20%22https%3A//sentinel-cogs.s3.us-west-2.amazonaws.com/sentinel-s2-l2a-cogs/34/S/GA/2020/3/S2A_34SGA_20200301_0_L2A/WVP.tif%22%2C%20%22proj%3Ashape%22%3A%20%5B10980%2C%2010980%5D%2C%20%22proj%3Atransform%22%3A%20%5B10.0%2C%200.0%2C%20699960.0%2C%200.0%2C%20-10.0%2C%203600000.0%2C%200.0%2C%200.0%2C%201.0%5D%2C%20%22title%22%3A%20%22Water%20Vapour%20%28WVP%29%22%2C%20%22type%22%3A%20%22image/tiff%3B%20application%3Dgeotiff%3B%20profile%3Dcloud-optimized%22%7D%2C%20%22info%22%3A%20%7B%22href%22%3A%20%22https%3A//roda.sentinel-hub.com/sentinel-s2-l2a/tiles/34/S/GA/2020/3/1/0/tileInfo.json%22%2C%20%22title%22%3A%20%22Original%20JSON%20metadata%22%2C%20%22type%22%3A%20%22application/json%22%7D%2C%20%22metadata%22%3A%20%7B%22href%22%3A%20%22https%3A//roda.sentinel-hub.com/sentinel-s2-l2a/tiles/34/S/GA/2020/3/1/0/metadata.xml%22%2C%20%22title%22%3A%20%22Original%20XML%20metadata%22%2C%20%22type%22%3A%20%22application/xml%22%7D%2C%20%22overview%22%3A%20%7B%22href%22%3A%20%22https%3A//sentinel-cogs.s3.us-west-2.amazonaws.com/sentinel-s2-l2a-cogs/34/S/GA/2020/3/S2A_34SGA_20200301_0_L2A/L2A_PVI.tif%22%2C%20%22proj%3Ashape%22%3A%20%5B343%2C%20343%5D%2C%20%22proj%3Atransform%22%3A%20%5B320.0%2C%200.0%2C%20699960.0%2C%200.0%2C%20-320.0%2C%203600000.0%2C%200.0%2C%200.0%2C%201.0%5D%2C%20%22title%22%3A%20%22True%20color%20image%22%2C%20%22type%22%3A%20%22image/tiff%3B%20application%3Dgeotiff%3B%20profile%3Dcloud-optimized%22%7D%2C%20%22thumbnail%22%3A%20%7B%22href%22%3A%20%22https%3A//roda.sentinel-hub.com/sentinel-s2-l1c/tiles/34/S/GA/2020/3/1/0/preview.jpg%22%2C%20%22title%22%3A%20%22Thumbnail%22%2C%20%22type%22%3A%20%22image/png%22%7D%2C%20%22visual%22%3A%20%7B%22href%22%3A%20%22https%3A//sentinel-cogs.s3.us-west-2.amazonaws.com/sentinel-s2-l2a-cogs/34/S/GA/2020/3/S2A_34SGA_20200301_0_L2A/TCI.tif%22%2C%20%22proj%3Ashape%22%3A%20%5B10980%2C%2010980%5D%2C%20%22proj%3Atransform%22%3A%20%5B10.0%2C%200.0%2C%20699960.0%2C%200.0%2C%20-10.0%2C%203600000.0%2C%200.0%2C%200.0%2C%201.0%5D%2C%20%22title%22%3A%20%22True%20color%20image%22%2C%20%22type%22%3A%20%22image/tiff%3B%20application%3Dgeotiff%3B%20profile%3Dcloud-optimized%22%7D%7D%2C%20%22bbox%22%3A%20%5B23.10608697239106%2C%2031.512648251713085%2C%2024.24775213279613%2C%2032.51932567672379%5D%2C%20%22collection%22%3A%20%22sentinel-s2-l2a-cogs%22%2C%20%22geometry%22%3A%20%7B%22coordinates%22%3A%20%5B%5B%5B23.954137787703402%2C%2031.512648251713085%5D%2C%20%5B23.10608697239106%2C%2031.529431170424147%5D%2C%20%5B23.128869274501948%2C%2032.51932567672379%5D%2C%20%5B24.24775213279613%2C%2032.495400678020594%5D%2C%20%5B23.954137787703402%2C%2031.512648251713085%5D%5D%5D%2C%20%22type%22%3A%20%22Polygon%22%7D%2C%20%22id%22%3A%20%22S2A_34SGA_20200301_0_L2A%22%2C%20%22links%22%3A%20%5B%7B%22href%22%3A%20%22s3%3A//sentinel-cogs/sentinel-s2-l2a-cogs/34/S/GA/2020/3/S2A_34SGA_20200301_0_L2A/S2A_34SGA_20200301_0_L2A.json%22%2C%20%22rel%22%3A%20%22self%22%2C%20%22type%22%3A%20%22application/json%22%7D%2C%20%7B%22href%22%3A%20%22s3%3A//cirrus-v0-data-1qm7gekzjucbq/sentinel-s2-l2a/34/S/GA/2020/3/S2A_34SGA_20200301_0_L2A/S2A_34SGA_20200301_0_L2A.json%22%2C%20%22rel%22%3A%20%22derived_from%22%2C%20%22title%22%3A%20%22Source%20STAC%20Item%22%2C%20%22type%22%3A%20%22application/json%22%7D%5D%2C%20%22properties%22%3A%20%7B%22constellation%22%3A%20%22sentinel-2%22%2C%20%22datetime%22%3A%20%222020-03-01T09%3A21%3A28Z%22%2C%20%22eo%3Acloud_cover%22%3A%201.81%2C%20%22gsd%22%3A%2010%2C%20%22instruments%22%3A%20%5B%22msi%22%5D%2C%20%22platform%22%3A%20%22sentinel-2a%22%2C%20%22proj%3Aepsg%22%3A%2032634%2C%20%22sentinel%3Adata_coverage%22%3A%2084.61%2C%20%22sentinel%3Agrid_square%22%3A%20%22GA%22%2C%20%22sentinel%3Alatitude_band%22%3A%20%22S%22%2C%20%22sentinel%3Aproduct_id%22%3A%20%22S2A_MSIL2A_20200301T090901_N0214_R050_T34SGA_20200301T114118%22%2C%20%22sentinel%3Asequence%22%3A%20%220%22%2C%20%22sentinel%3Autm_zone%22%3A%2034%2C%20%22sentinel%3Avalid_cloud_cover%22%3A%20true%2C%20%22view%3Aoff_nadir%22%3A%200%7D%2C%20%22stac_extensions%22%3A%20%5B%22eo%22%2C%20%22view%22%2C%20%22proj%22%5D%2C%20%22stac_version%22%3A%20%221.0.0-beta.2%22%2C%20%22type%22%3A%20%22Feature%22%7D%29%3B%0A%0A%20%20%20%20%20%20%20%20%0A%3C/script%3E onload=\"this.contentDocument.open();this.contentDocument.write(    decodeURIComponent(this.getAttribute('data-html')));this.contentDocument.close();\" allowfullscreen webkitallowfullscreen mozallowfullscreen></iframe></div></div>"
      ],
      "text/plain": [
       "<folium.folium.Map at 0x173c2cdc0>"
      ]
     },
     "execution_count": 34,
     "metadata": {},
     "output_type": "execute_result"
    }
   ],
   "source": [
    "bounds = featureBounds(item)\n",
    "\n",
    "m = Map(\n",
    "    tiles=\"OpenStreetMap\",\n",
    "    location=((bounds[1] + bounds[3]) / 2,(bounds[0] + bounds[2]) / 2),\n",
    "    zoom_start=8\n",
    ")\n",
    "\n",
    "geo_json = GeoJson(data=item)\n",
    "geo_json.add_to(m)\n",
    "m"
   ]
  },
  {
   "cell_type": "code",
   "execution_count": 39,
   "metadata": {
    "tags": []
   },
   "outputs": [
    {
     "name": "stdout",
     "output_type": "stream",
     "text": [
      "{'visual': {'bounds': [23.106076243528157, 31.505173744374172, 24.296464503939948, 32.519334871696195], 'minzoom': 8, 'maxzoom': 14, 'band_metadata': [['1', {}], ['2', {}], ['3', {}]], 'band_descriptions': [['1', ''], ['2', ''], ['3', '']], 'dtype': 'uint8', 'nodata_type': 'Nodata', 'colorinterp': ['red', 'green', 'blue'], 'nodata_value': 0.0, 'count': 3, 'driver': 'GTiff', 'width': 10980, 'height': 10980, 'overviews': [2, 4, 8, 16]}, 'B04': {'bounds': [23.106076243528157, 31.505173744374172, 24.296464503939948, 32.519334871696195], 'minzoom': 8, 'maxzoom': 14, 'band_metadata': [['1', {}]], 'band_descriptions': [['1', '']], 'dtype': 'uint16', 'nodata_type': 'Nodata', 'colorinterp': ['gray'], 'nodata_value': 0.0, 'count': 1, 'driver': 'GTiff', 'width': 10980, 'height': 10980, 'overviews': [2, 4, 8, 16]}, 'B03': {'bounds': [23.106076243528157, 31.505173744374172, 24.296464503939948, 32.519334871696195], 'minzoom': 8, 'maxzoom': 14, 'band_metadata': [['1', {}]], 'band_descriptions': [['1', '']], 'dtype': 'uint16', 'nodata_type': 'Nodata', 'colorinterp': ['gray'], 'nodata_value': 0.0, 'count': 1, 'driver': 'GTiff', 'width': 10980, 'height': 10980, 'overviews': [2, 4, 8, 16]}, 'B02': {'bounds': [23.106076243528157, 31.505173744374172, 24.296464503939948, 32.519334871696195], 'minzoom': 8, 'maxzoom': 14, 'band_metadata': [['1', {}]], 'band_descriptions': [['1', '']], 'dtype': 'uint16', 'nodata_type': 'Nodata', 'colorinterp': ['gray'], 'nodata_value': 0.0, 'count': 1, 'driver': 'GTiff', 'width': 10980, 'height': 10980, 'overviews': [2, 4, 8, 16]}}\n"
     ]
    }
   ],
   "source": [
    "# Get Tile URL\n",
    "r = httpx.get(\n",
    "    f\"{titiler_endpoint}/stac/info\",\n",
    "    params = (\n",
    "        (\"url\", stac_item),\n",
    "        # Get info for multiple assets\n",
    "        (\"assets\",\"visual\"), (\"assets\",\"B04\"), (\"assets\",\"B03\"), (\"assets\",\"B02\"),\n",
    "    )\n",
    ").json()\n",
    "print(r)"
   ]
  },
  {
   "cell_type": "markdown",
   "metadata": {},
   "source": [
    "### Display one asset"
   ]
  },
  {
   "cell_type": "code",
   "execution_count": 40,
   "metadata": {},
   "outputs": [
    {
     "data": {
      "text/html": [
       "<div style=\"width:100%;\"><div style=\"position:relative;width:100%;height:0;padding-bottom:60%;\"><span style=\"color:#565656\">Make this Notebook Trusted to load map: File -> Trust Notebook</span><iframe src=\"about:blank\" style=\"position:absolute;width:100%;height:100%;left:0;top:0;border:none !important;\" data-html=%3C%21DOCTYPE%20html%3E%0A%3Chead%3E%20%20%20%20%0A%20%20%20%20%3Cmeta%20http-equiv%3D%22content-type%22%20content%3D%22text/html%3B%20charset%3DUTF-8%22%20/%3E%0A%20%20%20%20%0A%20%20%20%20%20%20%20%20%3Cscript%3E%0A%20%20%20%20%20%20%20%20%20%20%20%20L_NO_TOUCH%20%3D%20false%3B%0A%20%20%20%20%20%20%20%20%20%20%20%20L_DISABLE_3D%20%3D%20false%3B%0A%20%20%20%20%20%20%20%20%3C/script%3E%0A%20%20%20%20%0A%20%20%20%20%3Cstyle%3Ehtml%2C%20body%20%7Bwidth%3A%20100%25%3Bheight%3A%20100%25%3Bmargin%3A%200%3Bpadding%3A%200%3B%7D%3C/style%3E%0A%20%20%20%20%3Cstyle%3E%23map%20%7Bposition%3Aabsolute%3Btop%3A0%3Bbottom%3A0%3Bright%3A0%3Bleft%3A0%3B%7D%3C/style%3E%0A%20%20%20%20%3Cscript%20src%3D%22https%3A//cdn.jsdelivr.net/npm/leaflet%401.6.0/dist/leaflet.js%22%3E%3C/script%3E%0A%20%20%20%20%3Cscript%20src%3D%22https%3A//code.jquery.com/jquery-1.12.4.min.js%22%3E%3C/script%3E%0A%20%20%20%20%3Cscript%20src%3D%22https%3A//maxcdn.bootstrapcdn.com/bootstrap/3.2.0/js/bootstrap.min.js%22%3E%3C/script%3E%0A%20%20%20%20%3Cscript%20src%3D%22https%3A//cdnjs.cloudflare.com/ajax/libs/Leaflet.awesome-markers/2.0.2/leaflet.awesome-markers.js%22%3E%3C/script%3E%0A%20%20%20%20%3Clink%20rel%3D%22stylesheet%22%20href%3D%22https%3A//cdn.jsdelivr.net/npm/leaflet%401.6.0/dist/leaflet.css%22/%3E%0A%20%20%20%20%3Clink%20rel%3D%22stylesheet%22%20href%3D%22https%3A//maxcdn.bootstrapcdn.com/bootstrap/3.2.0/css/bootstrap.min.css%22/%3E%0A%20%20%20%20%3Clink%20rel%3D%22stylesheet%22%20href%3D%22https%3A//maxcdn.bootstrapcdn.com/bootstrap/3.2.0/css/bootstrap-theme.min.css%22/%3E%0A%20%20%20%20%3Clink%20rel%3D%22stylesheet%22%20href%3D%22https%3A//maxcdn.bootstrapcdn.com/font-awesome/4.6.3/css/font-awesome.min.css%22/%3E%0A%20%20%20%20%3Clink%20rel%3D%22stylesheet%22%20href%3D%22https%3A//cdnjs.cloudflare.com/ajax/libs/Leaflet.awesome-markers/2.0.2/leaflet.awesome-markers.css%22/%3E%0A%20%20%20%20%3Clink%20rel%3D%22stylesheet%22%20href%3D%22https%3A//cdn.jsdelivr.net/gh/python-visualization/folium/folium/templates/leaflet.awesome.rotate.min.css%22/%3E%0A%20%20%20%20%0A%20%20%20%20%20%20%20%20%20%20%20%20%3Cmeta%20name%3D%22viewport%22%20content%3D%22width%3Ddevice-width%2C%0A%20%20%20%20%20%20%20%20%20%20%20%20%20%20%20%20initial-scale%3D1.0%2C%20maximum-scale%3D1.0%2C%20user-scalable%3Dno%22%20/%3E%0A%20%20%20%20%20%20%20%20%20%20%20%20%3Cstyle%3E%0A%20%20%20%20%20%20%20%20%20%20%20%20%20%20%20%20%23map_ffbbaaf2aec841dcaa9d001633f429b0%20%7B%0A%20%20%20%20%20%20%20%20%20%20%20%20%20%20%20%20%20%20%20%20position%3A%20relative%3B%0A%20%20%20%20%20%20%20%20%20%20%20%20%20%20%20%20%20%20%20%20width%3A%20100.0%25%3B%0A%20%20%20%20%20%20%20%20%20%20%20%20%20%20%20%20%20%20%20%20height%3A%20100.0%25%3B%0A%20%20%20%20%20%20%20%20%20%20%20%20%20%20%20%20%20%20%20%20left%3A%200.0%25%3B%0A%20%20%20%20%20%20%20%20%20%20%20%20%20%20%20%20%20%20%20%20top%3A%200.0%25%3B%0A%20%20%20%20%20%20%20%20%20%20%20%20%20%20%20%20%7D%0A%20%20%20%20%20%20%20%20%20%20%20%20%3C/style%3E%0A%20%20%20%20%20%20%20%20%0A%3C/head%3E%0A%3Cbody%3E%20%20%20%20%0A%20%20%20%20%0A%20%20%20%20%20%20%20%20%20%20%20%20%3Cdiv%20class%3D%22folium-map%22%20id%3D%22map_ffbbaaf2aec841dcaa9d001633f429b0%22%20%3E%3C/div%3E%0A%20%20%20%20%20%20%20%20%0A%3C/body%3E%0A%3Cscript%3E%20%20%20%20%0A%20%20%20%20%0A%20%20%20%20%20%20%20%20%20%20%20%20var%20map_ffbbaaf2aec841dcaa9d001633f429b0%20%3D%20L.map%28%0A%20%20%20%20%20%20%20%20%20%20%20%20%20%20%20%20%22map_ffbbaaf2aec841dcaa9d001633f429b0%22%2C%0A%20%20%20%20%20%20%20%20%20%20%20%20%20%20%20%20%7B%0A%20%20%20%20%20%20%20%20%20%20%20%20%20%20%20%20%20%20%20%20center%3A%20%5B32.015986964218435%2C%2023.676919552593596%5D%2C%0A%20%20%20%20%20%20%20%20%20%20%20%20%20%20%20%20%20%20%20%20crs%3A%20L.CRS.EPSG3857%2C%0A%20%20%20%20%20%20%20%20%20%20%20%20%20%20%20%20%20%20%20%20zoom%3A%2010%2C%0A%20%20%20%20%20%20%20%20%20%20%20%20%20%20%20%20%20%20%20%20zoomControl%3A%20true%2C%0A%20%20%20%20%20%20%20%20%20%20%20%20%20%20%20%20%20%20%20%20preferCanvas%3A%20false%2C%0A%20%20%20%20%20%20%20%20%20%20%20%20%20%20%20%20%7D%0A%20%20%20%20%20%20%20%20%20%20%20%20%29%3B%0A%0A%20%20%20%20%20%20%20%20%20%20%20%20%0A%0A%20%20%20%20%20%20%20%20%0A%20%20%20%20%0A%20%20%20%20%20%20%20%20%20%20%20%20var%20tile_layer_f939efeae552494ab712e36383f20a9c%20%3D%20L.tileLayer%28%0A%20%20%20%20%20%20%20%20%20%20%20%20%20%20%20%20%22https%3A//%7Bs%7D.tile.openstreetmap.org/%7Bz%7D/%7Bx%7D/%7By%7D.png%22%2C%0A%20%20%20%20%20%20%20%20%20%20%20%20%20%20%20%20%7B%22attribution%22%3A%20%22Data%20by%20%5Cu0026copy%3B%20%5Cu003ca%20href%3D%5C%22http%3A//openstreetmap.org%5C%22%5Cu003eOpenStreetMap%5Cu003c/a%5Cu003e%2C%20under%20%5Cu003ca%20href%3D%5C%22http%3A//www.openstreetmap.org/copyright%5C%22%5Cu003eODbL%5Cu003c/a%5Cu003e.%22%2C%20%22detectRetina%22%3A%20false%2C%20%22maxNativeZoom%22%3A%2018%2C%20%22maxZoom%22%3A%2018%2C%20%22minZoom%22%3A%200%2C%20%22noWrap%22%3A%20false%2C%20%22opacity%22%3A%201%2C%20%22subdomains%22%3A%20%22abc%22%2C%20%22tms%22%3A%20false%7D%0A%20%20%20%20%20%20%20%20%20%20%20%20%29.addTo%28map_ffbbaaf2aec841dcaa9d001633f429b0%29%3B%0A%20%20%20%20%20%20%20%20%0A%20%20%20%20%0A%20%20%20%20%20%20%20%20%20%20%20%20var%20tile_layer_f8edcb767c6d4553b056d86459716bdf%20%3D%20L.tileLayer%28%0A%20%20%20%20%20%20%20%20%20%20%20%20%20%20%20%20%22http%3A//127.0.0.1%3A8000/stac/tiles/WebMercatorQuad/%7Bz%7D/%7Bx%7D/%7By%7D%401x%3Furl%3Dhttps%253A%252F%252Fsentinel-cogs.s3.amazonaws.com%252Fsentinel-s2-l2a-cogs%252F34%252FS%252FGA%252F2020%252F3%252FS2A_34SGA_20200301_0_L2A%252FS2A_34SGA_20200301_0_L2A.json%5Cu0026assets%3Dvisual%22%2C%0A%20%20%20%20%20%20%20%20%20%20%20%20%20%20%20%20%7B%22attribution%22%3A%20%22Government%20of%20Canada%22%2C%20%22detectRetina%22%3A%20false%2C%20%22maxNativeZoom%22%3A%2014%2C%20%22maxZoom%22%3A%2014%2C%20%22minZoom%22%3A%208%2C%20%22noWrap%22%3A%20false%2C%20%22opacity%22%3A%201%2C%20%22subdomains%22%3A%20%22abc%22%2C%20%22tms%22%3A%20false%7D%0A%20%20%20%20%20%20%20%20%20%20%20%20%29.addTo%28map_ffbbaaf2aec841dcaa9d001633f429b0%29%3B%0A%20%20%20%20%20%20%20%20%0A%3C/script%3E onload=\"this.contentDocument.open();this.contentDocument.write(    decodeURIComponent(this.getAttribute('data-html')));this.contentDocument.close();\" allowfullscreen webkitallowfullscreen mozallowfullscreen></iframe></div></div>"
      ],
      "text/plain": [
       "<folium.folium.Map at 0x173c7b520>"
      ]
     },
     "execution_count": 40,
     "metadata": {},
     "output_type": "execute_result"
    }
   ],
   "source": [
    "r = httpx.get(\n",
    "    f\"{titiler_endpoint}/stac/tilejson.json\",\n",
    "    params = {\n",
    "        \"url\": stac_item,\n",
    "        \"assets\": \"visual\",\n",
    "        \"minzoom\": 8,  # By default titiler will use 0\n",
    "        \"maxzoom\": 14, # By default titiler will use 24\n",
    "    }\n",
    ").json()\n",
    "\n",
    "m = Map(\n",
    "    location=((bounds[1] + bounds[3]) / 2,(bounds[0] + bounds[2]) / 2),\n",
    "    zoom_start=10\n",
    ")\n",
    "\n",
    "tiles = TileLayer(\n",
    "    tiles=r[\"tiles\"][0],\n",
    "    min_zoom=r[\"minzoom\"],\n",
    "    max_zoom=r[\"maxzoom\"],\n",
    "    opacity=1,\n",
    "    attr=\"ESA\"\n",
    ")\n",
    "tiles.add_to(m)\n",
    "m"
   ]
  },
  {
   "cell_type": "markdown",
   "metadata": {},
   "source": [
    "### Select Indexes for assets"
   ]
  },
  {
   "cell_type": "code",
   "execution_count": 43,
   "metadata": {},
   "outputs": [
    {
     "data": {
      "text/html": [
       "<div style=\"width:100%;\"><div style=\"position:relative;width:100%;height:0;padding-bottom:60%;\"><span style=\"color:#565656\">Make this Notebook Trusted to load map: File -> Trust Notebook</span><iframe src=\"about:blank\" style=\"position:absolute;width:100%;height:100%;left:0;top:0;border:none !important;\" data-html=%3C%21DOCTYPE%20html%3E%0A%3Chead%3E%20%20%20%20%0A%20%20%20%20%3Cmeta%20http-equiv%3D%22content-type%22%20content%3D%22text/html%3B%20charset%3DUTF-8%22%20/%3E%0A%20%20%20%20%0A%20%20%20%20%20%20%20%20%3Cscript%3E%0A%20%20%20%20%20%20%20%20%20%20%20%20L_NO_TOUCH%20%3D%20false%3B%0A%20%20%20%20%20%20%20%20%20%20%20%20L_DISABLE_3D%20%3D%20false%3B%0A%20%20%20%20%20%20%20%20%3C/script%3E%0A%20%20%20%20%0A%20%20%20%20%3Cstyle%3Ehtml%2C%20body%20%7Bwidth%3A%20100%25%3Bheight%3A%20100%25%3Bmargin%3A%200%3Bpadding%3A%200%3B%7D%3C/style%3E%0A%20%20%20%20%3Cstyle%3E%23map%20%7Bposition%3Aabsolute%3Btop%3A0%3Bbottom%3A0%3Bright%3A0%3Bleft%3A0%3B%7D%3C/style%3E%0A%20%20%20%20%3Cscript%20src%3D%22https%3A//cdn.jsdelivr.net/npm/leaflet%401.6.0/dist/leaflet.js%22%3E%3C/script%3E%0A%20%20%20%20%3Cscript%20src%3D%22https%3A//code.jquery.com/jquery-1.12.4.min.js%22%3E%3C/script%3E%0A%20%20%20%20%3Cscript%20src%3D%22https%3A//maxcdn.bootstrapcdn.com/bootstrap/3.2.0/js/bootstrap.min.js%22%3E%3C/script%3E%0A%20%20%20%20%3Cscript%20src%3D%22https%3A//cdnjs.cloudflare.com/ajax/libs/Leaflet.awesome-markers/2.0.2/leaflet.awesome-markers.js%22%3E%3C/script%3E%0A%20%20%20%20%3Clink%20rel%3D%22stylesheet%22%20href%3D%22https%3A//cdn.jsdelivr.net/npm/leaflet%401.6.0/dist/leaflet.css%22/%3E%0A%20%20%20%20%3Clink%20rel%3D%22stylesheet%22%20href%3D%22https%3A//maxcdn.bootstrapcdn.com/bootstrap/3.2.0/css/bootstrap.min.css%22/%3E%0A%20%20%20%20%3Clink%20rel%3D%22stylesheet%22%20href%3D%22https%3A//maxcdn.bootstrapcdn.com/bootstrap/3.2.0/css/bootstrap-theme.min.css%22/%3E%0A%20%20%20%20%3Clink%20rel%3D%22stylesheet%22%20href%3D%22https%3A//maxcdn.bootstrapcdn.com/font-awesome/4.6.3/css/font-awesome.min.css%22/%3E%0A%20%20%20%20%3Clink%20rel%3D%22stylesheet%22%20href%3D%22https%3A//cdnjs.cloudflare.com/ajax/libs/Leaflet.awesome-markers/2.0.2/leaflet.awesome-markers.css%22/%3E%0A%20%20%20%20%3Clink%20rel%3D%22stylesheet%22%20href%3D%22https%3A//cdn.jsdelivr.net/gh/python-visualization/folium/folium/templates/leaflet.awesome.rotate.min.css%22/%3E%0A%20%20%20%20%0A%20%20%20%20%20%20%20%20%20%20%20%20%3Cmeta%20name%3D%22viewport%22%20content%3D%22width%3Ddevice-width%2C%0A%20%20%20%20%20%20%20%20%20%20%20%20%20%20%20%20initial-scale%3D1.0%2C%20maximum-scale%3D1.0%2C%20user-scalable%3Dno%22%20/%3E%0A%20%20%20%20%20%20%20%20%20%20%20%20%3Cstyle%3E%0A%20%20%20%20%20%20%20%20%20%20%20%20%20%20%20%20%23map_afb7b120ad804156a6b8acb2692ef993%20%7B%0A%20%20%20%20%20%20%20%20%20%20%20%20%20%20%20%20%20%20%20%20position%3A%20relative%3B%0A%20%20%20%20%20%20%20%20%20%20%20%20%20%20%20%20%20%20%20%20width%3A%20100.0%25%3B%0A%20%20%20%20%20%20%20%20%20%20%20%20%20%20%20%20%20%20%20%20height%3A%20100.0%25%3B%0A%20%20%20%20%20%20%20%20%20%20%20%20%20%20%20%20%20%20%20%20left%3A%200.0%25%3B%0A%20%20%20%20%20%20%20%20%20%20%20%20%20%20%20%20%20%20%20%20top%3A%200.0%25%3B%0A%20%20%20%20%20%20%20%20%20%20%20%20%20%20%20%20%7D%0A%20%20%20%20%20%20%20%20%20%20%20%20%3C/style%3E%0A%20%20%20%20%20%20%20%20%0A%3C/head%3E%0A%3Cbody%3E%20%20%20%20%0A%20%20%20%20%0A%20%20%20%20%20%20%20%20%20%20%20%20%3Cdiv%20class%3D%22folium-map%22%20id%3D%22map_afb7b120ad804156a6b8acb2692ef993%22%20%3E%3C/div%3E%0A%20%20%20%20%20%20%20%20%0A%3C/body%3E%0A%3Cscript%3E%20%20%20%20%0A%20%20%20%20%0A%20%20%20%20%20%20%20%20%20%20%20%20var%20map_afb7b120ad804156a6b8acb2692ef993%20%3D%20L.map%28%0A%20%20%20%20%20%20%20%20%20%20%20%20%20%20%20%20%22map_afb7b120ad804156a6b8acb2692ef993%22%2C%0A%20%20%20%20%20%20%20%20%20%20%20%20%20%20%20%20%7B%0A%20%20%20%20%20%20%20%20%20%20%20%20%20%20%20%20%20%20%20%20center%3A%20%5B32.015986964218435%2C%2023.676919552593596%5D%2C%0A%20%20%20%20%20%20%20%20%20%20%20%20%20%20%20%20%20%20%20%20crs%3A%20L.CRS.EPSG3857%2C%0A%20%20%20%20%20%20%20%20%20%20%20%20%20%20%20%20%20%20%20%20zoom%3A%2012%2C%0A%20%20%20%20%20%20%20%20%20%20%20%20%20%20%20%20%20%20%20%20zoomControl%3A%20true%2C%0A%20%20%20%20%20%20%20%20%20%20%20%20%20%20%20%20%20%20%20%20preferCanvas%3A%20false%2C%0A%20%20%20%20%20%20%20%20%20%20%20%20%20%20%20%20%7D%0A%20%20%20%20%20%20%20%20%20%20%20%20%29%3B%0A%0A%20%20%20%20%20%20%20%20%20%20%20%20%0A%0A%20%20%20%20%20%20%20%20%0A%20%20%20%20%0A%20%20%20%20%20%20%20%20%20%20%20%20var%20tile_layer_f05641e434f74580b6c78e5576432a3d%20%3D%20L.tileLayer%28%0A%20%20%20%20%20%20%20%20%20%20%20%20%20%20%20%20%22https%3A//%7Bs%7D.tile.openstreetmap.org/%7Bz%7D/%7Bx%7D/%7By%7D.png%22%2C%0A%20%20%20%20%20%20%20%20%20%20%20%20%20%20%20%20%7B%22attribution%22%3A%20%22Data%20by%20%5Cu0026copy%3B%20%5Cu003ca%20href%3D%5C%22http%3A//openstreetmap.org%5C%22%5Cu003eOpenStreetMap%5Cu003c/a%5Cu003e%2C%20under%20%5Cu003ca%20href%3D%5C%22http%3A//www.openstreetmap.org/copyright%5C%22%5Cu003eODbL%5Cu003c/a%5Cu003e.%22%2C%20%22detectRetina%22%3A%20false%2C%20%22maxNativeZoom%22%3A%2018%2C%20%22maxZoom%22%3A%2018%2C%20%22minZoom%22%3A%200%2C%20%22noWrap%22%3A%20false%2C%20%22opacity%22%3A%201%2C%20%22subdomains%22%3A%20%22abc%22%2C%20%22tms%22%3A%20false%7D%0A%20%20%20%20%20%20%20%20%20%20%20%20%29.addTo%28map_afb7b120ad804156a6b8acb2692ef993%29%3B%0A%20%20%20%20%20%20%20%20%0A%20%20%20%20%0A%20%20%20%20%20%20%20%20%20%20%20%20var%20tile_layer_ca069c4e107f43ebaf0efc7d02e6a377%20%3D%20L.tileLayer%28%0A%20%20%20%20%20%20%20%20%20%20%20%20%20%20%20%20%22http%3A//127.0.0.1%3A8000/stac/tiles/WebMercatorQuad/%7Bz%7D/%7Bx%7D/%7By%7D%401x%3Furl%3Dhttps%253A%252F%252Fsentinel-cogs.s3.amazonaws.com%252Fsentinel-s2-l2a-cogs%252F34%252FS%252FGA%252F2020%252F3%252FS2A_34SGA_20200301_0_L2A%252FS2A_34SGA_20200301_0_L2A.json%5Cu0026assets%3Dvisual%5Cu0026asset_bidx%3Dvisual%257C3%252C1%252C2%22%2C%0A%20%20%20%20%20%20%20%20%20%20%20%20%20%20%20%20%7B%22attribution%22%3A%20%22Government%20of%20Canada%22%2C%20%22detectRetina%22%3A%20false%2C%20%22maxNativeZoom%22%3A%2014%2C%20%22maxZoom%22%3A%2014%2C%20%22minZoom%22%3A%208%2C%20%22noWrap%22%3A%20false%2C%20%22opacity%22%3A%201%2C%20%22subdomains%22%3A%20%22abc%22%2C%20%22tms%22%3A%20false%7D%0A%20%20%20%20%20%20%20%20%20%20%20%20%29.addTo%28map_afb7b120ad804156a6b8acb2692ef993%29%3B%0A%20%20%20%20%20%20%20%20%0A%3C/script%3E onload=\"this.contentDocument.open();this.contentDocument.write(    decodeURIComponent(this.getAttribute('data-html')));this.contentDocument.close();\" allowfullscreen webkitallowfullscreen mozallowfullscreen></iframe></div></div>"
      ],
      "text/plain": [
       "<folium.folium.Map at 0x173c82790>"
      ]
     },
     "execution_count": 43,
     "metadata": {},
     "output_type": "execute_result"
    }
   ],
   "source": [
    "# Get Tile URL\n",
    "r = httpx.get(\n",
    "    f\"{titiler_endpoint}/stac/tilejson.json\",\n",
    "    params = {\n",
    "        \"url\": stac_item,\n",
    "        \"assets\": \"visual\",\n",
    "        \"asset_bidx\": \"visual|3,1,2\",\n",
    "        \"minzoom\": 8,  # By default titiler will use 0\n",
    "        \"maxzoom\": 14, # By default titiler will use 24\n",
    "    }\n",
    ").json()\n",
    "\n",
    "m = Map(\n",
    "    location=((bounds[1] + bounds[3]) / 2,(bounds[0] + bounds[2]) / 2),\n",
    "    zoom_start=12\n",
    ")\n",
    "\n",
    "tiles = TileLayer(\n",
    "    tiles=r[\"tiles\"][0],\n",
    "    min_zoom=r[\"minzoom\"],\n",
    "    max_zoom=r[\"maxzoom\"],\n",
    "    opacity=1,\n",
    "    attr=\"ESA\"\n",
    ")\n",
    "tiles.add_to(m)\n",
    "m"
   ]
  },
  {
   "cell_type": "code",
   "execution_count": 49,
   "metadata": {},
   "outputs": [
    {
     "data": {
      "text/html": [
       "<div style=\"width:100%;\"><div style=\"position:relative;width:100%;height:0;padding-bottom:60%;\"><span style=\"color:#565656\">Make this Notebook Trusted to load map: File -> Trust Notebook</span><iframe src=\"about:blank\" style=\"position:absolute;width:100%;height:100%;left:0;top:0;border:none !important;\" data-html=%3C%21DOCTYPE%20html%3E%0A%3Chead%3E%20%20%20%20%0A%20%20%20%20%3Cmeta%20http-equiv%3D%22content-type%22%20content%3D%22text/html%3B%20charset%3DUTF-8%22%20/%3E%0A%20%20%20%20%0A%20%20%20%20%20%20%20%20%3Cscript%3E%0A%20%20%20%20%20%20%20%20%20%20%20%20L_NO_TOUCH%20%3D%20false%3B%0A%20%20%20%20%20%20%20%20%20%20%20%20L_DISABLE_3D%20%3D%20false%3B%0A%20%20%20%20%20%20%20%20%3C/script%3E%0A%20%20%20%20%0A%20%20%20%20%3Cstyle%3Ehtml%2C%20body%20%7Bwidth%3A%20100%25%3Bheight%3A%20100%25%3Bmargin%3A%200%3Bpadding%3A%200%3B%7D%3C/style%3E%0A%20%20%20%20%3Cstyle%3E%23map%20%7Bposition%3Aabsolute%3Btop%3A0%3Bbottom%3A0%3Bright%3A0%3Bleft%3A0%3B%7D%3C/style%3E%0A%20%20%20%20%3Cscript%20src%3D%22https%3A//cdn.jsdelivr.net/npm/leaflet%401.6.0/dist/leaflet.js%22%3E%3C/script%3E%0A%20%20%20%20%3Cscript%20src%3D%22https%3A//code.jquery.com/jquery-1.12.4.min.js%22%3E%3C/script%3E%0A%20%20%20%20%3Cscript%20src%3D%22https%3A//maxcdn.bootstrapcdn.com/bootstrap/3.2.0/js/bootstrap.min.js%22%3E%3C/script%3E%0A%20%20%20%20%3Cscript%20src%3D%22https%3A//cdnjs.cloudflare.com/ajax/libs/Leaflet.awesome-markers/2.0.2/leaflet.awesome-markers.js%22%3E%3C/script%3E%0A%20%20%20%20%3Clink%20rel%3D%22stylesheet%22%20href%3D%22https%3A//cdn.jsdelivr.net/npm/leaflet%401.6.0/dist/leaflet.css%22/%3E%0A%20%20%20%20%3Clink%20rel%3D%22stylesheet%22%20href%3D%22https%3A//maxcdn.bootstrapcdn.com/bootstrap/3.2.0/css/bootstrap.min.css%22/%3E%0A%20%20%20%20%3Clink%20rel%3D%22stylesheet%22%20href%3D%22https%3A//maxcdn.bootstrapcdn.com/bootstrap/3.2.0/css/bootstrap-theme.min.css%22/%3E%0A%20%20%20%20%3Clink%20rel%3D%22stylesheet%22%20href%3D%22https%3A//maxcdn.bootstrapcdn.com/font-awesome/4.6.3/css/font-awesome.min.css%22/%3E%0A%20%20%20%20%3Clink%20rel%3D%22stylesheet%22%20href%3D%22https%3A//cdnjs.cloudflare.com/ajax/libs/Leaflet.awesome-markers/2.0.2/leaflet.awesome-markers.css%22/%3E%0A%20%20%20%20%3Clink%20rel%3D%22stylesheet%22%20href%3D%22https%3A//cdn.jsdelivr.net/gh/python-visualization/folium/folium/templates/leaflet.awesome.rotate.min.css%22/%3E%0A%20%20%20%20%0A%20%20%20%20%20%20%20%20%20%20%20%20%3Cmeta%20name%3D%22viewport%22%20content%3D%22width%3Ddevice-width%2C%0A%20%20%20%20%20%20%20%20%20%20%20%20%20%20%20%20initial-scale%3D1.0%2C%20maximum-scale%3D1.0%2C%20user-scalable%3Dno%22%20/%3E%0A%20%20%20%20%20%20%20%20%20%20%20%20%3Cstyle%3E%0A%20%20%20%20%20%20%20%20%20%20%20%20%20%20%20%20%23map_b4cca4f443134a078503928747919f89%20%7B%0A%20%20%20%20%20%20%20%20%20%20%20%20%20%20%20%20%20%20%20%20position%3A%20relative%3B%0A%20%20%20%20%20%20%20%20%20%20%20%20%20%20%20%20%20%20%20%20width%3A%20100.0%25%3B%0A%20%20%20%20%20%20%20%20%20%20%20%20%20%20%20%20%20%20%20%20height%3A%20100.0%25%3B%0A%20%20%20%20%20%20%20%20%20%20%20%20%20%20%20%20%20%20%20%20left%3A%200.0%25%3B%0A%20%20%20%20%20%20%20%20%20%20%20%20%20%20%20%20%20%20%20%20top%3A%200.0%25%3B%0A%20%20%20%20%20%20%20%20%20%20%20%20%20%20%20%20%7D%0A%20%20%20%20%20%20%20%20%20%20%20%20%3C/style%3E%0A%20%20%20%20%20%20%20%20%0A%3C/head%3E%0A%3Cbody%3E%20%20%20%20%0A%20%20%20%20%0A%20%20%20%20%20%20%20%20%20%20%20%20%3Cdiv%20class%3D%22folium-map%22%20id%3D%22map_b4cca4f443134a078503928747919f89%22%20%3E%3C/div%3E%0A%20%20%20%20%20%20%20%20%0A%3C/body%3E%0A%3Cscript%3E%20%20%20%20%0A%20%20%20%20%0A%20%20%20%20%20%20%20%20%20%20%20%20var%20map_b4cca4f443134a078503928747919f89%20%3D%20L.map%28%0A%20%20%20%20%20%20%20%20%20%20%20%20%20%20%20%20%22map_b4cca4f443134a078503928747919f89%22%2C%0A%20%20%20%20%20%20%20%20%20%20%20%20%20%20%20%20%7B%0A%20%20%20%20%20%20%20%20%20%20%20%20%20%20%20%20%20%20%20%20center%3A%20%5B32.015986964218435%2C%2023.676919552593596%5D%2C%0A%20%20%20%20%20%20%20%20%20%20%20%20%20%20%20%20%20%20%20%20crs%3A%20L.CRS.EPSG3857%2C%0A%20%20%20%20%20%20%20%20%20%20%20%20%20%20%20%20%20%20%20%20zoom%3A%2012%2C%0A%20%20%20%20%20%20%20%20%20%20%20%20%20%20%20%20%20%20%20%20zoomControl%3A%20true%2C%0A%20%20%20%20%20%20%20%20%20%20%20%20%20%20%20%20%20%20%20%20preferCanvas%3A%20false%2C%0A%20%20%20%20%20%20%20%20%20%20%20%20%20%20%20%20%7D%0A%20%20%20%20%20%20%20%20%20%20%20%20%29%3B%0A%0A%20%20%20%20%20%20%20%20%20%20%20%20%0A%0A%20%20%20%20%20%20%20%20%0A%20%20%20%20%0A%20%20%20%20%20%20%20%20%20%20%20%20var%20tile_layer_0fa92e6dfd3c44be9be5b5de44b0ea94%20%3D%20L.tileLayer%28%0A%20%20%20%20%20%20%20%20%20%20%20%20%20%20%20%20%22https%3A//%7Bs%7D.tile.openstreetmap.org/%7Bz%7D/%7Bx%7D/%7By%7D.png%22%2C%0A%20%20%20%20%20%20%20%20%20%20%20%20%20%20%20%20%7B%22attribution%22%3A%20%22Data%20by%20%5Cu0026copy%3B%20%5Cu003ca%20href%3D%5C%22http%3A//openstreetmap.org%5C%22%5Cu003eOpenStreetMap%5Cu003c/a%5Cu003e%2C%20under%20%5Cu003ca%20href%3D%5C%22http%3A//www.openstreetmap.org/copyright%5C%22%5Cu003eODbL%5Cu003c/a%5Cu003e.%22%2C%20%22detectRetina%22%3A%20false%2C%20%22maxNativeZoom%22%3A%2018%2C%20%22maxZoom%22%3A%2018%2C%20%22minZoom%22%3A%200%2C%20%22noWrap%22%3A%20false%2C%20%22opacity%22%3A%201%2C%20%22subdomains%22%3A%20%22abc%22%2C%20%22tms%22%3A%20false%7D%0A%20%20%20%20%20%20%20%20%20%20%20%20%29.addTo%28map_b4cca4f443134a078503928747919f89%29%3B%0A%20%20%20%20%20%20%20%20%0A%20%20%20%20%0A%20%20%20%20%20%20%20%20%20%20%20%20var%20tile_layer_6fcb60a606f64254a9ecf1d238d599fa%20%3D%20L.tileLayer%28%0A%20%20%20%20%20%20%20%20%20%20%20%20%20%20%20%20%22http%3A//127.0.0.1%3A8000/stac/tiles/WebMercatorQuad/%7Bz%7D/%7Bx%7D/%7By%7D%401x%3Furl%3Dhttps%253A%252F%252Fsentinel-cogs.s3.amazonaws.com%252Fsentinel-s2-l2a-cogs%252F34%252FS%252FGA%252F2020%252F3%252FS2A_34SGA_20200301_0_L2A%252FS2A_34SGA_20200301_0_L2A.json%5Cu0026assets%3DB04%5Cu0026assets%3DB03%5Cu0026assets%3DB02%5Cu0026asset_bidx%3DB04%257C1%5Cu0026asset_bidx%3DB03%257C1%5Cu0026asset_bidx%3DB02%257C1%5Cu0026rescale%3D0%252C10000%22%2C%0A%20%20%20%20%20%20%20%20%20%20%20%20%20%20%20%20%7B%22attribution%22%3A%20%22ESA%22%2C%20%22detectRetina%22%3A%20false%2C%20%22maxNativeZoom%22%3A%2014%2C%20%22maxZoom%22%3A%2014%2C%20%22minZoom%22%3A%208%2C%20%22noWrap%22%3A%20false%2C%20%22opacity%22%3A%201%2C%20%22subdomains%22%3A%20%22abc%22%2C%20%22tms%22%3A%20false%7D%0A%20%20%20%20%20%20%20%20%20%20%20%20%29.addTo%28map_b4cca4f443134a078503928747919f89%29%3B%0A%20%20%20%20%20%20%20%20%0A%3C/script%3E onload=\"this.contentDocument.open();this.contentDocument.write(    decodeURIComponent(this.getAttribute('data-html')));this.contentDocument.close();\" allowfullscreen webkitallowfullscreen mozallowfullscreen></iframe></div></div>"
      ],
      "text/plain": [
       "<folium.folium.Map at 0x173c20af0>"
      ]
     },
     "execution_count": 49,
     "metadata": {},
     "output_type": "execute_result"
    }
   ],
   "source": [
    "# Get Tile URL\n",
    "r = httpx.get(\n",
    "    f\"{titiler_endpoint}/stac/tilejson.json\",\n",
    "    params = (\n",
    "        (\"url\", stac_item),\n",
    "        (\"assets\", \"B04\"),\n",
    "        (\"assets\", \"B03\"),\n",
    "        (\"assets\", \"B02\"),\n",
    "        (\"asset_bidx\", \"B04|1\"),  # There is only one band per asset for Sentinel\n",
    "        (\"asset_bidx\", \"B03|1\"),  # There is only one band per asset for Sentinel\n",
    "        (\"asset_bidx\", \"B02|1\"),  # There is only one band per asset for Sentinel\n",
    "        (\"minzoom\", 8),\n",
    "        (\"maxzoom\", 14),\n",
    "        (\"rescale\", \"0,10000\"),\n",
    "    )\n",
    ").json()\n",
    "\n",
    "m = Map(\n",
    "    location=((bounds[1] + bounds[3]) / 2,(bounds[0] + bounds[2]) / 2),\n",
    "    zoom_start=12\n",
    ")\n",
    "\n",
    "tiles = TileLayer(\n",
    "    tiles=r[\"tiles\"][0],\n",
    "    min_zoom=r[\"minzoom\"],\n",
    "    max_zoom=r[\"maxzoom\"],\n",
    "    opacity=1,\n",
    "    attr=\"ESA\"\n",
    ")\n",
    "tiles.add_to(m)\n",
    "m"
   ]
  },
  {
   "cell_type": "markdown",
   "metadata": {},
   "source": [
    "Merge Assets"
   ]
  },
  {
   "cell_type": "code",
   "execution_count": 46,
   "metadata": {},
   "outputs": [
    {
     "data": {
      "text/html": [
       "<div style=\"width:100%;\"><div style=\"position:relative;width:100%;height:0;padding-bottom:60%;\"><span style=\"color:#565656\">Make this Notebook Trusted to load map: File -> Trust Notebook</span><iframe src=\"about:blank\" style=\"position:absolute;width:100%;height:100%;left:0;top:0;border:none !important;\" data-html=%3C%21DOCTYPE%20html%3E%0A%3Chead%3E%20%20%20%20%0A%20%20%20%20%3Cmeta%20http-equiv%3D%22content-type%22%20content%3D%22text/html%3B%20charset%3DUTF-8%22%20/%3E%0A%20%20%20%20%0A%20%20%20%20%20%20%20%20%3Cscript%3E%0A%20%20%20%20%20%20%20%20%20%20%20%20L_NO_TOUCH%20%3D%20false%3B%0A%20%20%20%20%20%20%20%20%20%20%20%20L_DISABLE_3D%20%3D%20false%3B%0A%20%20%20%20%20%20%20%20%3C/script%3E%0A%20%20%20%20%0A%20%20%20%20%3Cstyle%3Ehtml%2C%20body%20%7Bwidth%3A%20100%25%3Bheight%3A%20100%25%3Bmargin%3A%200%3Bpadding%3A%200%3B%7D%3C/style%3E%0A%20%20%20%20%3Cstyle%3E%23map%20%7Bposition%3Aabsolute%3Btop%3A0%3Bbottom%3A0%3Bright%3A0%3Bleft%3A0%3B%7D%3C/style%3E%0A%20%20%20%20%3Cscript%20src%3D%22https%3A//cdn.jsdelivr.net/npm/leaflet%401.6.0/dist/leaflet.js%22%3E%3C/script%3E%0A%20%20%20%20%3Cscript%20src%3D%22https%3A//code.jquery.com/jquery-1.12.4.min.js%22%3E%3C/script%3E%0A%20%20%20%20%3Cscript%20src%3D%22https%3A//maxcdn.bootstrapcdn.com/bootstrap/3.2.0/js/bootstrap.min.js%22%3E%3C/script%3E%0A%20%20%20%20%3Cscript%20src%3D%22https%3A//cdnjs.cloudflare.com/ajax/libs/Leaflet.awesome-markers/2.0.2/leaflet.awesome-markers.js%22%3E%3C/script%3E%0A%20%20%20%20%3Clink%20rel%3D%22stylesheet%22%20href%3D%22https%3A//cdn.jsdelivr.net/npm/leaflet%401.6.0/dist/leaflet.css%22/%3E%0A%20%20%20%20%3Clink%20rel%3D%22stylesheet%22%20href%3D%22https%3A//maxcdn.bootstrapcdn.com/bootstrap/3.2.0/css/bootstrap.min.css%22/%3E%0A%20%20%20%20%3Clink%20rel%3D%22stylesheet%22%20href%3D%22https%3A//maxcdn.bootstrapcdn.com/bootstrap/3.2.0/css/bootstrap-theme.min.css%22/%3E%0A%20%20%20%20%3Clink%20rel%3D%22stylesheet%22%20href%3D%22https%3A//maxcdn.bootstrapcdn.com/font-awesome/4.6.3/css/font-awesome.min.css%22/%3E%0A%20%20%20%20%3Clink%20rel%3D%22stylesheet%22%20href%3D%22https%3A//cdnjs.cloudflare.com/ajax/libs/Leaflet.awesome-markers/2.0.2/leaflet.awesome-markers.css%22/%3E%0A%20%20%20%20%3Clink%20rel%3D%22stylesheet%22%20href%3D%22https%3A//cdn.jsdelivr.net/gh/python-visualization/folium/folium/templates/leaflet.awesome.rotate.min.css%22/%3E%0A%20%20%20%20%0A%20%20%20%20%20%20%20%20%20%20%20%20%3Cmeta%20name%3D%22viewport%22%20content%3D%22width%3Ddevice-width%2C%0A%20%20%20%20%20%20%20%20%20%20%20%20%20%20%20%20initial-scale%3D1.0%2C%20maximum-scale%3D1.0%2C%20user-scalable%3Dno%22%20/%3E%0A%20%20%20%20%20%20%20%20%20%20%20%20%3Cstyle%3E%0A%20%20%20%20%20%20%20%20%20%20%20%20%20%20%20%20%23map_46620e64d8ab4e4aa604bd032c222659%20%7B%0A%20%20%20%20%20%20%20%20%20%20%20%20%20%20%20%20%20%20%20%20position%3A%20relative%3B%0A%20%20%20%20%20%20%20%20%20%20%20%20%20%20%20%20%20%20%20%20width%3A%20100.0%25%3B%0A%20%20%20%20%20%20%20%20%20%20%20%20%20%20%20%20%20%20%20%20height%3A%20100.0%25%3B%0A%20%20%20%20%20%20%20%20%20%20%20%20%20%20%20%20%20%20%20%20left%3A%200.0%25%3B%0A%20%20%20%20%20%20%20%20%20%20%20%20%20%20%20%20%20%20%20%20top%3A%200.0%25%3B%0A%20%20%20%20%20%20%20%20%20%20%20%20%20%20%20%20%7D%0A%20%20%20%20%20%20%20%20%20%20%20%20%3C/style%3E%0A%20%20%20%20%20%20%20%20%0A%3C/head%3E%0A%3Cbody%3E%20%20%20%20%0A%20%20%20%20%0A%20%20%20%20%20%20%20%20%20%20%20%20%3Cdiv%20class%3D%22folium-map%22%20id%3D%22map_46620e64d8ab4e4aa604bd032c222659%22%20%3E%3C/div%3E%0A%20%20%20%20%20%20%20%20%0A%3C/body%3E%0A%3Cscript%3E%20%20%20%20%0A%20%20%20%20%0A%20%20%20%20%20%20%20%20%20%20%20%20var%20map_46620e64d8ab4e4aa604bd032c222659%20%3D%20L.map%28%0A%20%20%20%20%20%20%20%20%20%20%20%20%20%20%20%20%22map_46620e64d8ab4e4aa604bd032c222659%22%2C%0A%20%20%20%20%20%20%20%20%20%20%20%20%20%20%20%20%7B%0A%20%20%20%20%20%20%20%20%20%20%20%20%20%20%20%20%20%20%20%20center%3A%20%5B32.015986964218435%2C%2023.676919552593596%5D%2C%0A%20%20%20%20%20%20%20%20%20%20%20%20%20%20%20%20%20%20%20%20crs%3A%20L.CRS.EPSG3857%2C%0A%20%20%20%20%20%20%20%20%20%20%20%20%20%20%20%20%20%20%20%20zoom%3A%2012%2C%0A%20%20%20%20%20%20%20%20%20%20%20%20%20%20%20%20%20%20%20%20zoomControl%3A%20true%2C%0A%20%20%20%20%20%20%20%20%20%20%20%20%20%20%20%20%20%20%20%20preferCanvas%3A%20false%2C%0A%20%20%20%20%20%20%20%20%20%20%20%20%20%20%20%20%7D%0A%20%20%20%20%20%20%20%20%20%20%20%20%29%3B%0A%0A%20%20%20%20%20%20%20%20%20%20%20%20%0A%0A%20%20%20%20%20%20%20%20%0A%20%20%20%20%0A%20%20%20%20%20%20%20%20%20%20%20%20var%20tile_layer_60c4e66d75b443188b84c26ecadaa3bb%20%3D%20L.tileLayer%28%0A%20%20%20%20%20%20%20%20%20%20%20%20%20%20%20%20%22https%3A//%7Bs%7D.tile.openstreetmap.org/%7Bz%7D/%7Bx%7D/%7By%7D.png%22%2C%0A%20%20%20%20%20%20%20%20%20%20%20%20%20%20%20%20%7B%22attribution%22%3A%20%22Data%20by%20%5Cu0026copy%3B%20%5Cu003ca%20href%3D%5C%22http%3A//openstreetmap.org%5C%22%5Cu003eOpenStreetMap%5Cu003c/a%5Cu003e%2C%20under%20%5Cu003ca%20href%3D%5C%22http%3A//www.openstreetmap.org/copyright%5C%22%5Cu003eODbL%5Cu003c/a%5Cu003e.%22%2C%20%22detectRetina%22%3A%20false%2C%20%22maxNativeZoom%22%3A%2018%2C%20%22maxZoom%22%3A%2018%2C%20%22minZoom%22%3A%200%2C%20%22noWrap%22%3A%20false%2C%20%22opacity%22%3A%201%2C%20%22subdomains%22%3A%20%22abc%22%2C%20%22tms%22%3A%20false%7D%0A%20%20%20%20%20%20%20%20%20%20%20%20%29.addTo%28map_46620e64d8ab4e4aa604bd032c222659%29%3B%0A%20%20%20%20%20%20%20%20%0A%20%20%20%20%0A%20%20%20%20%20%20%20%20%20%20%20%20var%20tile_layer_a29c544304b94e78b3f31bb3be1abd39%20%3D%20L.tileLayer%28%0A%20%20%20%20%20%20%20%20%20%20%20%20%20%20%20%20%22http%3A//127.0.0.1%3A8000/stac/tiles/WebMercatorQuad/%7Bz%7D/%7Bx%7D/%7By%7D%401x%3Furl%3Dhttps%253A%252F%252Fsentinel-cogs.s3.amazonaws.com%252Fsentinel-s2-l2a-cogs%252F34%252FS%252FGA%252F2020%252F3%252FS2A_34SGA_20200301_0_L2A%252FS2A_34SGA_20200301_0_L2A.json%5Cu0026assets%3DB04%5Cu0026assets%3DB03%5Cu0026assets%3DB02%5Cu0026rescale%3D0%252C10000%22%2C%0A%20%20%20%20%20%20%20%20%20%20%20%20%20%20%20%20%7B%22attribution%22%3A%20%22ESA%22%2C%20%22detectRetina%22%3A%20false%2C%20%22maxNativeZoom%22%3A%2014%2C%20%22maxZoom%22%3A%2014%2C%20%22minZoom%22%3A%208%2C%20%22noWrap%22%3A%20false%2C%20%22opacity%22%3A%201%2C%20%22subdomains%22%3A%20%22abc%22%2C%20%22tms%22%3A%20false%7D%0A%20%20%20%20%20%20%20%20%20%20%20%20%29.addTo%28map_46620e64d8ab4e4aa604bd032c222659%29%3B%0A%20%20%20%20%20%20%20%20%0A%3C/script%3E onload=\"this.contentDocument.open();this.contentDocument.write(    decodeURIComponent(this.getAttribute('data-html')));this.contentDocument.close();\" allowfullscreen webkitallowfullscreen mozallowfullscreen></iframe></div></div>"
      ],
      "text/plain": [
       "<folium.folium.Map at 0x173c5d160>"
      ]
     },
     "execution_count": 46,
     "metadata": {},
     "output_type": "execute_result"
    }
   ],
   "source": [
    "# Get Tile URL\n",
    "r = httpx.get(\n",
    "    f\"{titiler_endpoint}/stac/tilejson.json\",\n",
    "    params = (\n",
    "        (\"url\", stac_item),\n",
    "        (\"assets\", \"B04\"),\n",
    "        (\"assets\", \"B03\"),\n",
    "        (\"assets\", \"B02\"),\n",
    "        (\"minzoom\", 8),\n",
    "        (\"maxzoom\", 14),\n",
    "        (\"rescale\", \"0,10000\"),\n",
    "    )\n",
    ").json()\n",
    "\n",
    "m = Map(\n",
    "    location=((bounds[1] + bounds[3]) / 2,(bounds[0] + bounds[2]) / 2),\n",
    "    zoom_start=12\n",
    ")\n",
    "\n",
    "tiles = TileLayer(\n",
    "    tiles=r[\"tiles\"][0],\n",
    "    min_zoom=r[\"minzoom\"],\n",
    "    max_zoom=r[\"maxzoom\"],\n",
    "    opacity=1,\n",
    "    attr=\"ESA\"\n",
    ")\n",
    "tiles.add_to(m)\n",
    "m"
   ]
  },
  {
   "cell_type": "markdown",
   "metadata": {},
   "source": [
    "Apply Expression between assets"
   ]
  },
  {
   "cell_type": "code",
   "execution_count": 48,
   "metadata": {},
   "outputs": [
    {
     "data": {
      "text/html": [
       "<div style=\"width:100%;\"><div style=\"position:relative;width:100%;height:0;padding-bottom:60%;\"><span style=\"color:#565656\">Make this Notebook Trusted to load map: File -> Trust Notebook</span><iframe src=\"about:blank\" style=\"position:absolute;width:100%;height:100%;left:0;top:0;border:none !important;\" data-html=%3C%21DOCTYPE%20html%3E%0A%3Chead%3E%20%20%20%20%0A%20%20%20%20%3Cmeta%20http-equiv%3D%22content-type%22%20content%3D%22text/html%3B%20charset%3DUTF-8%22%20/%3E%0A%20%20%20%20%0A%20%20%20%20%20%20%20%20%3Cscript%3E%0A%20%20%20%20%20%20%20%20%20%20%20%20L_NO_TOUCH%20%3D%20false%3B%0A%20%20%20%20%20%20%20%20%20%20%20%20L_DISABLE_3D%20%3D%20false%3B%0A%20%20%20%20%20%20%20%20%3C/script%3E%0A%20%20%20%20%0A%20%20%20%20%3Cstyle%3Ehtml%2C%20body%20%7Bwidth%3A%20100%25%3Bheight%3A%20100%25%3Bmargin%3A%200%3Bpadding%3A%200%3B%7D%3C/style%3E%0A%20%20%20%20%3Cstyle%3E%23map%20%7Bposition%3Aabsolute%3Btop%3A0%3Bbottom%3A0%3Bright%3A0%3Bleft%3A0%3B%7D%3C/style%3E%0A%20%20%20%20%3Cscript%20src%3D%22https%3A//cdn.jsdelivr.net/npm/leaflet%401.6.0/dist/leaflet.js%22%3E%3C/script%3E%0A%20%20%20%20%3Cscript%20src%3D%22https%3A//code.jquery.com/jquery-1.12.4.min.js%22%3E%3C/script%3E%0A%20%20%20%20%3Cscript%20src%3D%22https%3A//maxcdn.bootstrapcdn.com/bootstrap/3.2.0/js/bootstrap.min.js%22%3E%3C/script%3E%0A%20%20%20%20%3Cscript%20src%3D%22https%3A//cdnjs.cloudflare.com/ajax/libs/Leaflet.awesome-markers/2.0.2/leaflet.awesome-markers.js%22%3E%3C/script%3E%0A%20%20%20%20%3Clink%20rel%3D%22stylesheet%22%20href%3D%22https%3A//cdn.jsdelivr.net/npm/leaflet%401.6.0/dist/leaflet.css%22/%3E%0A%20%20%20%20%3Clink%20rel%3D%22stylesheet%22%20href%3D%22https%3A//maxcdn.bootstrapcdn.com/bootstrap/3.2.0/css/bootstrap.min.css%22/%3E%0A%20%20%20%20%3Clink%20rel%3D%22stylesheet%22%20href%3D%22https%3A//maxcdn.bootstrapcdn.com/bootstrap/3.2.0/css/bootstrap-theme.min.css%22/%3E%0A%20%20%20%20%3Clink%20rel%3D%22stylesheet%22%20href%3D%22https%3A//maxcdn.bootstrapcdn.com/font-awesome/4.6.3/css/font-awesome.min.css%22/%3E%0A%20%20%20%20%3Clink%20rel%3D%22stylesheet%22%20href%3D%22https%3A//cdnjs.cloudflare.com/ajax/libs/Leaflet.awesome-markers/2.0.2/leaflet.awesome-markers.css%22/%3E%0A%20%20%20%20%3Clink%20rel%3D%22stylesheet%22%20href%3D%22https%3A//cdn.jsdelivr.net/gh/python-visualization/folium/folium/templates/leaflet.awesome.rotate.min.css%22/%3E%0A%20%20%20%20%0A%20%20%20%20%20%20%20%20%20%20%20%20%3Cmeta%20name%3D%22viewport%22%20content%3D%22width%3Ddevice-width%2C%0A%20%20%20%20%20%20%20%20%20%20%20%20%20%20%20%20initial-scale%3D1.0%2C%20maximum-scale%3D1.0%2C%20user-scalable%3Dno%22%20/%3E%0A%20%20%20%20%20%20%20%20%20%20%20%20%3Cstyle%3E%0A%20%20%20%20%20%20%20%20%20%20%20%20%20%20%20%20%23map_52e4958b9a70441f88b2bec2cc0c4027%20%7B%0A%20%20%20%20%20%20%20%20%20%20%20%20%20%20%20%20%20%20%20%20position%3A%20relative%3B%0A%20%20%20%20%20%20%20%20%20%20%20%20%20%20%20%20%20%20%20%20width%3A%20100.0%25%3B%0A%20%20%20%20%20%20%20%20%20%20%20%20%20%20%20%20%20%20%20%20height%3A%20100.0%25%3B%0A%20%20%20%20%20%20%20%20%20%20%20%20%20%20%20%20%20%20%20%20left%3A%200.0%25%3B%0A%20%20%20%20%20%20%20%20%20%20%20%20%20%20%20%20%20%20%20%20top%3A%200.0%25%3B%0A%20%20%20%20%20%20%20%20%20%20%20%20%20%20%20%20%7D%0A%20%20%20%20%20%20%20%20%20%20%20%20%3C/style%3E%0A%20%20%20%20%20%20%20%20%0A%3C/head%3E%0A%3Cbody%3E%20%20%20%20%0A%20%20%20%20%0A%20%20%20%20%20%20%20%20%20%20%20%20%3Cdiv%20class%3D%22folium-map%22%20id%3D%22map_52e4958b9a70441f88b2bec2cc0c4027%22%20%3E%3C/div%3E%0A%20%20%20%20%20%20%20%20%0A%3C/body%3E%0A%3Cscript%3E%20%20%20%20%0A%20%20%20%20%0A%20%20%20%20%20%20%20%20%20%20%20%20var%20map_52e4958b9a70441f88b2bec2cc0c4027%20%3D%20L.map%28%0A%20%20%20%20%20%20%20%20%20%20%20%20%20%20%20%20%22map_52e4958b9a70441f88b2bec2cc0c4027%22%2C%0A%20%20%20%20%20%20%20%20%20%20%20%20%20%20%20%20%7B%0A%20%20%20%20%20%20%20%20%20%20%20%20%20%20%20%20%20%20%20%20center%3A%20%5B32.015986964218435%2C%2023.676919552593596%5D%2C%0A%20%20%20%20%20%20%20%20%20%20%20%20%20%20%20%20%20%20%20%20crs%3A%20L.CRS.EPSG3857%2C%0A%20%20%20%20%20%20%20%20%20%20%20%20%20%20%20%20%20%20%20%20zoom%3A%2012%2C%0A%20%20%20%20%20%20%20%20%20%20%20%20%20%20%20%20%20%20%20%20zoomControl%3A%20true%2C%0A%20%20%20%20%20%20%20%20%20%20%20%20%20%20%20%20%20%20%20%20preferCanvas%3A%20false%2C%0A%20%20%20%20%20%20%20%20%20%20%20%20%20%20%20%20%7D%0A%20%20%20%20%20%20%20%20%20%20%20%20%29%3B%0A%0A%20%20%20%20%20%20%20%20%20%20%20%20%0A%0A%20%20%20%20%20%20%20%20%0A%20%20%20%20%0A%20%20%20%20%20%20%20%20%20%20%20%20var%20tile_layer_a1cf57a4688c4b76894c4f0fcde08b93%20%3D%20L.tileLayer%28%0A%20%20%20%20%20%20%20%20%20%20%20%20%20%20%20%20%22https%3A//%7Bs%7D.tile.openstreetmap.org/%7Bz%7D/%7Bx%7D/%7By%7D.png%22%2C%0A%20%20%20%20%20%20%20%20%20%20%20%20%20%20%20%20%7B%22attribution%22%3A%20%22Data%20by%20%5Cu0026copy%3B%20%5Cu003ca%20href%3D%5C%22http%3A//openstreetmap.org%5C%22%5Cu003eOpenStreetMap%5Cu003c/a%5Cu003e%2C%20under%20%5Cu003ca%20href%3D%5C%22http%3A//www.openstreetmap.org/copyright%5C%22%5Cu003eODbL%5Cu003c/a%5Cu003e.%22%2C%20%22detectRetina%22%3A%20false%2C%20%22maxNativeZoom%22%3A%2018%2C%20%22maxZoom%22%3A%2018%2C%20%22minZoom%22%3A%200%2C%20%22noWrap%22%3A%20false%2C%20%22opacity%22%3A%201%2C%20%22subdomains%22%3A%20%22abc%22%2C%20%22tms%22%3A%20false%7D%0A%20%20%20%20%20%20%20%20%20%20%20%20%29.addTo%28map_52e4958b9a70441f88b2bec2cc0c4027%29%3B%0A%20%20%20%20%20%20%20%20%0A%20%20%20%20%0A%20%20%20%20%20%20%20%20%20%20%20%20var%20tile_layer_8eef44ba44c94bff953cf5f1018004e8%20%3D%20L.tileLayer%28%0A%20%20%20%20%20%20%20%20%20%20%20%20%20%20%20%20%22http%3A//127.0.0.1%3A8000/stac/tiles/WebMercatorQuad/%7Bz%7D/%7Bx%7D/%7By%7D%401x%3Furl%3Dhttps%253A%252F%252Fsentinel-cogs.s3.amazonaws.com%252Fsentinel-s2-l2a-cogs%252F34%252FS%252FGA%252F2020%252F3%252FS2A_34SGA_20200301_0_L2A%252FS2A_34SGA_20200301_0_L2A.json%5Cu0026expression%3D%2528B08-B04%2529%252F%2528B08%252BB04%2529%5Cu0026rescale%3D-1%252C1%5Cu0026colormap_name%3Dviridis%22%2C%0A%20%20%20%20%20%20%20%20%20%20%20%20%20%20%20%20%7B%22attribution%22%3A%20%22ESA%22%2C%20%22detectRetina%22%3A%20false%2C%20%22maxNativeZoom%22%3A%2014%2C%20%22maxZoom%22%3A%2014%2C%20%22minZoom%22%3A%208%2C%20%22noWrap%22%3A%20false%2C%20%22opacity%22%3A%201%2C%20%22subdomains%22%3A%20%22abc%22%2C%20%22tms%22%3A%20false%7D%0A%20%20%20%20%20%20%20%20%20%20%20%20%29.addTo%28map_52e4958b9a70441f88b2bec2cc0c4027%29%3B%0A%20%20%20%20%20%20%20%20%0A%3C/script%3E onload=\"this.contentDocument.open();this.contentDocument.write(    decodeURIComponent(this.getAttribute('data-html')));this.contentDocument.close();\" allowfullscreen webkitallowfullscreen mozallowfullscreen></iframe></div></div>"
      ],
      "text/plain": [
       "<folium.folium.Map at 0x174216070>"
      ]
     },
     "execution_count": 48,
     "metadata": {},
     "output_type": "execute_result"
    }
   ],
   "source": [
    "# Get Tile URL\n",
    "r = httpx.get(\n",
    "    f\"{titiler_endpoint}/stac/tilejson.json\",\n",
    "    params = (\n",
    "        (\"url\", stac_item),\n",
    "        (\"expression\", \"(B08-B04)/(B08+B04)\"),  # NDVI\n",
    "        (\"rescale\", \"-1,1\"),\n",
    "        (\"minzoom\", 8),\n",
    "        (\"maxzoom\", 14),\n",
    "        (\"colormap_name\", \"viridis\"),\n",
    "    )\n",
    ").json()\n",
    "\n",
    "m = Map(\n",
    "    location=((bounds[1] + bounds[3]) / 2,(bounds[0] + bounds[2]) / 2),\n",
    "    zoom_start=12\n",
    ")\n",
    "\n",
    "tiles = TileLayer(\n",
    "    tiles=r[\"tiles\"][0],\n",
    "    min_zoom=r[\"minzoom\"],\n",
    "    max_zoom=r[\"maxzoom\"],\n",
    "    opacity=1,\n",
    "    attr=\"ESA\"\n",
    ")\n",
    "tiles.add_to(m)\n",
    "m"
   ]
  },
  {
   "cell_type": "code",
   "execution_count": null,
   "metadata": {},
   "outputs": [],
   "source": []
  }
 ],
 "metadata": {
  "kernelspec": {
   "display_name": "Python 3",
   "language": "python",
   "name": "python3"
  },
  "language_info": {
   "codemirror_mode": {
    "name": "ipython",
    "version": 3
   },
   "file_extension": ".py",
   "mimetype": "text/x-python",
   "name": "python",
   "nbconvert_exporter": "python",
   "pygments_lexer": "ipython3",
   "version": "3.8.2"
  }
 },
 "nbformat": 4,
 "nbformat_minor": 4
}
