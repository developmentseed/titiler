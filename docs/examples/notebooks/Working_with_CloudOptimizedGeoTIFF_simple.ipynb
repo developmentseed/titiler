{
 "cells": [
  {
   "cell_type": "markdown",
   "metadata": {},
   "source": [
    "# Working With COG\n",
    "\n",
    "[![Binder](https://mybinder.org/badge_logo.svg)](https://mybinder.org/v2/gh/developmentseed/titiler/master?filepath=docs%2Fexamples%2FWorking_with_CloudOptimizedGeoTIFF_simple.ipynb)\n",
    "\n",
    "For this demo we will use the new `DigitalGlobe OpenData` dataset https://www.digitalglobe.com/ecosystem/open-data\n",
    "\n",
    "\n",
    "#### Requirements\n",
    "- folium\n",
    "- requests\n",
    "\n",
    "`pip install folium requests`"
   ]
  },
  {
   "cell_type": "code",
   "execution_count": null,
   "metadata": {},
   "outputs": [],
   "source": [
    "# Uncomment this line if you need to install the dependencies\n",
    "# !pip install folium requests"
   ]
  },
  {
   "cell_type": "code",
   "execution_count": null,
   "metadata": {},
   "outputs": [],
   "source": [
    "import json\n",
    "\n",
    "import requests\n",
    "\n",
    "from folium import Map, TileLayer\n",
    "\n",
    "%pylab inline"
   ]
  },
  {
   "cell_type": "code",
   "execution_count": null,
   "metadata": {},
   "outputs": [],
   "source": [
    "titiler_endpoint = \"https://api.cogeo.xyz\"  # Devseed temporary endpoint\n",
    "url = \"https://opendata.digitalglobe.com/events/mauritius-oil-spill/post-event/2020-08-12/105001001F1B5B00/105001001F1B5B00.tif\""
   ]
  },
  {
   "cell_type": "markdown",
   "metadata": {},
   "source": [
    "## Get COG Info"
   ]
  },
  {
   "cell_type": "code",
   "execution_count": null,
   "metadata": {},
   "outputs": [],
   "source": [
    "# Fetch File Metadata to get min/max rescaling values (because the file is stored as float32)\n",
    "r = requests.get(\n",
    "    f\"{titiler_endpoint}/cog/info\",\n",
    "    params = {\n",
    "        \"url\": url,\n",
    "    }\n",
    ").json()\n",
    "\n",
    "bounds = r[\"bounds\"]\n",
    "print(r)"
   ]
  },
  {
   "cell_type": "markdown",
   "metadata": {},
   "source": [
    "## Get COG Metadata"
   ]
  },
  {
   "cell_type": "code",
   "execution_count": null,
   "metadata": {},
   "outputs": [],
   "source": [
    "# Fetch File Metadata to get min/max rescaling values (because the file is stored as float32)\n",
    "r = requests.get(\n",
    "    f\"{titiler_endpoint}/cog/metadata\",\n",
    "    params = {\n",
    "        \"url\": url,\n",
    "    }\n",
    ").json()\n",
    "\n",
    "print(json.dumps(r, indent=4))"
   ]
  },
  {
   "cell_type": "markdown",
   "metadata": {},
   "source": [
    "### Display Tiles"
   ]
  },
  {
   "cell_type": "code",
   "execution_count": null,
   "metadata": {},
   "outputs": [],
   "source": [
    "r = requests.get(\n",
    "    f\"{titiler_endpoint}/cog/tilejson.json\",\n",
    "    params = {\n",
    "        \"url\": url,\n",
    "    }\n",
    ").json()\n",
    "\n",
    "m = Map(\n",
    "    location=((bounds[1] + bounds[3]) / 2,(bounds[0] + bounds[2]) / 2),\n",
    "    zoom_start=13\n",
    ")\n",
    "\n",
    "aod_layer = TileLayer(\n",
    "    tiles=r[\"tiles\"][0],\n",
    "    opacity=1,\n",
    "    attr=\"DigitalGlobe OpenData\"\n",
    ")\n",
    "aod_layer.add_to(m)\n",
    "m"
   ]
  },
  {
   "cell_type": "code",
   "execution_count": null,
   "metadata": {},
   "outputs": [],
   "source": []
  }
 ],
 "metadata": {
  "kernelspec": {
   "display_name": "Python 3",
   "language": "python",
   "name": "python3"
  },
  "language_info": {
   "codemirror_mode": {
    "name": "ipython",
    "version": 3
   },
   "file_extension": ".py",
   "mimetype": "text/x-python",
   "name": "python",
   "nbconvert_exporter": "python",
   "pygments_lexer": "ipython3",
   "version": "3.8.6"
  }
 },
 "nbformat": 4,
 "nbformat_minor": 4
}
