{
 "cells": [
  {
   "cell_type": "markdown",
   "metadata": {},
   "source": [
    "# Working With TileMatrixSets (other than WebMercator)\n",
    "\n",
    "\n",
    "[![Binder](https://mybinder.org/badge_logo.svg)](https://mybinder.org/v2/gh/developmentseed/titiler/master?filepath=docs%2Fexamples%2FWorking_with_nonWebMercatorTMS.ipynb)\n",
    "\n",
    "TiTiler has builtin support for serving tiles in multiple Projections by using [rio-tiler](https://github.com/cogeotiff/rio-tiler) and [morecantile](https://github.com/developmentseed/morecantile).\n",
    "\n",
    "The default `cog` and `stac` endpoint (`titiler.endpoints.cog`and `titiler.endoints.stac`) are built with Mutli TMS support using the default grids provided by morecantile:\n",
    "\n",
    "```python\n",
    "\n",
    "from fastapi import FastAPI\n",
    "\n",
    "from titiler.endpoints.factory import TilerFactory\n",
    "\n",
    "# Create a Multi TMS Tiler using `TilerFactory` Factory\n",
    "cog = TilerFactory(router_prefix=\"cog\")\n",
    "\n",
    "app = FastAPI()\n",
    "app.include_router(cog.router, prefix=\"/cog\", tags=[\"Cloud Optimized GeoTIFF\"])\n",
    "\n",
    "```"
   ]
  },
  {
   "cell_type": "markdown",
   "metadata": {},
   "source": [
    "This Notebook shows how to use and display tiles with non-webmercator TileMatrixSet\n",
    "\n",
    "#### Requirements\n",
    "- ipyleaflet\n",
    "- requests"
   ]
  },
  {
   "cell_type": "code",
   "execution_count": 1,
   "metadata": {},
   "outputs": [],
   "source": [
    "# Uncomment if you need to install those module within the notebook\n",
    "# !pip install ipyleaflet requests"
   ]
  },
  {
   "cell_type": "code",
   "execution_count": 2,
   "metadata": {},
   "outputs": [],
   "source": [
    "import json\n",
    "\n",
    "import requests\n",
    "\n",
    "from ipyleaflet import (\n",
    "    Map,\n",
    "    basemaps,\n",
    "    basemap_to_tiles,\n",
    "    TileLayer,\n",
    "    WMSLayer,\n",
    "    GeoJSON,\n",
    "    projections\n",
    ")"
   ]
  },
  {
   "cell_type": "code",
   "execution_count": 3,
   "metadata": {},
   "outputs": [],
   "source": [
    "titiler_endpoint = \"https://api.cogeo.xyz/\"  # Devseed Custom TiTiler endpoint\n",
    "url = \"https://s3.amazonaws.com/opendata.remotepixel.ca/cogs/natural_earth/world.tif\" # Natural Earth WORLD tif"
   ]
  },
  {
   "cell_type": "markdown",
   "metadata": {},
   "source": [
    "### List Supported TileMatrixSets"
   ]
  },
  {
   "cell_type": "code",
   "execution_count": 4,
   "metadata": {
    "scrolled": false
   },
   "outputs": [
    {
     "output_type": "stream",
     "name": "stdout",
     "text": [
      "Supported TMS:\n- CanadianNAD83_LCC\n- EPSG3413\n- EPSG6933\n- EuropeanETRS89_LAEAQuad\n- LINZAntarticaMapTilegrid\n- NZTM2000\n- UPSAntarcticWGS84Quad\n- UPSArcticWGS84Quad\n- UTM31WGS84Quad\n- WebMercatorQuad\n- WorldCRS84Quad\n- WorldMercatorWGS84Quad\n"
     ]
    }
   ],
   "source": [
    "r = requests.get(\"https://api.cogeo.xyz/tileMatrixSets\").json()\n",
    "\n",
    "print(\"Supported TMS:\")\n",
    "for tms in r[\"tileMatrixSets\"]:\n",
    "    print(\"-\", tms[\"id\"])"
   ]
  },
  {
   "cell_type": "markdown",
   "metadata": {},
   "source": [
    "## WGS 84 -- WGS84 - World Geodetic System 1984 - EPSG:4326\n",
    "\n",
    "https://epsg.io/4326"
   ]
  },
  {
   "cell_type": "code",
   "execution_count": 51,
   "metadata": {},
   "outputs": [
    {
     "data": {
      "application/vnd.jupyter.widget-view+json": {
       "model_id": "16cc39d2038742d5a3dc575502809102",
       "version_major": 2,
       "version_minor": 0
      },
      "text/plain": [
       "Map(center=[45, 0], controls=(ZoomControl(options=['position', 'zoom_in_text', 'zoom_in_title', 'zoom_out_text…"
      ]
     },
     "metadata": {},
     "output_type": "display_data"
    }
   ],
   "source": [
    "r = requests.get(\n",
    "    \"https://api.cogeo.xyz/cog/WorldCRS84Quad/tilejson.json\", params = {\"url\": url}\n",
    ").json()\n",
    "\n",
    "m = Map(center=(45, 0), zoom=4, basemap={}, crs=projections.EPSG4326)\n",
    "\n",
    "layer = TileLayer(url=r[\"tiles\"][0], opacity=1)\n",
    "m.add_layer(layer)\n",
    "m"
   ]
  },
  {
   "cell_type": "markdown",
   "metadata": {},
   "source": [
    "## WGS 84 / NSIDC Sea Ice Polar Stereographic North - EPSG:3413\n",
    "\n",
    "https://epsg.io/3413"
   ]
  },
  {
   "cell_type": "code",
   "execution_count": 52,
   "metadata": {
    "tags": []
   },
   "outputs": [
    {
     "data": {
      "application/vnd.jupyter.widget-view+json": {
       "model_id": "24b63c5b9b1c428198ef9fbfdc101b42",
       "version_major": 2,
       "version_minor": 0
      },
      "text/plain": [
       "Map(center=[70, 0], controls=(ZoomControl(options=['position', 'zoom_in_text', 'zoom_in_title', 'zoom_out_text…"
      ]
     },
     "metadata": {},
     "output_type": "display_data"
    }
   ],
   "source": [
    "r = requests.get(\n",
    "    \"https://api.cogeo.xyz/cog/EPSG3413/tilejson.json\", params = {\"url\": url}\n",
    ").json()\n",
    "\n",
    "m = Map(center=(70, 0), zoom=1, basemap={}, crs=projections.EPSG3413)\n",
    "\n",
    "layer = TileLayer(url=r[\"tiles\"][0], opacity=1)\n",
    "m.add_layer(layer)\n",
    "m"
   ]
  },
  {
   "cell_type": "markdown",
   "metadata": {},
   "source": [
    "## ETRS89-extended / LAEA Europe - EPSG:3035\n",
    "\n",
    "https://epsg.io/3035"
   ]
  },
  {
   "cell_type": "code",
   "execution_count": 53,
   "metadata": {},
   "outputs": [
    {
     "data": {
      "application/vnd.jupyter.widget-view+json": {
       "model_id": "5d9c28f4525d4061b575c685b1e5b5cb",
       "version_major": 2,
       "version_minor": 0
      },
      "text/plain": [
       "Map(center=[50, 65], controls=(ZoomControl(options=['position', 'zoom_in_text', 'zoom_in_title', 'zoom_out_tex…"
      ]
     },
     "metadata": {},
     "output_type": "display_data"
    }
   ],
   "source": [
    "r = requests.get(\n",
    "    \"https://api.cogeo.xyz/cog/EuropeanETRS89_LAEAQuad/tilejson.json\", params = {\"url\": url}\n",
    ").json()\n",
    "\n",
    "my_projection = {\n",
    "    'name': 'EPSG:3035',\n",
    "    'custom': True, #This is important, it tells ipyleaflet that this projection is not on the predefined ones.\n",
    "    'proj4def': '+proj=laea +lat_0=52 +lon_0=10 +x_0=4321000 +y_0=3210000 +ellps=GRS80 +towgs84=0,0,0,0,0,0,0 +units=m +no_defs',\n",
    "    'origin': [6500000.0, 5500000.0],\n",
    "    'resolutions': [\n",
    "        8192.0,\n",
    "        4096.0,\n",
    "        2048.0,\n",
    "        1024.0,\n",
    "        512.0,\n",
    "        256.0\n",
    "    ]\n",
    "}\n",
    "\n",
    "m = Map(center=(50, 65), zoom=1, basemap={}, crs=my_projection)\n",
    "\n",
    "layer = TileLayer(url=r[\"tiles\"][0], opacity=1)\n",
    "m.add_layer(layer)\n",
    "m"
   ]
  },
  {
   "cell_type": "code",
   "execution_count": null,
   "metadata": {},
   "outputs": [],
   "source": []
  }
 ],
 "metadata": {
  "kernelspec": {
   "display_name": "Python 3",
   "language": "python",
   "name": "python3"
  },
  "language_info": {
   "codemirror_mode": {
    "name": "ipython",
    "version": 3
   },
   "file_extension": ".py",
   "mimetype": "text/x-python",
   "name": "python",
   "nbconvert_exporter": "python",
   "pygments_lexer": "ipython3",
   "version": "3.7.4-final"
  }
 },
 "nbformat": 4,
 "nbformat_minor": 4
}