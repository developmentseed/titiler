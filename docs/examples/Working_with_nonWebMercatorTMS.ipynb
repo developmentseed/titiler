{
 "cells": [
  {
   "cell_type": "markdown",
   "metadata": {},
   "source": [
    "# Working With TileMatrixSets (other than WebMercator)\n",
    "\n",
    "[![Binder](https://mybinder.org/badge_logo.svg)](https://mybinder.org/v2/gh/developmentseed/titiler/master?filepath=docs%2Fexamples%2FWorking_with_nonWebMercatorTMS.ipynb)\n",
    "\n",
    "#### Requirements\n",
    "- ipyleaflet\n",
    "- requests\n",
    "\n",
    "`pip install ipyleaflet requests`"
   ]
  },
  {
   "cell_type": "code",
   "execution_count": 1,
   "metadata": {},
   "outputs": [],
   "source": [
    "import json\n",
    "\n",
    "import requests\n",
    "\n",
    "from ipyleaflet import (\n",
    "    Map,\n",
    "    basemaps,\n",
    "    basemap_to_tiles,\n",
    "    TileLayer,\n",
    "    WMSLayer,\n",
    "    GeoJSON,\n",
    "    projections\n",
    ")"
   ]
  },
  {
   "cell_type": "code",
   "execution_count": 2,
   "metadata": {},
   "outputs": [],
   "source": [
    "titiler_endpoint = \"https://api.cogeo.xyz/\"  # Devseed temporary endpoint\n",
    "url = \"https://s3.amazonaws.com/opendata.remotepixel.ca/cogs/natural_earth/world.tif\""
   ]
  },
  {
   "cell_type": "code",
   "execution_count": 3,
   "metadata": {
    "tags": []
   },
   "outputs": [
    {
     "name": "stdout",
     "output_type": "stream",
     "text": [
      "{'tilejson': '2.2.0', 'name': 'world.tif', 'version': '1.0.0', 'scheme': 'xyz', 'tiles': ['https://api.cogeo.xyz/cog/tiles/EPSG3413/{z}/{x}/{y}@1x?url=https%3A%2F%2Fs3.amazonaws.com%2Fopendata.remotepixel.ca%2Fcogs%2Fnatural_earth%2Fworld.tif'], 'minzoom': 0, 'maxzoom': 0, 'bounds': [-179.8333333333333, -89.8333333333693, 179.8333333334053, 89.83333333333331], 'center': [3.601030584832188e-11, -1.7990942069445737e-11, 0]}\n"
     ]
    },
    {
     "data": {
      "application/vnd.jupyter.widget-view+json": {
       "model_id": "dfe7cd75905f422e81f5e52b639bc6eb",
       "version_major": 2,
       "version_minor": 0
      },
      "text/plain": [
       "Map(center=[90, 0], controls=(ZoomControl(options=['position', 'zoom_in_text', 'zoom_in_title', 'zoom_out_text…"
      ]
     },
     "metadata": {},
     "output_type": "display_data"
    }
   ],
   "source": [
    "r = requests.get(\n",
    "    \"https://api.cogeo.xyz/cog/EPSG3413/tilejson.json\",\n",
    "    params = {\n",
    "        \"url\": url,\n",
    "    }\n",
    ").json()\n",
    "print(r)\n",
    "# note that we need to use the same projection for the our layer and the map.\n",
    "m = Map(center=(90, 0), zoom=0, basemap={}, crs=projections.EPSG3413)\n",
    "\n",
    "layer = TileLayer(url=r[\"tiles\"][0], opacity=1)\n",
    "m.add_layer(layer)\n",
    "m"
   ]
  }
 ],
 "metadata": {
  "kernelspec": {
   "display_name": "Python 3",
   "language": "python",
   "name": "python3"
  },
  "language_info": {
   "codemirror_mode": {
    "name": "ipython",
    "version": 3
   },
   "file_extension": ".py",
   "mimetype": "text/x-python",
   "name": "python",
   "nbconvert_exporter": "python",
   "pygments_lexer": "ipython3",
   "version": "3.7.7"
  }
 },
 "nbformat": 4,
 "nbformat_minor": 4
}
