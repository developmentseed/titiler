{
 "cells": [
  {
   "cell_type": "markdown",
   "metadata": {},
   "source": [
    "# Create Custom Sentinel-2 (COG) Tiler\n",
    "\n",
    "Note: See https://github.com/developmentseed/titiler-pds for a end-to-end implementation\n",
    "\n",
    "### Sentinel 2\n",
    "\n",
    "Thanks to Digital Earth Africa and in collaboration with Sinergise, Element 84, Amazon Web Services (AWS) and the Committee on Earth Observation Satellites (CEOS), Sentinel 2 (Level 2) data over Africa, usually stored as JPEG2000, has been translated to COG. More importantly, a STAC database and API has been set up. \n",
    "\n",
    "https://www.digitalearthafrica.org/news/operational-and-ready-use-satellite-data-now-available-across-africa\n",
    "\n",
    "The API is provided by [@element84](https://www.element84.com) and follows the latest specification: https://earth-search.aws.element84.com/v0"
   ]
  },
  {
   "cell_type": "markdown",
   "metadata": {},
   "source": [
    "\n",
    "## Requirements\n",
    "\n",
    "To be able to run this notebook you'll need the following requirements:\n",
    "- rasterio\n",
    "- folium\n",
    "- requests\n",
    "- titiler\n",
    "- uvicorn\n",
    "- rio-tiler-pds\n",
    "- cogeo-mosaic\n",
    "\n",
    "`!pip install titiler uvicorn cogeo-mosaic folium requests rio-tiler-pds`"
   ]
  },
  {
   "cell_type": "code",
   "execution_count": null,
   "metadata": {},
   "outputs": [],
   "source": [
    "# Uncomment this line if you need to install the dependencies\n",
    "# !pip install titiler uvicorn cogeo-mosaic folium requests rio-tiler-pds"
   ]
  },
  {
   "cell_type": "markdown",
   "metadata": {},
   "source": [
    "## 1. Create the CustomTiler\n",
    "\n",
    "In order to create our custom tiler we will use the rio-tiler-pds `S2COGReader` and the different Tiler Factories from titiler."
   ]
  },
  {
   "cell_type": "markdown",
   "metadata": {},
   "source": [
    "```python\n",
    "\"\"\"\n",
    "Sentinel 2 (COG) Tiler.\n",
    "\n",
    "Based on rio-tiler-pds and titiler\n",
    "\n",
    ">>> pip install titiler rio-tiler-pds\n",
    "\n",
    "\"\"\"\n",
    "from dataclasses import dataclass, field\n",
    "from typing import Dict, Type, Optional, Sequence\n",
    "\n",
    "from titiler.endpoints.factory import TilerFactory, MosaicTilerFactory\n",
    "from titiler.dependencies import DefaultDependency\n",
    "\n",
    "\n",
    "from rio_tiler.models import Info, Metadata\n",
    "from rio_tiler_pds.sentinel.aws import S2COGReader\n",
    "from rio_tiler_pds.sentinel.utils import s2_sceneid_parser\n",
    "\n",
    "from fastapi import FastAPI, Depends, Query\n",
    "\n",
    "\n",
    "@dataclass\n",
    "class CustomPathParams:\n",
    "    \"\"\"Create dataset path from args\"\"\"\n",
    "\n",
    "    sceneid: str = Query(..., description=\"Landsat 8 Sceneid.\")\n",
    "    scene_metadata: Dict = field(init=False)\n",
    "\n",
    "    def __post_init__(self,):\n",
    "        \"\"\"Define dataset URL.\"\"\"\n",
    "        self.url = self.sceneid\n",
    "        self.scene_metadata = s2_sceneid_parser(self.sceneid)\n",
    "\n",
    "\n",
    "def BandsParams(\n",
    "    bands: str = Query(\n",
    "        ...,\n",
    "        title=\"bands names\",\n",
    "        description=\"comma (',') delimited bands names.\",\n",
    "    )\n",
    ") -> Sequence[str]:\n",
    "    \"\"\"Bands.\"\"\"\n",
    "    return bands.split(\",\")\n",
    "\n",
    "\n",
    "@dataclass\n",
    "class BandsExprParams(DefaultDependency):\n",
    "    \"\"\"Band names and Expression parameters.\"\"\"\n",
    "\n",
    "    bands: Optional[str] = Query(\n",
    "        None,\n",
    "        title=\"bands names\",\n",
    "        description=\"comma (',') delimited bands names.\",\n",
    "    )\n",
    "    expression: Optional[str] = Query(\n",
    "        None,\n",
    "        title=\"Band Math expression\",\n",
    "        description=\"rio-tiler's band math expression.\",\n",
    "    )\n",
    "\n",
    "    def __post_init__(self):\n",
    "        \"\"\"Post Init.\"\"\"\n",
    "        if self.bands is not None:\n",
    "            self.kwargs[\"bands\"] = self.bands.split(\",\")\n",
    "        if self.expression is not None:\n",
    "            self.kwargs[\"expression\"] = self.expression\n",
    "\n",
    "\n",
    "@dataclass\n",
    "class S2COGTiler(TilerFactory):\n",
    "    \"\"\"Custom Tiler Class for STAC.\"\"\"\n",
    "\n",
    "    reader: Type[S2COGReader] = field(default=S2COGReader)\n",
    "\n",
    "    path_dependency: Type[CustomPathParams] = CustomPathParams\n",
    "\n",
    "    layer_dependency: Type[DefaultDependency] = BandsExprParams\n",
    "\n",
    "    def info(self):\n",
    "        \"\"\"Register /info endpoint.\"\"\"\n",
    "\n",
    "        @self.router.get(\n",
    "            \"/info\",\n",
    "            response_model=Info,\n",
    "            response_model_exclude={\"minzoom\", \"maxzoom\", \"center\"},\n",
    "            response_model_exclude_none=True,\n",
    "            responses={200: {\"description\": \"Return dataset's basic info.\"}},\n",
    "        )\n",
    "        def info(\n",
    "            src_path=Depends(self.path_dependency),\n",
    "            bands=Depends(BandsParams),\n",
    "            kwargs: Dict = Depends(self.additional_dependency),\n",
    "        ):\n",
    "            \"\"\"Return basic info.\"\"\"\n",
    "            with self.reader(src_path.url, **self.reader_options) as src_dst:\n",
    "                info = src_dst.info(bands=bands, **kwargs)\n",
    "            return info\n",
    "\n",
    "    def metadata(self):\n",
    "        \"\"\"Register /metadata endpoint.\"\"\"\n",
    "\n",
    "        @self.router.get(\n",
    "            \"/metadata\",\n",
    "            response_model=Metadata,\n",
    "            response_model_exclude={\"minzoom\", \"maxzoom\", \"center\"},\n",
    "            response_model_exclude_none=True,\n",
    "            responses={200: {\"description\": \"Return dataset's metadata.\"}},\n",
    "        )\n",
    "        def metadata(\n",
    "            src_path=Depends(self.path_dependency),\n",
    "            bands=Depends(BandsParams),\n",
    "            metadata_params=Depends(self.metadata_dependency),\n",
    "            kwargs: Dict = Depends(self.additional_dependency),\n",
    "        ):\n",
    "            \"\"\"Return metadata.\"\"\"\n",
    "            with self.reader(src_path.url, **self.reader_options) as src_dst:\n",
    "                info = src_dst.metadata(\n",
    "                    metadata_params.pmin,\n",
    "                    metadata_params.pmax,\n",
    "                    bands=bands,\n",
    "                    **metadata_params.kwargs,\n",
    "                    **kwargs,\n",
    "                )\n",
    "            return info\n",
    "\n",
    "\n",
    "app = FastAPI()\n",
    "\n",
    "\n",
    "scene_tiler = S2COGTiler(router_prefix=\"scenes\")\n",
    "app.include_router(scene_tiler.router, prefix=\"/scenes\", tags=[\"scenes\"])\n",
    "\n",
    "mosaic_tiler = MosaicTilerFactory(\n",
    "    router_prefix=\"mosaic\",\n",
    "    dataset_reader=S2COGReader,\n",
    "    layer_dependency=BandsExprParams,\n",
    "    add_update=False,\n",
    "    add_create=False,\n",
    ")\n",
    "app.include_router(mosaic_tiler.router, prefix=\"/mosaic\", tags=[\"mosaic\"])\n",
    "```"
   ]
  },
  {
   "cell_type": "markdown",
   "metadata": {},
   "source": [
    "## 2. Launch the tiler\n",
    "\n",
    "Save the python code from 1. into a file named app.py and then start the server within another terminal\n",
    "\n",
    "```\n",
    "$ uvicorn app:app\n",
    "```"
   ]
  },
  {
   "cell_type": "markdown",
   "metadata": {},
   "source": [
    "## 3. Search Data"
   ]
  },
  {
   "cell_type": "code",
   "execution_count": null,
   "metadata": {
    "tags": []
   },
   "outputs": [],
   "source": [
    "import os\n",
    "import json\n",
    "import base64\n",
    "import requests\n",
    "import datetime\n",
    "import itertools\n",
    "import urllib.parse\n",
    "import pathlib\n",
    "\n",
    "from io import BytesIO\n",
    "from functools import partial\n",
    "from concurrent import futures\n",
    "\n",
    "from rasterio.plot import reshape_as_image\n",
    "from rasterio.features import bounds as featureBounds\n",
    "\n",
    "from folium import Map, TileLayer, GeoJson\n",
    "\n",
    "%pylab inline"
   ]
  },
  {
   "cell_type": "code",
   "execution_count": null,
   "metadata": {},
   "outputs": [],
   "source": [
    "# Endpoint variables\n",
    "titiler_endpoint = \"http://127.0.0.1:8000\"\n",
    "stac_endpoint = \"https://earth-search.aws.element84.com/v0/search\"\n",
    "\n",
    "# Make sure both are up\n",
    "assert requests.get(f\"{titiler_endpoint}/docs\").status_code == 200\n",
    "assert requests.get(stac_endpoint).status_code == 200"
   ]
  },
  {
   "cell_type": "markdown",
   "metadata": {},
   "source": [
    "More info: https://github.com/radiantearth/stac-api-spec for more documentation about the stac API\n",
    "\n",
    "1. AOI\n",
    "\n",
    "You can use geojson.io to define your search AOI"
   ]
  },
  {
   "cell_type": "code",
   "execution_count": null,
   "metadata": {},
   "outputs": [],
   "source": [
    "geojson = {\n",
    "  \"type\": \"FeatureCollection\",\n",
    "  \"features\": [\n",
    "    {\n",
    "      \"type\": \"Feature\",\n",
    "      \"properties\": {},\n",
    "      \"geometry\": {\n",
    "        \"type\": \"Polygon\",\n",
    "        \"coordinates\": [\n",
    "          [\n",
    "            [\n",
    "              -2.83447265625,\n",
    "              4.12728532324537\n",
    "            ],\n",
    "            [\n",
    "              2.120361328125,\n",
    "              4.12728532324537\n",
    "            ],\n",
    "            [\n",
    "              2.120361328125,\n",
    "              8.254982704877875\n",
    "            ],\n",
    "            [\n",
    "              -2.83447265625,\n",
    "              8.254982704877875\n",
    "            ],\n",
    "            [\n",
    "              -2.83447265625,\n",
    "              4.12728532324537\n",
    "            ]\n",
    "          ]\n",
    "        ]\n",
    "      }\n",
    "    }\n",
    "  ]\n",
    "}\n",
    "\n",
    "bounds = featureBounds(geojson)\n",
    "\n",
    "m = Map(\n",
    "    tiles=\"OpenStreetMap\",\n",
    "    location=((bounds[1] + bounds[3]) / 2,(bounds[0] + bounds[2]) / 2),\n",
    "    zoom_start=6\n",
    ")\n",
    "\n",
    "geo_json = GeoJson(data=geojson)\n",
    "geo_json.add_to(m)\n",
    "m"
   ]
  },
  {
   "cell_type": "markdown",
   "metadata": {},
   "source": [
    "2. Define dates and other filters"
   ]
  },
  {
   "cell_type": "code",
   "execution_count": null,
   "metadata": {
    "scrolled": false,
    "tags": []
   },
   "outputs": [],
   "source": [
    "start = datetime.datetime.strptime(\"2019-01-01\", \"%Y-%m-%d\").strftime(\"%Y-%m-%dT00:00:00Z\")\n",
    "end = datetime.datetime.strptime(\"2019-12-11\", \"%Y-%m-%d\").strftime(\"%Y-%m-%dT23:59:59Z\")\n",
    "\n",
    "# POST body\n",
    "query = {\n",
    "    \"collections\": [\"sentinel-s2-l2a-cogs\"],\n",
    "    \"datetime\": f\"{start}/{end}\",\n",
    "    \"query\": {\n",
    "        \"eo:cloud_cover\": {\n",
    "            \"lt\": 3\n",
    "        },\n",
    "        \"sentinel:data_coverage\": {\n",
    "            \"gt\": 10\n",
    "        }\n",
    "    },\n",
    "    \"intersects\": geojson[\"features\"][0][\"geometry\"],\n",
    "    \"limit\": 1000,\n",
    "    \"fields\": {\n",
    "      'include': ['id', 'properties.datetime', 'properties.eo:cloud_cover'],  # This will limit the size of returned body\n",
    "      'exclude': ['assets', 'links']  # This will limit the size of returned body\n",
    "    },\n",
    "    \"sortby\": [\n",
    "        {\n",
    "            \"field\": \"properties.eo:cloud_cover\",\n",
    "            \"direction\": \"desc\"\n",
    "        },\n",
    "    ]\n",
    "}\n",
    "\n",
    "# POST Headers\n",
    "headers = {\n",
    "    \"Content-Type\": \"application/json\",\n",
    "    \"Accept-Encoding\": \"gzip\",\n",
    "    \"Accept\": \"application/geo+json\",\n",
    "}\n",
    "\n",
    "data = requests.post(stac_endpoint, headers=headers, json=query).json()\n",
    "print(\"Results context:\")\n",
    "print(data[\"context\"])\n",
    "\n",
    "sceneid = [f[\"id\"] for f in data[\"features\"]]\n",
    "cloudcover = [f[\"properties\"][\"eo:cloud_cover\"] for f in data[\"features\"]]\n",
    "dates = [f[\"properties\"][\"datetime\"][0:10] for f in data[\"features\"]]"
   ]
  },
  {
   "cell_type": "code",
   "execution_count": null,
   "metadata": {},
   "outputs": [],
   "source": [
    "data[\"features\"][0]"
   ]
  },
  {
   "cell_type": "code",
   "execution_count": null,
   "metadata": {
    "scrolled": false
   },
   "outputs": [],
   "source": [
    "m = Map(\n",
    "    tiles=\"OpenStreetMap\",\n",
    "    location=((bounds[1] + bounds[3]) / 2,(bounds[0] + bounds[2]) / 2),\n",
    "    zoom_start=8\n",
    ")\n",
    "\n",
    "geo_json = GeoJson(\n",
    "    data=data,\n",
    "    style_function=lambda x: {\n",
    "        'opacity': 1, 'dashArray': '1', 'fillOpacity': 0, 'weight': 1\n",
    "    },\n",
    ")\n",
    "geo_json.add_to(m)\n",
    "m"
   ]
  },
  {
   "cell_type": "markdown",
   "metadata": {},
   "source": [
    "## 4. Visualize One Item"
   ]
  },
  {
   "cell_type": "code",
   "execution_count": null,
   "metadata": {},
   "outputs": [],
   "source": [
    "# Print what bands are available\n",
    "from rio_tiler_pds.sentinel.aws.sentinel2 import default_l2a_bands\n",
    "print(default_l2a_bands)"
   ]
  },
  {
   "cell_type": "code",
   "execution_count": null,
   "metadata": {},
   "outputs": [],
   "source": [
    "# Fetch TileJSON\n",
    "# For this example we use the first `sceneid` returned from the STAC API\n",
    "# and we sent the Bands to B04,B03,B02 which are red,green,blue\n",
    "data = requests.get(f\"{titiler_endpoint}/scenes/tilejson.json?sceneid={sceneid[4]}&bands=B04,B03,B02&rescale=0,2000\").json()\n",
    "print(data)"
   ]
  },
  {
   "cell_type": "code",
   "execution_count": null,
   "metadata": {
    "scrolled": false,
    "tags": []
   },
   "outputs": [],
   "source": [
    "bounds = data[\"bounds\"]\n",
    "m = Map(\n",
    "    location=((bounds[1] + bounds[3]) / 2,(bounds[0] + bounds[2]) / 2),\n",
    "    zoom_start=10\n",
    ")\n",
    "\n",
    "tiles = TileLayer(\n",
    "    tiles=data[\"tiles\"][0],\n",
    "    min_zoom=data[\"minzoom\"],\n",
    "    max_zoom=data[\"maxzoom\"],\n",
    "    opacity=1,\n",
    "    attr=\"Digital Earth Africa\"\n",
    ")\n",
    "tiles.add_to(m)\n",
    "m"
   ]
  },
  {
   "cell_type": "markdown",
   "metadata": {},
   "source": [
    "## 5. Mosaic\n",
    "\n",
    "Working with 1 scene is great, but working with 10s is better. Lets see how to create mosaics and use it with our new tiler."
   ]
  },
  {
   "cell_type": "markdown",
   "metadata": {},
   "source": [
    "### 5.1 Create a MosaicJSON document\n",
    "\n",
    "\n",
    "To create a mosaicJSON, we can use developmentseed/cogeo-mosaic python module. Within this module there is a `backend` which is able to work with the STAC API directly to create mosaicJSON."
   ]
  },
  {
   "cell_type": "code",
   "execution_count": null,
   "metadata": {},
   "outputs": [],
   "source": [
    "from cogeo_mosaic.backends import MosaicBackend\n",
    "\n",
    "\n",
    "def custom_accessor(feature):\n",
    "    \"\"\"Return feature identifier.\"\"\"\n",
    "    return feature[\"id\"]\n",
    "\n",
    "with MosaicBackend(\n",
    "    \"stac+https://earth-search.aws.element84.com/v0/search\",\n",
    "    query,\n",
    "    minzoom=8,\n",
    "    maxzoom=15,\n",
    "    backend_options={\"accessor\": custom_accessor},\n",
    ") as mosaic:\n",
    "    print(mosaic.metadata)\n",
    "    mosaic_doc = mosaic.mosaic_def.dict(exclude_none=True)"
   ]
  },
  {
   "cell_type": "code",
   "execution_count": null,
   "metadata": {},
   "outputs": [],
   "source": [
    "mosaic_doc"
   ]
  },
  {
   "cell_type": "markdown",
   "metadata": {},
   "source": [
    "### 5.2 Custom Filter\n",
    "\n",
    "\n",
    "\n",
    "As we can see in the mosaicJSON, each `quadkey` index has 10s scenes. Because we want to build a visual mosaic, we don't need as many assets and maybe 1 or 2 scenes per quadkey will be enought to create mercator tiles. To reduce the number of scenes per quadkey we need to apply a custom filter while building the mosaic."
   ]
  },
  {
   "cell_type": "code",
   "execution_count": null,
   "metadata": {},
   "outputs": [],
   "source": [
    "from typing import Dict, List, Sequence, Optional\n",
    "from pygeos import polygons\n",
    "import mercantile\n",
    "\n",
    "\n",
    "def optimized_filter(\n",
    "    tile: mercantile.Tile,  # noqa\n",
    "    dataset: Sequence[Dict],\n",
    "    geoms: Sequence[polygons],\n",
    "    minimum_tile_cover=None,  # noqa\n",
    "    tile_cover_sort=False,  # noqa\n",
    "    maximum_items_per_tile: Optional[int] = None,\n",
    ") -> List:    \n",
    "    \"\"\"Optimized filter that keeps only one item per grid ID.\"\"\"\n",
    "    gridid: List[str] = []\n",
    "    selected_dataset: List[Dict] = []\n",
    "    \n",
    "    for item in dataset:\n",
    "        grid = item[\"id\"].split(\"_\")[1]\n",
    "        if grid not in gridid:\n",
    "            gridid.append(grid)\n",
    "            selected_dataset.append(item)\n",
    "\n",
    "    dataset = selected_dataset\n",
    "\n",
    "    indices = list(range(len(dataset)))\n",
    "    if maximum_items_per_tile:\n",
    "        indices = indices[:maximum_items_per_tile]\n",
    "\n",
    "    return [dataset[ind] for ind in indices]\n",
    "\n",
    "\n",
    "\n",
    "with MosaicBackend(\n",
    "    \"stac+https://earth-search.aws.element84.com/v0/search\",\n",
    "    query,\n",
    "    minzoom=8,\n",
    "    maxzoom=14,\n",
    "    backend_options={\"accessor\": custom_accessor, \"asset_filter\": optimized_filter},\n",
    ") as mosaic:\n",
    "    print(mosaic.metadata)\n",
    "    mosaic_doc = mosaic.mosaic_def.dict(exclude_none=True)"
   ]
  },
  {
   "cell_type": "code",
   "execution_count": null,
   "metadata": {
    "scrolled": true
   },
   "outputs": [],
   "source": [
    "mosaic_doc"
   ]
  },
  {
   "cell_type": "markdown",
   "metadata": {},
   "source": [
    "### 5.3 Save Mosaic"
   ]
  },
  {
   "cell_type": "code",
   "execution_count": null,
   "metadata": {},
   "outputs": [],
   "source": [
    "mosaic_file = \"mymosaic.json.gz\"\n",
    "with MosaicBackend(mosaic_file, mosaic_def=mosaic_doc) as mosaic:\n",
    "    mosaic.write(overwrite=True)"
   ]
  },
  {
   "cell_type": "code",
   "execution_count": null,
   "metadata": {},
   "outputs": [],
   "source": [
    "# We need to pass the absolute path to the tiler\n",
    "mosaic = str(pathlib.Path(mosaic_file).absolute())"
   ]
  },
  {
   "cell_type": "markdown",
   "metadata": {},
   "source": [
    "### 5.4 Use It"
   ]
  },
  {
   "cell_type": "code",
   "execution_count": null,
   "metadata": {},
   "outputs": [],
   "source": [
    "data = requests.get(f\"{titiler_endpoint}/mosaic/info?url=file:///{mosaic}\").json()\n",
    "print(data)"
   ]
  },
  {
   "cell_type": "code",
   "execution_count": null,
   "metadata": {},
   "outputs": [],
   "source": [
    "data = requests.get(f\"{titiler_endpoint}/mosaic/tilejson.json?url=file:///{mosaic}&bands=B01&rescale=0,1000\").json()\n",
    "\n",
    "bounds = data[\"bounds\"]\n",
    "m = Map(\n",
    "    location=((bounds[1] + bounds[3]) / 2,(bounds[0] + bounds[2]) / 2),\n",
    "    zoom_start=10\n",
    ")\n",
    "\n",
    "tiles = TileLayer(\n",
    "    tiles=data[\"tiles\"][0],\n",
    "    min_zoom=data[\"minzoom\"],\n",
    "    max_zoom=data[\"maxzoom\"],\n",
    "    opacity=1,\n",
    "    attr=\"Digital Earth Africa\"\n",
    ")\n",
    "tiles.add_to(m)\n",
    "m"
   ]
  },
  {
   "cell_type": "code",
   "execution_count": null,
   "metadata": {},
   "outputs": [],
   "source": []
  }
 ],
 "metadata": {
  "kernelspec": {
   "display_name": "Python 3",
   "language": "python",
   "name": "python3"
  },
  "language_info": {
   "codemirror_mode": {
    "name": "ipython",
    "version": 3
   },
   "file_extension": ".py",
   "mimetype": "text/x-python",
   "name": "python",
   "nbconvert_exporter": "python",
   "pygments_lexer": "ipython3",
   "version": "3.8.6"
  }
 },
 "nbformat": 4,
 "nbformat_minor": 2
}
