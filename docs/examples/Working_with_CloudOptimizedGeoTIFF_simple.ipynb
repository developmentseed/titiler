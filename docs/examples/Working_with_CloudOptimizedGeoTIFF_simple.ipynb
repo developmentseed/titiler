{
 "cells": [
  {
   "cell_type": "markdown",
   "metadata": {},
   "source": [
    "# Working With COG\n",
    "\n",
    "[![Binder](https://mybinder.org/badge_logo.svg)](https://mybinder.org/v2/gh/developmentseed/titiler/master?filepath=docs%2Fexamples%2FWorking_with_CloudOptimizedGeoTIFF_simple.ipynb)\n",
    "\n",
    "For this demo we will use the new `DigitalGlobe OpenData` dataset https://www.digitalglobe.com/ecosystem/open-data\n",
    "\n",
    "\n",
    "#### Requirements\n",
    "- ipyleaflet\n",
    "- requests\n",
    "\n",
    "`pip install ipyleaflet requests`"
   ]
  },
  {
   "cell_type": "code",
   "execution_count": 5,
   "metadata": {},
   "outputs": [
    {
     "name": "stdout",
     "output_type": "stream",
     "text": [
      "Populating the interactive namespace from numpy and matplotlib\n"
     ]
    }
   ],
   "source": [
    "import json\n",
    "\n",
    "import requests\n",
    "\n",
    "from ipyleaflet import Map, basemaps, TileLayer, basemap_to_tiles\n",
    "\n",
    "%pylab inline"
   ]
  },
  {
   "cell_type": "code",
   "execution_count": 2,
   "metadata": {},
   "outputs": [],
   "source": [
    "titiler_endpoint = \"https://api.cogeo.xyz/\"  # Devseed temporary endpoint\n",
    "url = \"https://opendata.digitalglobe.com/events/mauritius-oil-spill/post-event/2020-08-12/105001001F1B5B00/105001001F1B5B00.tif\""
   ]
  },
  {
   "cell_type": "markdown",
   "metadata": {},
   "source": [
    "## Get COG Info"
   ]
  },
  {
   "cell_type": "code",
   "execution_count": 20,
   "metadata": {},
   "outputs": [
    {
     "name": "stdout",
     "output_type": "stream",
     "text": [
      "{'bounds': [57.664053823239804, -20.55473177712791, 57.84021477996238, -20.25261582755764], 'band_metadata': [[1, {}], [2, {}], [3, {}]], 'band_descriptions': [[1, 'band1'], [2, 'band2'], [3, 'band3']], 'dtype': 'uint8', 'colorinterp': ['red', 'green', 'blue'], 'nodata_type': 'Mask'}\n"
     ]
    }
   ],
   "source": [
    "# Fetch File Metadata to get min/max rescaling values (because the file is stored as float32)\n",
    "r = requests.get(\n",
    "    f\"{titiler_endpoint}/cog/info\",\n",
    "    params = {\n",
    "        \"url\": url,\n",
    "    }\n",
    ").json()\n",
    "\n",
    "bounds = r[\"bounds\"]\n",
    "print(r)"
   ]
  },
  {
   "cell_type": "markdown",
   "metadata": {},
   "source": [
    "## Get COG Metadata"
   ]
  },
  {
   "cell_type": "code",
   "execution_count": 21,
   "metadata": {},
   "outputs": [
    {
     "name": "stdout",
     "output_type": "stream",
     "text": [
      "{\n",
      "    \"bounds\": [\n",
      "        57.664053823239804,\n",
      "        -20.55473177712791,\n",
      "        57.84021477996238,\n",
      "        -20.25261582755764\n",
      "    ],\n",
      "    \"band_metadata\": [\n",
      "        [\n",
      "            1,\n",
      "            {}\n",
      "        ],\n",
      "        [\n",
      "            2,\n",
      "            {}\n",
      "        ],\n",
      "        [\n",
      "            3,\n",
      "            {}\n",
      "        ]\n",
      "    ],\n",
      "    \"band_descriptions\": [\n",
      "        [\n",
      "            1,\n",
      "            \"band1\"\n",
      "        ],\n",
      "        [\n",
      "            2,\n",
      "            \"band2\"\n",
      "        ],\n",
      "        [\n",
      "            3,\n",
      "            \"band3\"\n",
      "        ]\n",
      "    ],\n",
      "    \"dtype\": \"uint8\",\n",
      "    \"colorinterp\": [\n",
      "        \"red\",\n",
      "        \"green\",\n",
      "        \"blue\"\n",
      "    ],\n",
      "    \"nodata_type\": \"Mask\",\n",
      "    \"statistics\": {\n",
      "        \"1\": {\n",
      "            \"pc\": [\n",
      "                0.0,\n",
      "                171.0\n",
      "            ],\n",
      "            \"min\": 0.0,\n",
      "            \"max\": 255.0,\n",
      "            \"std\": 48.282133573955264,\n",
      "            \"histogram\": [\n",
      "                [\n",
      "                    330584.0,\n",
      "                    54820.0,\n",
      "                    67683.0,\n",
      "                    57434.0,\n",
      "                    30305.0,\n",
      "                    14648.0,\n",
      "                    9606.0,\n",
      "                    5653.0,\n",
      "                    2296.0,\n",
      "                    1051.0\n",
      "                ],\n",
      "                [\n",
      "                    0.0,\n",
      "                    25.5,\n",
      "                    51.0,\n",
      "                    76.5,\n",
      "                    102.0,\n",
      "                    127.5,\n",
      "                    153.0,\n",
      "                    178.5,\n",
      "                    204.0,\n",
      "                    229.5,\n",
      "                    255.0\n",
      "                ]\n",
      "            ]\n",
      "        },\n",
      "        \"2\": {\n",
      "            \"pc\": [\n",
      "                5.0,\n",
      "                180.0\n",
      "            ],\n",
      "            \"min\": 0.0,\n",
      "            \"max\": 255.0,\n",
      "            \"std\": 56.300819175100656,\n",
      "            \"histogram\": [\n",
      "                [\n",
      "                    271018.0,\n",
      "                    34938.0,\n",
      "                    54030.0,\n",
      "                    69429.0,\n",
      "                    70260.0,\n",
      "                    32107.0,\n",
      "                    29375.0,\n",
      "                    9697.0,\n",
      "                    2001.0,\n",
      "                    1225.0\n",
      "                ],\n",
      "                [\n",
      "                    0.0,\n",
      "                    25.5,\n",
      "                    51.0,\n",
      "                    76.5,\n",
      "                    102.0,\n",
      "                    127.5,\n",
      "                    153.0,\n",
      "                    178.5,\n",
      "                    204.0,\n",
      "                    229.5,\n",
      "                    255.0\n",
      "                ]\n",
      "            ]\n",
      "        },\n",
      "        \"3\": {\n",
      "            \"pc\": [\n",
      "                14.0,\n",
      "                158.0\n",
      "            ],\n",
      "            \"min\": 0.0,\n",
      "            \"max\": 255.0,\n",
      "            \"std\": 39.65505035854822,\n",
      "            \"histogram\": [\n",
      "                [\n",
      "                    203263.0,\n",
      "                    150865.0,\n",
      "                    104882.0,\n",
      "                    42645.0,\n",
      "                    30652.0,\n",
      "                    25382.0,\n",
      "                    12434.0,\n",
      "                    2397.0,\n",
      "                    1097.0,\n",
      "                    463.0\n",
      "                ],\n",
      "                [\n",
      "                    0.0,\n",
      "                    25.5,\n",
      "                    51.0,\n",
      "                    76.5,\n",
      "                    102.0,\n",
      "                    127.5,\n",
      "                    153.0,\n",
      "                    178.5,\n",
      "                    204.0,\n",
      "                    229.5,\n",
      "                    255.0\n",
      "                ]\n",
      "            ]\n",
      "        }\n",
      "    }\n",
      "}\n"
     ]
    }
   ],
   "source": [
    "# Fetch File Metadata to get min/max rescaling values (because the file is stored as float32)\n",
    "r = requests.get(\n",
    "    f\"{titiler_endpoint}/cog/metadata\",\n",
    "    params = {\n",
    "        \"url\": url,\n",
    "    }\n",
    ").json()\n",
    "\n",
    "print(json.dumps(r, indent=4))"
   ]
  },
  {
   "cell_type": "markdown",
   "metadata": {},
   "source": [
    "### Display Tiles"
   ]
  },
  {
   "cell_type": "code",
   "execution_count": 24,
   "metadata": {},
   "outputs": [
    {
     "data": {
      "application/vnd.jupyter.widget-view+json": {
       "model_id": "7527b7b58d504b56838ec6f0a8252cc9",
       "version_major": 2,
       "version_minor": 0
      },
      "text/plain": [
       "Map(center=[-20.403673802342773, 57.75213430160109], controls=(ZoomControl(options=['position', 'zoom_in_text'…"
      ]
     },
     "metadata": {},
     "output_type": "display_data"
    }
   ],
   "source": [
    "r = requests.get(\n",
    "    f\"{titiler_endpoint}/cog/tilejson.json\",\n",
    "    params = {\n",
    "        \"url\": url,\n",
    "    }\n",
    ").json()\n",
    "\n",
    "m = Map(\n",
    "    center=((bounds[1] + bounds[3]) / 2,(bounds[0] + bounds[2]) / 2),\n",
    "    zoom=13\n",
    ")\n",
    "\n",
    "aod_layer = TileLayer(\n",
    "    url=r[\"tiles\"][0],\n",
    "    opacity=1\n",
    ")\n",
    "m.add_layer(aod_layer)\n",
    "m"
   ]
  },
  {
   "cell_type": "code",
   "execution_count": null,
   "metadata": {},
   "outputs": [],
   "source": []
  }
 ],
 "metadata": {
  "kernelspec": {
   "display_name": "Python 3",
   "language": "python",
   "name": "python3"
  },
  "language_info": {
   "codemirror_mode": {
    "name": "ipython",
    "version": 3
   },
   "file_extension": ".py",
   "mimetype": "text/x-python",
   "name": "python",
   "nbconvert_exporter": "python",
   "pygments_lexer": "ipython3",
   "version": "3.7.7"
  }
 },
 "nbformat": 4,
 "nbformat_minor": 4
}
