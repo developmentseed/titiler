{
 "cells": [
  {
   "cell_type": "markdown",
   "metadata": {},
   "source": [
    "# Working With MosaicJSON\n",
    "\n",
    "[![Binder](https://mybinder.org/badge_logo.svg)](https://mybinder.org/v2/gh/developmentseed/titiler/master?filepath=docs%2Fexamples%2FWorking_with_MosaicJSON.ipynb)\n",
    "\n",
    "### MosaicJSON\n",
    "\n",
    "MosaicJSON is a specification created by DevelopmentSeed which aims to be an open standard for representing metadata about a mosaic of Cloud-Optimized GeoTIFF (COG) files.\n",
    "\n",
    "\n",
    "> MosaicJSON can be seen as a Virtual raster (see GDAL's VRT) enabling spatial and temporal processing for a list of Cloud-Optimized GeoTIFF.\n",
    "\n",
    "Ref:https://github.com/developmentseed/mosaicjson-spec\n",
    "\n",
    "\n",
    "### Data\n",
    "\n",
    "For this demo, we are going to use CloudOptimized GeoTIFF from Digitalglobe opendata: https://www.digitalglobe.com/ecosystem/open-data\n",
    "\n",
    "\n",
    "### Endpoint\n",
    "\n",
    "By default, TiTiler has a complete `mosaicjson` endpoint. For this demo we are going to use a slightly modifed version hosted by developmentseed at `https://api.cogeo.xyz`\n",
    "\n",
    "Docs: https://api.cogeo.xyz/docs#/MosaicJSON"
   ]
  },
  {
   "cell_type": "markdown",
   "metadata": {},
   "source": [
    "\n",
    "## Requirements\n",
    "\n",
    "To be able to run this notebook you'll need the following requirements:\n",
    "- rasterio\n",
    "- folium\n",
    "- requests\n",
    "- tqdm\n",
    "- BeautifullSoup (webpage parsing) \n",
    "- rio-tiler (2.0b8) (Optional)\n",
    "- cogeo-mosaic (Optional)\n",
    "\n",
    "`pip install rasterio folium requests tqdm bs4 requests`\n",
    "`pip install rio-tiler cogeo-mosaic --pre`"
   ]
  },
  {
   "cell_type": "code",
   "execution_count": null,
   "metadata": {},
   "outputs": [],
   "source": [
    "# Uncomment this line if you need to install the dependencies\n",
    "#!pip install rasterio folium requests tqdm bs4 requests rio-tiler`\n",
    "#!pip install cogeo-mosaic --pre"
   ]
  },
  {
   "cell_type": "markdown",
   "metadata": {},
   "source": [
    "## Get the Data"
   ]
  },
  {
   "cell_type": "code",
   "execution_count": null,
   "metadata": {},
   "outputs": [],
   "source": [
    "import os\n",
    "import json\n",
    "import rasterio\n",
    "import requests\n",
    "import bs4 as BeautifulSoup\n",
    "\n",
    "from concurrent import futures\n",
    "from rio_tiler.io import COGReader\n",
    "from rasterio.features import bounds as featureBounds\n",
    "\n",
    "import bs4 as BeautifulSoup\n",
    "\n",
    "from folium import Map, TileLayer, GeoJson"
   ]
  },
  {
   "cell_type": "markdown",
   "metadata": {},
   "source": [
    "### 1. Fetch and parse page"
   ]
  },
  {
   "cell_type": "code",
   "execution_count": null,
   "metadata": {},
   "outputs": [],
   "source": [
    "url = \"https://www.digitalglobe.com/ecosystem/open-data/california-colorado-fires\"\n",
    "\n",
    "# Read Page\n",
    "r = requests.get(url)\n",
    "soup = BeautifulSoup.BeautifulSoup(r.text)\n",
    "s = soup.findAll('textarea')[0]"
   ]
  },
  {
   "cell_type": "markdown",
   "metadata": {},
   "source": [
    "### 2. Find GeoTIFF Urls"
   ]
  },
  {
   "cell_type": "code",
   "execution_count": null,
   "metadata": {
    "tags": []
   },
   "outputs": [],
   "source": [
    "list_file = [line.lstrip() for line in s.contents[0].splitlines() if line.endswith(\".tif\")]\n",
    "\n",
    "files = [\n",
    "    dict(\n",
    "        date=l.split(\"/\")[6],\n",
    "        tags=[l.split(\"/\")[5]],\n",
    "        path=l,\n",
    "        sceneid=l.split(\"/\")[7],\n",
    "        preview=f\"https://api.discover.digitalglobe.com/show?id={l.split('/')[7]}&f=jpeg\",\n",
    "        event=l.split(\"/\")[4],\n",
    "    )\n",
    "    for l in list_file\n",
    "]\n",
    "\n",
    "files = sorted(files, key=lambda x:x[\"date\"])\n",
    "\n",
    "print(f\"Number of GeoTIFF: {len(list_file)}\")"
   ]
  },
  {
   "cell_type": "markdown",
   "metadata": {},
   "source": [
    "### 3. Pre/Post event"
   ]
  },
  {
   "cell_type": "code",
   "execution_count": null,
   "metadata": {
    "tags": []
   },
   "outputs": [],
   "source": [
    "pre_event = list(filter(lambda x: x[\"tags\"] == [\"pre-event\"], files))\n",
    "post_event = list(filter(lambda x: x[\"tags\"] == [\"post-event\"], files))\n",
    "\n",
    "print(f\"Number of Pre Event COG: {len(pre_event)}\")\n",
    "print(f\"Number of Post Event COG: {len(post_event)}\")"
   ]
  },
  {
   "cell_type": "markdown",
   "metadata": {},
   "source": [
    "### 4. Create Features and Viz (Optional)\n",
    "\n",
    "Read each file geo metadata"
   ]
  },
  {
   "cell_type": "code",
   "execution_count": null,
   "metadata": {},
   "outputs": [],
   "source": [
    "def worker(meta):\n",
    "    try:\n",
    "        with COGReader(meta[\"path\"]) as cog:\n",
    "            wgs_bounds = cog.bounds\n",
    "    except:\n",
    "        return {}\n",
    "\n",
    "    return {\n",
    "        \"geometry\": {\n",
    "            \"type\": \"Polygon\",\n",
    "            \"coordinates\": [\n",
    "                [\n",
    "                    [wgs_bounds[0], wgs_bounds[3]],\n",
    "                    [wgs_bounds[0], wgs_bounds[1]],\n",
    "                    [wgs_bounds[2], wgs_bounds[1]],\n",
    "                    [wgs_bounds[2], wgs_bounds[3]],\n",
    "                    [wgs_bounds[0], wgs_bounds[3]]\n",
    "                ]\n",
    "            ]\n",
    "        },\n",
    "        \"properties\": meta,\n",
    "        \"type\": \"Feature\"\n",
    "    }\n",
    "\n",
    "\n",
    "    \n",
    "with futures.ThreadPoolExecutor(max_workers=5) as executor:\n",
    "    features = [r for r in executor.map(worker, post_event) if r]"
   ]
  },
  {
   "cell_type": "code",
   "execution_count": null,
   "metadata": {},
   "outputs": [],
   "source": [
    "geojson = {'type': 'FeatureCollection', 'features': features}\n",
    "\n",
    "bounds = featureBounds(geojson)\n",
    "\n",
    "m = Map(\n",
    "    tiles=\"OpenStreetMap\",\n",
    "    location=((bounds[1] + bounds[3]) / 2,(bounds[0] + bounds[2]) / 2),\n",
    "    zoom_start=6\n",
    ")\n",
    "\n",
    "geo_json = GeoJson(\n",
    "    data=geojson,\n",
    "    style_function=lambda x: {\n",
    "        'opacity': 1, 'dashArray': '1', 'fillOpacity': 0, 'weight': 1\n",
    "    },\n",
    ")\n",
    "geo_json.add_to(m)\n",
    "m"
   ]
  },
  {
   "cell_type": "markdown",
   "metadata": {},
   "source": [
    "### 5. Create Mosaic"
   ]
  },
  {
   "cell_type": "code",
   "execution_count": null,
   "metadata": {},
   "outputs": [],
   "source": [
    "titiler_endpoint = \"https://api.cogeo.xyz\"  # Devseed temporary endpoint\n",
    "\n",
    "# !!! Update this !!!  \n",
    "username = \"anonymous\"\n",
    "\n",
    "layername = \"dgopendata_CAfire_2020_post\"  # WARNING, you can overwrite Mosaics"
   ]
  },
  {
   "cell_type": "markdown",
   "metadata": {},
   "source": [
    "###### 5.1. Create Token\n",
    "\n",
    "Note: Right now everyone can create a token to upload or create a mosaic in DevSeed infrastructure\n",
    "\n",
    "Docs: https://api.cogeo.xyz/docs#/Token/create_token_tokens_create_post"
   ]
  },
  {
   "cell_type": "code",
   "execution_count": null,
   "metadata": {
    "scrolled": true,
    "tags": []
   },
   "outputs": [],
   "source": [
    "r = requests.post(\n",
    "    f\"{titiler_endpoint}/tokens/create\",\n",
    "    json={\n",
    "        \"username\": username,\n",
    "        \"scope\": [\"mosaic:read\", \"mosaic:create\"]\n",
    "    }\n",
    ").json()\n",
    "token = r[\"token\"]\n",
    "print(token)"
   ]
  },
  {
   "cell_type": "markdown",
   "metadata": {},
   "source": [
    "###### 5.2. Create Mosaic\n",
    "\n",
    "Docs: https://api.cogeo.xyz/docs#/MosaicJSON/create_mosaic_mosaicjson_create_post"
   ]
  },
  {
   "cell_type": "code",
   "execution_count": null,
   "metadata": {},
   "outputs": [],
   "source": [
    "responses\n",
    "from rio_tiler.io import COGReader\n",
    "with COGReader(post_event[0][\"path\"]) as cog:\n",
    "    info = cog.info()\n",
    "    print(info.minzoom)\n",
    "    print(info.maxzoom)"
   ]
  },
  {
   "cell_type": "code",
   "execution_count": null,
   "metadata": {},
   "outputs": [],
   "source": [
    "from cogeo_mosaic.mosaic import MosaicJSON\n",
    "\n",
    "# We are creating the mosaicJSON using the features we created earlier\n",
    "# by default MosaicJSON.from_feature will look in feature.properties.path to get the path of the dataset\n",
    "mosaicdata = MosaicJSON.from_features(features, minzoom=10, maxzoom=18)\n",
    "\n",
    "r = requests.post(\n",
    "    f\"{titiler_endpoint}/mosaicjson/upload\",\n",
    "    json={\n",
    "        \"username\": username,\n",
    "        \"layername\": layername,\n",
    "        \"mosaic\": mosaicdata.dict(exclude_none=True)\n",
    "    },\n",
    "    params={\n",
    "        \"access_token\": token,\n",
    "    }\n",
    ").json()\n",
    "\n",
    "print(r)"
   ]
  },
  {
   "cell_type": "markdown",
   "metadata": {},
   "source": [
    "###### 5.3. Display Tiles\n",
    "\n",
    "Docs: https://api.cogeo.xyz/docs#/MosaicJSON/tilejson_mosaicjson__layer__tilejson_json_get"
   ]
  },
  {
   "cell_type": "code",
   "execution_count": null,
   "metadata": {
    "tags": []
   },
   "outputs": [],
   "source": [
    "r = requests.get(\n",
    "    f\"{titiler_endpoint}/mosaicjson/{username}.{layername}/tilejson.json\",\n",
    ").json()\n",
    "print(r)\n",
    "\n",
    "m = Map(\n",
    "    location=((bounds[1] + bounds[3]) / 2,(bounds[0] + bounds[2]) / 2),\n",
    "    zoom_start=10\n",
    ")\n",
    "\n",
    "tiles = TileLayer(\n",
    "    tiles=r[\"tiles\"][0],\n",
    "    min_zoom=r[\"minzoom\"],\n",
    "    max_zoom=r[\"maxzoom\"],\n",
    "    opacity=1,\n",
    "    attr=\"DigitalGlobe OpenData\"\n",
    ")\n",
    "\n",
    "geo_json = GeoJson(\n",
    "    data=geojson,\n",
    "    style_function=lambda x: {\n",
    "        'opacity': 1, 'dashArray': '1', 'fillOpacity': 0, 'weight': 1\n",
    "    },\n",
    ")\n",
    "tiles.add_to(m)\n",
    "geo_json.add_to(m)\n",
    "m"
   ]
  },
  {
   "cell_type": "code",
   "execution_count": null,
   "metadata": {},
   "outputs": [],
   "source": []
  }
 ],
 "metadata": {
  "kernelspec": {
   "display_name": "Python 3",
   "language": "python",
   "name": "python3"
  },
  "language_info": {
   "codemirror_mode": {
    "name": "ipython",
    "version": 3
   },
   "file_extension": ".py",
   "mimetype": "text/x-python",
   "name": "python",
   "nbconvert_exporter": "python",
   "pygments_lexer": "ipython3",
   "version": "3.8.6"
  }
 },
 "nbformat": 4,
 "nbformat_minor": 4
}
