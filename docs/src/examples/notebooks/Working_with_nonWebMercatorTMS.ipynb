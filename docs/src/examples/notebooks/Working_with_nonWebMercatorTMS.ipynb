{
 "cells": [
  {
   "cell_type": "markdown",
   "metadata": {},
   "source": [
    "# Working With TileMatrixSets (other than WebMercator)\n",
    "\n",
    "\n",
    "[![Binder](https://mybinder.org/badge_logo.svg)](https://mybinder.org/v2/gh/developmentseed/titiler/master?filepath=docs%2Fexamples%2F%2Fnotebooks%2FWorking_with_nonWebMercatorTMS.ipynb)\n",
    "\n",
    "TiTiler has builtin support for serving tiles in multiple Projections by using [rio-tiler](https://github.com/cogeotiff/rio-tiler) and [morecantile](https://github.com/developmentseed/morecantile)."
   ]
  },
  {
   "cell_type": "markdown",
   "metadata": {},
   "source": [
    "This Notebook shows how to use and display tiles with non-webmercator TileMatrixSet\n",
    "\n",
    "#### Requirements\n",
    "- ipyleaflet\n",
    "- httpx"
   ]
  },
  {
   "cell_type": "code",
   "execution_count": null,
   "metadata": {},
   "outputs": [],
   "source": [
    "# Uncomment if you need to install those module within the notebook\n",
    "# !pip install ipyleaflet httpx"
   ]
  },
  {
   "cell_type": "code",
   "execution_count": 3,
   "metadata": {},
   "outputs": [],
   "source": [
    "import json\n",
    "\n",
    "import httpx\n",
    "\n",
    "from ipyleaflet import (\n",
    "    Map,\n",
    "    basemaps,\n",
    "    basemap_to_tiles,\n",
    "    TileLayer,\n",
    "    WMSLayer,\n",
    "    GeoJSON,\n",
    "    projections\n",
    ")"
   ]
  },
  {
   "cell_type": "code",
   "execution_count": 4,
   "metadata": {},
   "outputs": [],
   "source": [
    "titiler_endpoint = \"http://127.0.0.1:8081\" # \"https://titiler.xyz\"  # Developmentseed Demo endpoint. Please be kind.\n",
    "url = \"https://s3.amazonaws.com/opendata.remotepixel.ca/cogs/natural_earth/world.tif\" # Natural Earth WORLD tif"
   ]
  },
  {
   "cell_type": "markdown",
   "metadata": {},
   "source": [
    "### List Supported TileMatrixSets"
   ]
  },
  {
   "cell_type": "code",
   "execution_count": 5,
   "metadata": {
    "scrolled": false
   },
   "outputs": [
    {
     "name": "stdout",
     "output_type": "stream",
     "text": [
      "Supported TMS:\n",
      "- LINZAntarticaMapTilegrid\n",
      "- EuropeanETRS89_LAEAQuad\n",
      "- CanadianNAD83_LCC\n",
      "- UPSArcticWGS84Quad\n",
      "- NZTM2000\n",
      "- NZTM2000Quad\n",
      "- UTM31WGS84Quad\n",
      "- UPSAntarcticWGS84Quad\n",
      "- WorldMercatorWGS84Quad\n",
      "- WGS1984Quad\n",
      "- WorldCRS84Quad\n",
      "- WebMercatorQuad\n"
     ]
    }
   ],
   "source": [
    "r = httpx.get(f\"{titiler_endpoint}/tileMatrixSets\").json()\n",
    "\n",
    "print(\"Supported TMS:\")\n",
    "for tms in r[\"tileMatrixSets\"]:\n",
    "    print(\"-\", tms[\"id\"])"
   ]
  },
  {
   "attachments": {},
   "cell_type": "markdown",
   "metadata": {},
   "source": [
    "## WebMercator - EPSG:3857\n",
    "\n",
    "https://epsg.io/3857"
   ]
  },
  {
   "cell_type": "code",
   "execution_count": 9,
   "metadata": {},
   "outputs": [
    {
     "data": {
      "application/vnd.jupyter.widget-view+json": {
       "model_id": "7d78a0adf5954e65b3f46db3cf943f7a",
       "version_major": 2,
       "version_minor": 0
      },
      "text/plain": [
       "Map(center=[0, 0], controls=(ZoomControl(options=['position', 'zoom_in_text', 'zoom_in_title', 'zoom_out_text'…"
      ]
     },
     "execution_count": 9,
     "metadata": {},
     "output_type": "execute_result"
    }
   ],
   "source": [
    "r = httpx.get(\n",
    "    f\"{titiler_endpoint}/cog/tilejson.json\", params = {\"url\": url}\n",
    ").json()\n",
    "\n",
    "m = Map(center=(0, 0), zoom=2, basemap={}, crs=projections.EPSG3857)\n",
    "\n",
    "layer = TileLayer(url=r[\"tiles\"][0], opacity=1)\n",
    "m.add_layer(layer)\n",
    "m"
   ]
  },
  {
   "cell_type": "markdown",
   "metadata": {},
   "source": [
    "## WGS 84 -- WGS84 - World Geodetic System 1984 - EPSG:4326\n",
    "\n",
    "https://epsg.io/4326"
   ]
  },
  {
   "cell_type": "code",
   "execution_count": 11,
   "metadata": {},
   "outputs": [
    {
     "data": {
      "application/vnd.jupyter.widget-view+json": {
       "model_id": "8c5d6ab05bce4aef9e29ff7ebd0ac02f",
       "version_major": 2,
       "version_minor": 0
      },
      "text/plain": [
       "Map(center=[0, 0], controls=(ZoomControl(options=['position', 'zoom_in_text', 'zoom_in_title', 'zoom_out_text'…"
      ]
     },
     "execution_count": 11,
     "metadata": {},
     "output_type": "execute_result"
    }
   ],
   "source": [
    "r = httpx.get(\n",
    "    f\"{titiler_endpoint}/cog/WorldCRS84Quad/tilejson.json\", params = {\"url\": url}\n",
    ").json()\n",
    "\n",
    "m = Map(center=(0, 0), zoom=1, basemap={}, crs=projections.EPSG4326)\n",
    "\n",
    "layer = TileLayer(url=r[\"tiles\"][0], opacity=1)\n",
    "m.add_layer(layer)\n",
    "m"
   ]
  },
  {
   "cell_type": "markdown",
   "metadata": {},
   "source": [
    "## ETRS89-extended / LAEA Europe - EPSG:3035\n",
    "\n",
    "https://epsg.io/3035"
   ]
  },
  {
   "cell_type": "code",
   "execution_count": 14,
   "metadata": {},
   "outputs": [
    {
     "data": {
      "application/vnd.jupyter.widget-view+json": {
       "model_id": "0615b0bb04ad46198d05f6eb95ed8e6b",
       "version_major": 2,
       "version_minor": 0
      },
      "text/plain": [
       "Map(center=[50, 65], controls=(ZoomControl(options=['position', 'zoom_in_text', 'zoom_in_title', 'zoom_out_tex…"
      ]
     },
     "execution_count": 14,
     "metadata": {},
     "output_type": "execute_result"
    }
   ],
   "source": [
    "r = httpx.get(\n",
    "    f\"{titiler_endpoint}/cog/EuropeanETRS89_LAEAQuad/tilejson.json\", params = {\"url\": url}\n",
    ").json()\n",
    "\n",
    "my_projection = {\n",
    "    'name': 'EPSG:3035',\n",
    "    'custom': True, #This is important, it tells ipyleaflet that this projection is not on the predefined ones.\n",
    "    'proj4def': '+proj=laea +lat_0=52 +lon_0=10 +x_0=4321000 +y_0=3210000 +ellps=GRS80 +towgs84=0,0,0,0,0,0,0 +units=m +no_defs',\n",
    "    'origin': [6500000.0, 5500000.0],\n",
    "    'resolutions': [\n",
    "        8192.0,\n",
    "        4096.0,\n",
    "        2048.0,\n",
    "        1024.0,\n",
    "        512.0,\n",
    "        256.0\n",
    "    ]\n",
    "}\n",
    "\n",
    "m = Map(center=(50, 65), zoom=0, basemap={}, crs=my_projection)\n",
    "\n",
    "layer = TileLayer(url=r[\"tiles\"][0], opacity=1)\n",
    "m.add_layer(layer)\n",
    "m"
   ]
  },
  {
   "cell_type": "code",
   "execution_count": null,
   "metadata": {},
   "outputs": [],
   "source": []
  }
 ],
 "metadata": {
  "kernelspec": {
   "display_name": "py39",
   "language": "python",
   "name": "python3"
  },
  "language_info": {
   "codemirror_mode": {
    "name": "ipython",
    "version": 3
   },
   "file_extension": ".py",
   "mimetype": "text/x-python",
   "name": "python",
   "nbconvert_exporter": "python",
   "pygments_lexer": "ipython3",
   "version": "3.9.13"
  },
  "vscode": {
   "interpreter": {
    "hash": "2590a9e34ee6c8bdce5141410f2a072bbabd2a859a8a48acdaa85720923a90ef"
   }
  }
 },
 "nbformat": 4,
 "nbformat_minor": 4
}
