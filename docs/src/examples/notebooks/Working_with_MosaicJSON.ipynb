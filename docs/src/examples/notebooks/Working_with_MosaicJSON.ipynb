{
 "cells": [
  {
   "cell_type": "markdown",
   "metadata": {},
   "source": [
    "# Working With MosaicJSON\n",
    "\n",
    "[![Binder](https://mybinder.org/badge_logo.svg)](https://mybinder.org/v2/gh/developmentseed/titiler/main?filepath=docs%2Fexamples%2F%2Fnotebooks%2FWorking_with_MosaicJSON.ipynb)\n",
    "\n",
    "### MosaicJSON\n",
    "\n",
    "MosaicJSON is a specification created by DevelopmentSeed which aims to be an open standard for representing metadata about a mosaic of Cloud-Optimized GeoTIFF (COG) files.\n",
    "\n",
    "\n",
    "> MosaicJSON can be seen as a Virtual raster (see GDAL's VRT) enabling spatial and temporal processing for a list of Cloud-Optimized GeoTIFF.\n",
    "\n",
    "Ref:https://github.com/developmentseed/mosaicjson-spec\n",
    "\n",
    "\n",
    "### Data\n",
    "\n",
    "For this demo, we are going to use CloudOptimized GeoTIFF from NOAA/Emergency Response Imagery: https://registry.opendata.aws/noaa-eri/\n",
    "\n",
    "Requirement: AWS credentials\n",
    "\n",
    "\n",
    "### Endpoint\n",
    "\n",
    "By default, TiTiler has `mosaicjson` endpoints.\n",
    "\n",
    "Docs: https://titiler.xyz/api.html#/MosaicJSON"
   ]
  },
  {
   "cell_type": "markdown",
   "metadata": {},
   "source": [
    "\n",
    "## Requirements\n",
    "\n",
    "To be able to run this notebook you'll need the following requirements:\n",
    "- rasterio\n",
    "- folium\n",
    "- httpx\n",
    "- tqdm\n",
    "- rio-tiler\n",
    "- cogeo-mosaic\n",
    "- boto3\n",
    "- geojson_pydantic\n",
    "\n",
    "`pip install rasterio folium tqdm httpx rio-tiler geojson_pydantic cogeo-mosaic`"
   ]
  },
  {
   "cell_type": "code",
   "execution_count": null,
   "metadata": {},
   "outputs": [],
   "source": [
    "# Uncomment this line if you need to install the dependencies\n",
    "#!pip install rasterio folium tqdm httpx rio-tiler geojson_pydantic cogeo-mosaic"
   ]
  },
  {
   "cell_type": "markdown",
   "metadata": {},
   "source": [
    "## Get the Data"
   ]
  },
  {
   "cell_type": "code",
   "execution_count": null,
   "metadata": {},
   "outputs": [],
   "source": [
    "import os\n",
    "import json\n",
    "import rasterio\n",
    "import httpx\n",
    "from boto3.session import Session as boto3_session\n",
    "\n",
    "from concurrent import futures\n",
    "from rio_tiler.io import COGReader\n",
    "from rasterio.features import bounds as featureBounds\n",
    "\n",
    "from folium import Map, TileLayer, GeoJson"
   ]
  },
  {
   "cell_type": "markdown",
   "metadata": {},
   "source": [
    "### 1. Fetch and parse page"
   ]
  },
  {
   "cell_type": "code",
   "execution_count": null,
   "metadata": {},
   "outputs": [],
   "source": [
    "# To Be able to run this notebook you'll need to have AWS credential available in the environment\n",
    "\n",
    "# import os\n",
    "# os.environ[\"AWS_ACCESS_KEY_ID\"] = \"YOUR AWS ACCESS ID HERE\"\n",
    "# os.environ[\"AWS_SECRET_ACCESS_KEY\"] = \"YOUR AWS ACCESS KEY HERE\""
   ]
  },
  {
   "cell_type": "code",
   "execution_count": null,
   "metadata": {},
   "outputs": [],
   "source": [
    "session = boto3_session(region_name=\"us-west-2\")\n",
    "client = session.client(\"s3\")\n",
    "\n",
    "bucket = \"noaa-eri-pds\"  #https://registry.opendata.aws/omi-no2-nasa/\n",
    "\n",
    "\n",
    "def list_objects(bucket, prefix):\n",
    "    \"\"\"AWS s3 list objects.\"\"\"\n",
    "\n",
    "    paginator = client.get_paginator('list_objects_v2')\n",
    "\n",
    "    files = []\n",
    "    for subset in paginator.paginate(Bucket=bucket, Prefix=prefix):\n",
    "        files.extend(subset.get(\"Contents\", []))\n",
    "\n",
    "    return [r[\"Key\"] for r in files]\n",
    "\n",
    "files = list_objects(bucket, \"2020_Nashville_Tornado/20200307a_RGB\")\n",
    "files = [f\"s3://{bucket}/{f}\" for f in files if f.endswith(\".tif\")]\n",
    "\n",
    "print(f\"Number of GeoTIFF: {len(files)}\")"
   ]
  },
  {
   "cell_type": "code",
   "execution_count": null,
   "metadata": {},
   "outputs": [],
   "source": [
    "print(files)"
   ]
  },
  {
   "cell_type": "markdown",
   "metadata": {},
   "source": [
    "### 2. Create Features and Viz (Optional)\n",
    "\n",
    "Read each file geo metadata"
   ]
  },
  {
   "cell_type": "code",
   "execution_count": null,
   "metadata": {},
   "outputs": [],
   "source": [
    "# We can derive the `bbox` from the filename\n",
    "# s3://noaa-eri-pds/2020_Nashville_Tornado/20200307a_RGB/20200307aC0870130w361200n.tif \n",
    "# -> 20200307aC0870130w361200n.tif \n",
    "# -> 20200307aC \"0870130w\" \"361200n\" .tif\n",
    "# -> 0870130w -> 87.025 (West)\n",
    "# -> 361200n -> 36.2 (Top)\n",
    "# We also know each files cover ~0.025x~0.025 degrees\n",
    "\n",
    "import re\n",
    "from geojson_pydantic.features import Feature\n",
    "from geojson_pydantic.geometries import Polygon\n",
    "\n",
    "def dms_to_degree(v: str) -> float:\n",
    "    \"\"\"convert degree minute second to decimal degrees.\n",
    "    \n",
    "    '0870130w' -> 87.025\n",
    "    \"\"\"\n",
    "    deg = int(v[0:3])\n",
    "    minutes = int(v[3:5])\n",
    "    seconds = int(v[5:7])\n",
    "    direction = v[-1].upper()\n",
    "    return (float(deg) + float(minutes)/60 + float(seconds)/(60*60)) * (-1 if direction in ['W', 'S'] else 1)\n",
    "\n",
    "def fname_to_feature(src_path: str) -> Feature:\n",
    "    bname = os.path.basename(src_path)\n",
    "    lon_dms = bname[10:18]\n",
    "    lat_dms = bname[18:25]\n",
    "\n",
    "    lon = dms_to_degree(lon_dms)\n",
    "    lat = dms_to_degree(\"0\" + lat_dms)\n",
    "\n",
    "    return Feature(\n",
    "        geometry=Polygon.from_bounds(\n",
    "            lon, lat - 0.025, lon + 0.025, lat \n",
    "        ),\n",
    "        properties={\n",
    "            \"path\": src_path,\n",
    "        }\n",
    "    )\n",
    "features = [\n",
    "   fname_to_feature(f).dict(exclude_none=True) for f in files\n",
    "]\n",
    "\n",
    "# OR We could use Rasterio/rio-tiler\n",
    "\n",
    "# def worker(src_path: str) -> Feature:\n",
    "#     try:\n",
    "#         with COGReader(src_path) as cog:\n",
    "#             wgs_bounds = cog.geographic_bounds\n",
    "#     except:\n",
    "#         return {}\n",
    "#\n",
    "#     return Feature(\n",
    "#         geometry=Polygon.from_bounds(*wgs_bounds),\n",
    "#         properties={\n",
    "#             \"path\": src_path,\n",
    "#         }\n",
    "#     )\n",
    "#\n",
    "# with futures.ThreadPoolExecutor(max_workers=20) as executor:\n",
    "#     features = [r.dict(exclude_none=True) for r in executor.map(worker, files) if r]"
   ]
  },
  {
   "cell_type": "code",
   "execution_count": null,
   "metadata": {},
   "outputs": [],
   "source": [
    "geojson = {'type': 'FeatureCollection', 'features': features}\n",
    "\n",
    "bounds = featureBounds(geojson)\n",
    "\n",
    "m = Map(\n",
    "    tiles=\"OpenStreetMap\",\n",
    "    location=((bounds[1] + bounds[3]) / 2,(bounds[0] + bounds[2]) / 2),\n",
    "    zoom_start=6\n",
    ")\n",
    "\n",
    "geo_json = GeoJson(\n",
    "    data=geojson,\n",
    "    style_function=lambda x: {\n",
    "        'opacity': 1, 'dashArray': '1', 'fillOpacity': 0, 'weight': 1\n",
    "    },\n",
    ")\n",
    "geo_json.add_to(m)\n",
    "m"
   ]
  },
  {
   "cell_type": "markdown",
   "metadata": {},
   "source": [
    "### 5. Create Mosaic"
   ]
  },
  {
   "cell_type": "code",
   "execution_count": null,
   "metadata": {},
   "outputs": [],
   "source": [
    "from rio_tiler.io import COGReader\n",
    "from cogeo_mosaic.mosaic import MosaicJSON\n",
    "from cogeo_mosaic.backends import MosaicBackend\n",
    "\n",
    "with COGReader(files[0]) as cog:\n",
    "    info = cog.info()\n",
    "    print(info.minzoom)\n",
    "    print(info.maxzoom)"
   ]
  },
  {
   "cell_type": "code",
   "execution_count": null,
   "metadata": {},
   "outputs": [],
   "source": [
    "\n",
    "# We are creating the mosaicJSON using the features we created earlier\n",
    "# by default MosaicJSON.from_feature will look in feature.properties.path to get the path of the dataset\n",
    "mosaicdata = MosaicJSON.from_features(features, minzoom=info.minzoom, maxzoom=info.maxzoom)\n",
    "with MosaicBackend(\"NOAA_Nashville_Tornado.json.gz\", mosaic_def=mosaicdata) as mosaic:\n",
    "    mosaic.write(overwrite=True)\n",
    "    print(mosaic.info())"
   ]
  },
  {
   "cell_type": "code",
   "execution_count": null,
   "metadata": {
    "tags": []
   },
   "outputs": [],
   "source": [
    "titiler_endpoint = \"https://titiler.xyz\"  # Developmentseed Demo endpoint. Please be kind.\n",
    "\n",
    "r = httpx.get(\n",
    "    f\"{titiler_endpoint}/mosaicjson/tilejson.json\",\n",
    "    params={\n",
    "        # For this demo we are use the same mosaic but stored on the web\n",
    "        \"url\": \"https://gist.githubusercontent.com/vincentsarago/c6ace3ccd29a82a4a5531693bbcd61fc/raw/e0d0174a64a9acd2fb820f2c65b1830aab80f52b/NOAA_Nashville_Tornado.json\" \n",
    "    }\n",
    ").json()\n",
    "print(r)\n",
    "\n",
    "m = Map(\n",
    "    location=((bounds[1] + bounds[3]) / 2,(bounds[0] + bounds[2]) / 2),\n",
    "    zoom_start=13\n",
    ")\n",
    "\n",
    "tiles = TileLayer(\n",
    "    tiles=r[\"tiles\"][0],\n",
    "    min_zoom=r[\"minzoom\"],\n",
    "    max_zoom=r[\"maxzoom\"],\n",
    "    opacity=1,\n",
    "    attr=\"NOAA\"\n",
    ")\n",
    "\n",
    "geo_json = GeoJson(\n",
    "    data=geojson,\n",
    "    style_function=lambda x: {\n",
    "        'opacity': 1, 'dashArray': '1', 'fillOpacity': 0, 'weight': 1\n",
    "    },\n",
    ")\n",
    "tiles.add_to(m)\n",
    "geo_json.add_to(m)\n",
    "m"
   ]
  },
  {
   "cell_type": "code",
   "execution_count": null,
   "metadata": {},
   "outputs": [],
   "source": []
  }
 ],
 "metadata": {
  "kernelspec": {
   "display_name": "Python 3 (ipykernel)",
   "language": "python",
   "name": "python3"
  },
  "language_info": {
   "codemirror_mode": {
    "name": "ipython",
    "version": 3
   },
   "file_extension": ".py",
   "mimetype": "text/x-python",
   "name": "python",
   "nbconvert_exporter": "python",
   "pygments_lexer": "ipython3",
   "version": "3.9.17"
  }
 },
 "nbformat": 4,
 "nbformat_minor": 4
}
