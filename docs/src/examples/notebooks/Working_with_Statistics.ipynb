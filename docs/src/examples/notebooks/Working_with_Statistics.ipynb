{
 "cells": [
  {
   "cell_type": "markdown",
   "source": [
    "# Working with Statistics"
   ],
   "metadata": {
    "collapsed": false
   }
  },
  {
   "cell_type": "markdown",
   "source": [
    "## Intro\n",
    "\n",
    "Titiler allows you to get statistics and summaries of your data without having to load the entire dataset yourself. These statistics can be summaries of entire COG files, STAC items, or individual parts of the file, specified using GeoJSON.\n",
    "\n",
    "Below, we will go over some of the statistical endpoints in Titiler - `/bounds`, `/info`, and `/statistics`.\n",
    "\n",
    "(Note: these examples will be using the `/cog` endpoint, but everything is also available for `/stac` and `/mosaicjson` unless otherwise noted)"
   ],
   "metadata": {
    "collapsed": false
   }
  },
  {
   "cell_type": "code",
   "execution_count": 24,
   "outputs": [],
   "source": [
    "# setup\n",
    "import httpx\n",
    "import json\n",
    "import geojson\n",
    "\n",
    "titiler_endpoint = \"https://titiler.xyz\"  # Developmentseed Demo endpoint. Please be kind.\n",
    "cog_url = \"https://opendata.digitalglobe.com/events/mauritius-oil-spill/post-event/2020-08-12/105001001F1B5B00/105001001F1B5B00.tif\""
   ],
   "metadata": {
    "collapsed": false
   }
  },
  {
   "cell_type": "markdown",
   "source": [
    "## Bounds\n",
    "\n",
    "The `/bounds` endpoint returns the bounding box of the image/asset. These bounds are returned in the projection EPSG:4326 (WGS84), in the format `(minx, miny, maxx, maxy)`."
   ],
   "metadata": {
    "collapsed": false
   }
  },
  {
   "cell_type": "code",
   "execution_count": 31,
   "outputs": [
    {
     "name": "stdout",
     "output_type": "stream",
     "text": [
      "{'bounds': [57.664053823239804, -20.55473177712791, 57.84021477996238, -20.25261582755764]}\n"
     ]
    }
   ],
   "source": [
    "r = httpx.get(\n",
    "    f\"{titiler_endpoint}/cog/bounds\",\n",
    "    params = {\n",
    "        \"url\": cog_url,\n",
    "    }\n",
    ").json()\n",
    "\n",
    "bounds = r[\"bounds\"]\n",
    "print(r)"
   ],
   "metadata": {
    "collapsed": false
   }
  },
  {
   "cell_type": "markdown",
   "source": [
    "For a bit more information, you can get summary statistics from the `/info` endpoint. This includes info such as:\n",
    "- Bounds (identical to the `/bounds` endpoint)\n",
    "- Min and max zoom\n",
    "- Band metadata, such as names of the bands and their descriptions\n",
    "- Number of bands in the image\n",
    "- Overview levels\n",
    "- Image width and height\n",
    "\n",
    "These are statistics available in the metadata of the image, so should be fast to read.\n"
   ],
   "metadata": {
    "collapsed": false
   }
  },
  {
   "cell_type": "code",
   "execution_count": 40,
   "outputs": [
    {
     "name": "stdout",
     "output_type": "stream",
     "text": [
      "{\"bounds\": [57.664053823239804, -20.55473177712791, 57.84021477996238, -20.25261582755764], \"minzoom\": 10, \"maxzoom\": 18, \"band_metadata\": [[\"b1\", {}], [\"b2\", {}], [\"b3\", {}]], \"band_descriptions\": [[\"b1\", \"\"], [\"b2\", \"\"], [\"b3\", \"\"]], \"dtype\": \"uint8\", \"nodata_type\": \"Mask\", \"colorinterp\": [\"red\", \"green\", \"blue\"], \"width\": 38628, \"driver\": \"GTiff\", \"height\": 66247, \"overviews\": [2, 4, 8, 16, 32, 64, 128], \"count\": 3}\n"
     ]
    }
   ],
   "source": [
    "r = httpx.get(\n",
    "    f\"{titiler_endpoint}/cog/info\",\n",
    "    params = {\n",
    "        \"url\": cog_url,\n",
    "    }\n",
    ").json()\n",
    "\n",
    "print(json.dumps(r))"
   ],
   "metadata": {
    "collapsed": false
   }
  },
  {
   "cell_type": "markdown",
   "source": [
    "## Statistics\n",
    "\n",
    "For even more statistics of the image, you can use the `/statistics` endpoint. This includes even more info, including:\n",
    "- Summary statistics about overall pixel values, such min, max, mean, and count\n",
    "- Histogram of the pixel values\n",
    "- Percentiles\n",
    "\n",
    "Statistics are generated both for the image as a whole and for each band individually."
   ],
   "metadata": {
    "collapsed": false
   }
  },
  {
   "cell_type": "code",
   "execution_count": 41,
   "outputs": [
    {
     "name": "stdout",
     "output_type": "stream",
     "text": [
      "{\"b1\": {\"min\": 0.0, \"max\": 255.0, \"mean\": 36.94901407469342, \"count\": 574080.0, \"sum\": 21211690.0, \"std\": 48.282133573955264, \"median\": 3.0, \"majority\": 1.0, \"minority\": 246.0, \"unique\": 256.0, \"histogram\": [[330584.0, 54820.0, 67683.0, 57434.0, 30305.0, 14648.0, 9606.0, 5653.0, 2296.0, 1051.0], [0.0, 25.5, 51.0, 76.5, 102.0, 127.5, 153.0, 178.5, 204.0, 229.5, 255.0]], \"valid_percent\": 93.75, \"masked_pixels\": 38272.0, \"valid_pixels\": 574080.0, \"percentile_2\": 0.0, \"percentile_98\": 171.0}, \"b2\": {\"min\": 0.0, \"max\": 255.0, \"mean\": 57.1494356187291, \"count\": 574080.0, \"sum\": 32808348.0, \"std\": 56.300819175100656, \"median\": 37.0, \"majority\": 5.0, \"minority\": 0.0, \"unique\": 256.0, \"histogram\": [[271018.0, 34938.0, 54030.0, 69429.0, 70260.0, 32107.0, 29375.0, 9697.0, 2001.0, 1225.0], [0.0, 25.5, 51.0, 76.5, 102.0, 127.5, 153.0, 178.5, 204.0, 229.5, 255.0]], \"valid_percent\": 93.75, \"masked_pixels\": 38272.0, \"valid_pixels\": 574080.0, \"percentile_2\": 5.0, \"percentile_98\": 180.0}, \"b3\": {\"min\": 0.0, \"max\": 255.0, \"mean\": 51.251764562430324, \"count\": 574080.0, \"sum\": 29422613.0, \"std\": 39.65505035854822, \"median\": 36.0, \"majority\": 16.0, \"minority\": 252.0, \"unique\": 254.0, \"histogram\": [[203263.0, 150865.0, 104882.0, 42645.0, 30652.0, 25382.0, 12434.0, 2397.0, 1097.0, 463.0], [0.0, 25.5, 51.0, 76.5, 102.0, 127.5, 153.0, 178.5, 204.0, 229.5, 255.0]], \"valid_percent\": 93.75, \"masked_pixels\": 38272.0, \"valid_pixels\": 574080.0, \"percentile_2\": 14.0, \"percentile_98\": 158.0}}\n"
     ]
    }
   ],
   "source": [
    "r = httpx.get(\n",
    "    f\"{titiler_endpoint}/cog/statistics\",\n",
    "    params = {\n",
    "        \"url\": cog_url,\n",
    "    }\n",
    ").json()\n",
    "\n",
    "print(json.dumps(r))"
   ],
   "metadata": {
    "collapsed": false
   }
  },
  {
   "cell_type": "markdown",
   "source": [
    "This endpoint is far more configurable than `/bounds` and `info`. You can specify which bands to analyse, how to generate the histogram, and pre-process the image.\n",
    "\n",
    "For example, if you wanted to get the statistics of the [VARI](https://www.space4water.org/space/visible-atmospherically-resistant-index-vari) of the image you can use the `expression` parameter to conduct simple band math:"
   ],
   "metadata": {
    "collapsed": false
   }
  },
  {
   "cell_type": "code",
   "execution_count": 42,
   "outputs": [
    {
     "name": "stdout",
     "output_type": "stream",
     "text": [
      "{\"(b2-b1)/(b1+b2-b3)\": {\"min\": -1.7976931348623157e+308, \"max\": 1.7976931348623157e+308, \"mean\": null, \"count\": 574080.0, \"sum\": null, \"std\": null, \"median\": -0.15384615384615385, \"majority\": -0.4, \"minority\": -149.0, \"unique\": 18718.0, \"histogram\": [[5646.0, 10176.0, 130905.0, 97746.0, 50184.0, 95842.0, 60322.0, 21478.0, 13552.0, 12204.0], [-1.0, -0.8, -0.6, -0.3999999999999999, -0.19999999999999996, 0.0, 0.20000000000000018, 0.40000000000000013, 0.6000000000000001, 0.8, 1.0]], \"valid_percent\": 93.75, \"masked_pixels\": 38272.0, \"valid_pixels\": 574080.0, \"percentile_98\": 3.3870967741935485, \"percentile_2\": -3.5}}\n"
     ]
    }
   ],
   "source": [
    "r = httpx.get(\n",
    "    f\"{titiler_endpoint}/cog/statistics\",\n",
    "    params = {\n",
    "        \"url\": cog_url,\n",
    "        \"expression\": \"(b2-b1)/(b1+b2-b3)\", # expression for the VARI\n",
    "        \"histogram_range\": \"-1,1\"\n",
    "    }\n",
    ").json()\n",
    "\n",
    "print(json.dumps(r))"
   ],
   "metadata": {
    "collapsed": false
   }
  },
  {
   "cell_type": "markdown",
   "source": [
    "Alternatively, if you would like to get statistics for only a certain area, you can specify an area via a feature or a feature collection.\n",
    "\n",
    "(Note: this endpoint is not available in the mosaicjson endpoint, only `/cog` and `/stac`)"
   ],
   "metadata": {
    "collapsed": false
   }
  },
  {
   "cell_type": "code",
   "execution_count": 37,
   "outputs": [
    {
     "data": {
      "text/plain": "{\"features\": [{\"geometry\": {\"coordinates\": [[[57.703589, -20.384115], [57.685649, -20.384115], [57.682095, -20.398551], [57.686665, -20.421075], [57.70342, -20.434397], [57.729991, -20.42393], [57.703589, -20.384115]]], \"type\": \"Polygon\"}, \"properties\": {}, \"type\": \"Feature\"}], \"type\": \"FeatureCollection\"}"
     },
     "execution_count": 37,
     "metadata": {},
     "output_type": "execute_result"
    }
   ],
   "source": [
    "# Load a geojson of an area around Mahebourg, Mauritius\n",
    "mahebourg = geojson.loads(\"\"\"\n",
    "{\n",
    "  \"type\": \"FeatureCollection\",\n",
    "  \"features\": [\n",
    "    {\n",
    "      \"type\": \"Feature\",\n",
    "      \"properties\": {},\n",
    "      \"geometry\": {\n",
    "        \"coordinates\": [\n",
    "          [\n",
    "            [\n",
    "              57.70358910197049,\n",
    "              -20.384114558699935\n",
    "            ],\n",
    "            [\n",
    "              57.68564920588395,\n",
    "              -20.384114558699935\n",
    "            ],\n",
    "            [\n",
    "              57.68209507552771,\n",
    "              -20.39855066753664\n",
    "            ],\n",
    "            [\n",
    "              57.68666467170024,\n",
    "              -20.421074640746554\n",
    "            ],\n",
    "            [\n",
    "              57.70341985766697,\n",
    "              -20.434397129770545\n",
    "            ],\n",
    "            [\n",
    "              57.72999121319131,\n",
    "              -20.42392955694521\n",
    "            ],\n",
    "            [\n",
    "              57.70358910197049,\n",
    "              -20.384114558699935\n",
    "            ]\n",
    "          ]\n",
    "        ],\n",
    "        \"type\": \"Polygon\"\n",
    "      }\n",
    "    }\n",
    "  ]\n",
    "}\n",
    "\"\"\")\n",
    "mahebourg"
   ],
   "metadata": {
    "collapsed": false
   }
  },
  {
   "cell_type": "code",
   "execution_count": 43,
   "outputs": [
    {
     "name": "stdout",
     "output_type": "stream",
     "text": [
      "{\"type\": \"FeatureCollection\", \"features\": [{\"type\": \"Feature\", \"geometry\": {\"type\": \"Polygon\", \"coordinates\": [[[57.703589, -20.384115], [57.685649, -20.384115], [57.682095, -20.398551], [57.686665, -20.421075], [57.70342, -20.434397], [57.729991, -20.42393], [57.703589, -20.384115]]]}, \"properties\": {\"statistics\": {\"b1\": {\"min\": 0.0, \"max\": 255.0, \"mean\": 88.54281790690244, \"count\": 619694.0, \"sum\": 54869453.0, \"std\": 55.188024956153264, \"median\": 77.0, \"majority\": 52.0, \"minority\": 253.0, \"unique\": 256.0, \"histogram\": [[67280.0, 110093.0, 129214.0, 90807.0, 77093.0, 44028.0, 44602.0, 37775.0, 18037.0, 765.0], [0.0, 25.5, 51.0, 76.5, 102.0, 127.5, 153.0, 178.5, 204.0, 229.5, 255.0]], \"valid_percent\": 62.01, \"masked_pixels\": 379730.0, \"valid_pixels\": 619694.0, \"percentile_2\": 4.0, \"percentile_98\": 208.0}, \"b2\": {\"min\": 0.0, \"max\": 255.0, \"mean\": 112.06287458003466, \"count\": 619694.0, \"sum\": 69444691.0, \"std\": 42.647473891244296, \"median\": 107.0, \"majority\": 103.0, \"minority\": 1.0, \"unique\": 256.0, \"histogram\": [[6005.0, 31142.0, 107192.0, 126887.0, 130738.0, 73624.0, 107855.0, 33227.0, 2397.0, 627.0], [0.0, 25.5, 51.0, 76.5, 102.0, 127.5, 153.0, 178.5, 204.0, 229.5, 255.0]], \"valid_percent\": 62.01, \"masked_pixels\": 379730.0, \"valid_pixels\": 619694.0, \"percentile_2\": 34.0, \"percentile_98\": 189.0}, \"b3\": {\"min\": 0.0, \"max\": 255.0, \"mean\": 84.53795582981277, \"count\": 619694.0, \"sum\": 52387664.0, \"std\": 44.64971092863921, \"median\": 77.0, \"majority\": 53.0, \"minority\": 254.0, \"unique\": 256.0, \"histogram\": [[40727.0, 130339.0, 138038.0, 85857.0, 86372.0, 91206.0, 41831.0, 4111.0, 1000.0, 213.0], [0.0, 25.5, 51.0, 76.5, 102.0, 127.5, 153.0, 178.5, 204.0, 229.5, 255.0]], \"valid_percent\": 62.01, \"masked_pixels\": 379730.0, \"valid_pixels\": 619694.0, \"percentile_2\": 11.0, \"percentile_98\": 170.0}}}}]}\n"
     ]
    }
   ],
   "source": [
    "# NOTE: This is a POST request, unlike all other requests in this example\n",
    "r = httpx.post(\n",
    "    f\"{titiler_endpoint}/cog/statistics\",\n",
    "    data=json.dumps(mahebourg),\n",
    "    params = {\n",
    "        \"url\": cog_url,\n",
    "    }\n",
    ").json()\n",
    "\n",
    "print(json.dumps(r))\n"
   ],
   "metadata": {
    "collapsed": false
   }
  }
 ],
 "metadata": {
  "kernelspec": {
   "display_name": "Python 3",
   "language": "python",
   "name": "python3"
  },
  "language_info": {
   "codemirror_mode": {
    "name": "ipython",
    "version": 2
   },
   "file_extension": ".py",
   "mimetype": "text/x-python",
   "name": "python",
   "nbconvert_exporter": "python",
   "pygments_lexer": "ipython2",
   "version": "2.7.6"
  }
 },
 "nbformat": 4,
 "nbformat_minor": 0
}
