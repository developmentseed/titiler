{
 "cells": [
  {
   "cell_type": "markdown",
   "source": [
    "# Working with Statistics"
   ],
   "metadata": {
    "collapsed": false
   }
  },
  {
   "cell_type": "markdown",
   "source": [
    "## Intro\n",
    "\n",
    "Titiler allows you to get statistics and summaries of your data without having to load the entire dataset yourself. These statistics can be summaries of entire COG files, STAC items, or individual parts of the file, specified using GeoJSON.\n",
    "\n",
    "Below, we will go over some of the statistical endpoints in Titiler - `/bounds`, `/info`, and `/statistics`.\n",
    "\n",
    "(Note: these examples will be using the `/cog` endpoint, but everything is also available for `/stac` and `/mosaicjson` unless otherwise noted)"
   ],
   "metadata": {
    "collapsed": false
   }
  },
  {
   "cell_type": "code",
   "execution_count": 2,
   "outputs": [],
   "source": [
    "# setup\n",
    "import httpx\n",
    "import json\n",
    "import geojson\n",
    "\n",
    "titiler_endpoint = \"https://titiler.xyz\"  # Developmentseed Demo endpoint. Please be kind.\n",
    "cog_url = \"https://opendata.digitalglobe.com/events/mauritius-oil-spill/post-event/2020-08-12/105001001F1B5B00/105001001F1B5B00.tif\""
   ],
   "metadata": {
    "collapsed": false
   }
  },
  {
   "cell_type": "markdown",
   "source": [
    "## Bounds\n",
    "\n",
    "The `/bounds` endpoint returns the bounding box of the image/asset. These bounds are returned in the projection EPSG:4326 (WGS84), in the format `(minx, miny, maxx, maxy)`."
   ],
   "metadata": {
    "collapsed": false
   }
  },
  {
   "cell_type": "code",
   "execution_count": 3,
   "outputs": [
    {
     "name": "stdout",
     "output_type": "stream",
     "text": [
      "{'bounds': [57.664053823239804, -20.55473177712791, 57.84021477996238, -20.25261582755764]}\n"
     ]
    }
   ],
   "source": [
    "r = httpx.get(\n",
    "    f\"{titiler_endpoint}/cog/bounds\",\n",
    "    params = {\n",
    "        \"url\": cog_url,\n",
    "    }\n",
    ").json()\n",
    "\n",
    "bounds = r[\"bounds\"]\n",
    "print(r)"
   ],
   "metadata": {
    "collapsed": false
   }
  },
  {
   "cell_type": "markdown",
   "source": [
    "For a bit more information, you can get summary statistics from the `/info` endpoint. This includes info such as:\n",
    "- Bounds (identical to the `/bounds` endpoint)\n",
    "- Min and max zoom\n",
    "- Band metadata, such as names of the bands and their descriptions\n",
    "- Number of bands in the image\n",
    "- Overview levels\n",
    "- Image width and height\n",
    "\n",
    "These are statistics available in the metadata of the image, so should be fast to read.\n"
   ],
   "metadata": {
    "collapsed": false
   }
  },
  {
   "cell_type": "code",
   "execution_count": 24,
   "outputs": [
    {
     "name": "stdout",
     "output_type": "stream",
     "text": [
      "{\n",
      "    \"bounds\": [\n",
      "        57.664053823239804,\n",
      "        -20.55473177712791,\n",
      "        57.84021477996238,\n",
      "        -20.25261582755764\n",
      "    ],\n",
      "    \"minzoom\": 10,\n",
      "    \"maxzoom\": 18,\n",
      "    \"band_metadata\": [\n",
      "        [\n",
      "            \"b1\",\n",
      "            {}\n",
      "        ],\n",
      "        [\n",
      "            \"b2\",\n",
      "            {}\n",
      "        ],\n",
      "        [\n",
      "            \"b3\",\n",
      "            {}\n",
      "        ]\n",
      "    ],\n",
      "    \"band_descriptions\": [\n",
      "        [\n",
      "            \"b1\",\n",
      "            \"\"\n",
      "        ],\n",
      "        [\n",
      "            \"b2\",\n",
      "            \"\"\n",
      "        ],\n",
      "        [\n",
      "            \"b3\",\n",
      "            \"\"\n",
      "        ]\n",
      "    ],\n",
      "    \"dtype\": \"uint8\",\n",
      "    \"nodata_type\": \"Mask\",\n",
      "    \"colorinterp\": [\n",
      "        \"red\",\n",
      "        \"green\",\n",
      "        \"blue\"\n",
      "    ],\n",
      "    \"count\": 3,\n",
      "    \"width\": 38628,\n",
      "    \"height\": 66247,\n",
      "    \"driver\": \"GTiff\",\n",
      "    \"overviews\": [\n",
      "        2,\n",
      "        4,\n",
      "        8,\n",
      "        16,\n",
      "        32,\n",
      "        64,\n",
      "        128\n",
      "    ]\n",
      "}\n"
     ]
    }
   ],
   "source": [
    "r = httpx.get(\n",
    "    f\"{titiler_endpoint}/cog/info\",\n",
    "    params = {\n",
    "        \"url\": cog_url,\n",
    "    }\n",
    ").json()\n",
    "\n",
    "print(json.dumps(r))"
   ],
   "metadata": {
    "collapsed": false
   }
  },
  {
   "cell_type": "markdown",
   "source": [
    "## Statistics\n",
    "\n",
    "For even more statistics of the image, you can use the `/statistics` endpoint. This includes even more info, including:\n",
    "- Summary statistics about overall pixel values, such min, max, mean, and count\n",
    "- Histogram of the pixel values\n",
    "- Percentiles\n",
    "\n",
    "Statistics are generated both for the image as a whole and for each band individually."
   ],
   "metadata": {
    "collapsed": false
   }
  },
  {
   "cell_type": "code",
   "execution_count": 10,
   "outputs": [
    {
     "name": "stdout",
     "output_type": "stream",
     "text": [
      "{\n",
      "    \"min\": 0.0,\n",
      "    \"max\": 255.0,\n",
      "    \"mean\": 36.94901407469342,\n",
      "    \"count\": 574080.0,\n",
      "    \"sum\": 21211690.0,\n",
      "    \"std\": 48.282133573955264,\n",
      "    \"median\": 3.0,\n",
      "    \"majority\": 1.0,\n",
      "    \"minority\": 246.0,\n",
      "    \"unique\": 256.0,\n",
      "    \"histogram\": [\n",
      "        [\n",
      "            330584.0,\n",
      "            54820.0,\n",
      "            67683.0,\n",
      "            57434.0,\n",
      "            30305.0,\n",
      "            14648.0,\n",
      "            9606.0,\n",
      "            5653.0,\n",
      "            2296.0,\n",
      "            1051.0\n",
      "        ],\n",
      "        [\n",
      "            0.0,\n",
      "            25.5,\n",
      "            51.0,\n",
      "            76.5,\n",
      "            102.0,\n",
      "            127.5,\n",
      "            153.0,\n",
      "            178.5,\n",
      "            204.0,\n",
      "            229.5,\n",
      "            255.0\n",
      "        ]\n",
      "    ],\n",
      "    \"valid_percent\": 93.75,\n",
      "    \"masked_pixels\": 38272.0,\n",
      "    \"valid_pixels\": 574080.0,\n",
      "    \"percentile_98\": 171.0,\n",
      "    \"percentile_2\": 0.0\n",
      "}\n"
     ]
    }
   ],
   "source": [
    "r = httpx.get(\n",
    "    f\"{titiler_endpoint}/cog/statistics\",\n",
    "    params = {\n",
    "        \"url\": cog_url,\n",
    "    }\n",
    ").json()\n",
    "\n",
    "print(json.dumps(r))"
   ],
   "metadata": {
    "collapsed": false
   }
  },
  {
   "cell_type": "markdown",
   "source": [
    "This endpoint is far more configurable than `/bounds` and `info`. You can specify which bands to analyse, how to generate the histogram, and pre-process the image.\n",
    "\n",
    "For example, if you wanted to get the statistics of the [VARI](https://www.space4water.org/space/visible-atmospherically-resistant-index-vari) of the image you can use the `expression` parameter to conduct simple band math:"
   ],
   "metadata": {
    "collapsed": false
   }
  },
  {
   "cell_type": "code",
   "execution_count": 11,
   "outputs": [
    {
     "name": "stdout",
     "output_type": "stream",
     "text": [
      "{\n",
      "    \"(b2-b1)/(b1+b2-b3)\": {\n",
      "        \"min\": -1.7976931348623157e+308,\n",
      "        \"max\": 1.7976931348623157e+308,\n",
      "        \"mean\": null,\n",
      "        \"count\": 574080.0,\n",
      "        \"sum\": null,\n",
      "        \"std\": null,\n",
      "        \"median\": -0.15384615384615385,\n",
      "        \"majority\": -0.4,\n",
      "        \"minority\": -149.0,\n",
      "        \"unique\": 18718.0,\n",
      "        \"histogram\": [\n",
      "            [\n",
      "                5646.0,\n",
      "                10176.0,\n",
      "                130905.0,\n",
      "                97746.0,\n",
      "                50184.0,\n",
      "                95842.0,\n",
      "                60322.0,\n",
      "                21478.0,\n",
      "                13552.0,\n",
      "                12204.0\n",
      "            ],\n",
      "            [\n",
      "                -1.0,\n",
      "                -0.8,\n",
      "                -0.6,\n",
      "                -0.3999999999999999,\n",
      "                -0.19999999999999996,\n",
      "                0.0,\n",
      "                0.20000000000000018,\n",
      "                0.40000000000000013,\n",
      "                0.6000000000000001,\n",
      "                0.8,\n",
      "                1.0\n",
      "            ]\n",
      "        ],\n",
      "        \"valid_percent\": 93.75,\n",
      "        \"masked_pixels\": 38272.0,\n",
      "        \"valid_pixels\": 574080.0,\n",
      "        \"percentile_98\": 3.3870967741935485,\n",
      "        \"percentile_2\": -3.5\n",
      "    }\n",
      "}\n"
     ]
    }
   ],
   "source": [
    "r = httpx.get(\n",
    "    f\"{titiler_endpoint}/cog/statistics\",\n",
    "    params = {\n",
    "        \"url\": cog_url,\n",
    "        \"expression\": \"(b2-b1)/(b1+b2-b3)\", # expression for the VARI\n",
    "        \"histogram_range\": \"-1,1\"\n",
    "    }\n",
    ").json()\n",
    "\n",
    "print(json.dumps(r))"
   ],
   "metadata": {
    "collapsed": false
   }
  },
  {
   "cell_type": "markdown",
   "source": [
    "Alternatively, if you would like to get statistics for only a certain area, you can specify an area via a feature or a feature collection.\n",
    "\n",
    "(Note: this endpoint is not available in the mosaicjson endpoint, only `/cog` and `/stac`)"
   ],
   "metadata": {
    "collapsed": false
   }
  },
  {
   "cell_type": "code",
   "execution_count": 25,
   "outputs": [
    {
     "data": {
      "text/plain": "{\"features\": [{\"geometry\": {\"coordinates\": [[[57.703589, -20.384115], [57.685649, -20.384115], [57.682095, -20.398551], [57.686665, -20.421075], [57.70342, -20.434397], [57.729991, -20.42393], [57.703589, -20.384115]]], \"type\": \"Polygon\"}, \"properties\": {}, \"type\": \"Feature\"}], \"type\": \"FeatureCollection\"}"
     },
     "execution_count": 25,
     "metadata": {},
     "output_type": "execute_result"
    }
   ],
   "source": [
    "# Load a geojson of an area around Mahebourg, Mauritius\n",
    "mahebourg = geojson.loads(\"\"\"\n",
    "{\n",
    "  \"type\": \"FeatureCollection\",\n",
    "  \"features\": [\n",
    "    {\n",
    "      \"type\": \"Feature\",\n",
    "      \"properties\": {},\n",
    "      \"geometry\": {\n",
    "        \"coordinates\": [\n",
    "          [\n",
    "            [\n",
    "              57.70358910197049,\n",
    "              -20.384114558699935\n",
    "            ],\n",
    "            [\n",
    "              57.68564920588395,\n",
    "              -20.384114558699935\n",
    "            ],\n",
    "            [\n",
    "              57.68209507552771,\n",
    "              -20.39855066753664\n",
    "            ],\n",
    "            [\n",
    "              57.68666467170024,\n",
    "              -20.421074640746554\n",
    "            ],\n",
    "            [\n",
    "              57.70341985766697,\n",
    "              -20.434397129770545\n",
    "            ],\n",
    "            [\n",
    "              57.72999121319131,\n",
    "              -20.42392955694521\n",
    "            ],\n",
    "            [\n",
    "              57.70358910197049,\n",
    "              -20.384114558699935\n",
    "            ]\n",
    "          ]\n",
    "        ],\n",
    "        \"type\": \"Polygon\"\n",
    "      }\n",
    "    }\n",
    "  ]\n",
    "}\n",
    "\"\"\")\n",
    "mahebourg"
   ],
   "metadata": {
    "collapsed": false
   }
  },
  {
   "cell_type": "code",
   "execution_count": 23,
   "outputs": [
    {
     "name": "stdout",
     "output_type": "stream",
     "text": [
      "{\n",
      "    \"min\": 0.0,\n",
      "    \"max\": 255.0,\n",
      "    \"mean\": 88.54281790690244,\n",
      "    \"count\": 619694.0,\n",
      "    \"sum\": 54869453.0,\n",
      "    \"std\": 55.188024956153264,\n",
      "    \"median\": 77.0,\n",
      "    \"majority\": 52.0,\n",
      "    \"minority\": 253.0,\n",
      "    \"unique\": 256.0,\n",
      "    \"histogram\": [\n",
      "        [\n",
      "            67280.0,\n",
      "            110093.0,\n",
      "            129214.0,\n",
      "            90807.0,\n",
      "            77093.0,\n",
      "            44028.0,\n",
      "            44602.0,\n",
      "            37775.0,\n",
      "            18037.0,\n",
      "            765.0\n",
      "        ],\n",
      "        [\n",
      "            0.0,\n",
      "            25.5,\n",
      "            51.0,\n",
      "            76.5,\n",
      "            102.0,\n",
      "            127.5,\n",
      "            153.0,\n",
      "            178.5,\n",
      "            204.0,\n",
      "            229.5,\n",
      "            255.0\n",
      "        ]\n",
      "    ],\n",
      "    \"valid_percent\": 62.01,\n",
      "    \"masked_pixels\": 379730.0,\n",
      "    \"valid_pixels\": 619694.0,\n",
      "    \"percentile_98\": 208.0,\n",
      "    \"percentile_2\": 4.0\n",
      "}\n"
     ]
    }
   ],
   "source": [
    "# NOTE: This is a POST request, unlike all other requests in this example\n",
    "r = httpx.post(\n",
    "    f\"{titiler_endpoint}/cog/statistics\",\n",
    "    data=json.dumps(mahebourg),\n",
    "    params = {\n",
    "        \"url\": cog_url,\n",
    "    }\n",
    ").json()\n",
    "\n",
    "print(json.dumps(r))\n"
   ],
   "metadata": {
    "collapsed": false
   }
  }
 ],
 "metadata": {
  "kernelspec": {
   "display_name": "Python 3",
   "language": "python",
   "name": "python3"
  },
  "language_info": {
   "codemirror_mode": {
    "name": "ipython",
    "version": 2
   },
   "file_extension": ".py",
   "mimetype": "text/x-python",
   "name": "python",
   "nbconvert_exporter": "python",
   "pygments_lexer": "ipython2",
   "version": "2.7.6"
  }
 },
 "nbformat": 4,
 "nbformat_minor": 0
}
